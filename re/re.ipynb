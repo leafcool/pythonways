{
 "cells": [
  {
   "cell_type": "code",
   "execution_count": 3,
   "metadata": {
    "collapsed": true,
    "pycharm": {
     "name": "#%%\n"
    }
   },
   "outputs": [
    {
     "data": {
      "text/plain": "'foo'"
     },
     "execution_count": 3,
     "metadata": {},
     "output_type": "execute_result"
    }
   ],
   "source": [
    "import re\n",
    "m=re.compile(\"foo\")\n",
    "s=re.match(m,'foo')\n",
    "s.group()"
   ]
  },
  {
   "cell_type": "code",
   "execution_count": 9,
   "outputs": [],
   "source": [
    "n=re.match('foo','food on the table')\n",
    "n.group()\n",
    "\n",
    "m=re.search('ff','sjjhjhffsjjh')\n",
    "if m is not  None:\n",
    "    m.group()"
   ],
   "metadata": {
    "collapsed": false,
    "pycharm": {
     "name": "#%%\n"
    }
   }
  },
  {
   "cell_type": "code",
   "execution_count": 18,
   "outputs": [],
   "source": [
    "bt = 'bat|bet|bit'\n",
    "m=re.match(bt,'bat')\n",
    "if m is not None:\n",
    "    m.group()\n",
    "m = re.search(bt, 'He bit me!')\n",
    "if m is None:m.group()\n"
   ],
   "metadata": {
    "collapsed": false,
    "pycharm": {
     "name": "#%%\n"
    }
   }
  },
  {
   "cell_type": "code",
   "execution_count": 28,
   "outputs": [
    {
     "ename": "AttributeError",
     "evalue": "'NoneType' object has no attribute 'group'",
     "output_type": "error",
     "traceback": [
      "\u001B[1;31m---------------------------------------------------------------------------\u001B[0m",
      "\u001B[1;31mAttributeError\u001B[0m                            Traceback (most recent call last)",
      "\u001B[1;32m<ipython-input-28-a4df61c5807f>\u001B[0m in \u001B[0;36m<module>\u001B[1;34m\u001B[0m\n\u001B[0;32m     15\u001B[0m \u001B[1;31m# m=re.match(patt, 'nobody@xxx.com')\u001B[0m\u001B[1;33m\u001B[0m\u001B[1;33m\u001B[0m\u001B[1;33m\u001B[0m\u001B[0m\n\u001B[0;32m     16\u001B[0m \u001B[1;31m# m.group()\u001B[0m\u001B[1;33m\u001B[0m\u001B[1;33m\u001B[0m\u001B[1;33m\u001B[0m\u001B[0m\n\u001B[1;32m---> 17\u001B[1;33m \u001B[0mre\u001B[0m\u001B[1;33m.\u001B[0m\u001B[0mmatch\u001B[0m\u001B[1;33m(\u001B[0m\u001B[0mpatt\u001B[0m\u001B[1;33m,\u001B[0m \u001B[1;34m'nobody@www.xxx.com'\u001B[0m\u001B[1;33m)\u001B[0m\u001B[1;33m.\u001B[0m\u001B[0mgroup\u001B[0m\u001B[1;33m(\u001B[0m\u001B[1;33m)\u001B[0m\u001B[1;33m\u001B[0m\u001B[1;33m\u001B[0m\u001B[0m\n\u001B[0m",
      "\u001B[1;31mAttributeError\u001B[0m: 'NoneType' object has no attribute 'group'"
     ]
    }
   ],
   "source": [
    "patt314='3.14'\n",
    "pi='3\\.14'\n",
    "m=re.match(pi,'3.14')\n",
    "if m is not None:\n",
    "    m.group()\n",
    "m=re.match(patt314,'3014')\n",
    "if m is not  None:\n",
    "    m.group()\n",
    "\n",
    "m=re.match(patt314,'3.14')\n",
    "if m is  not None:\n",
    "    m.group()\n",
    "\n",
    "patt='\\w+@(\\w+\\.)?\\W+\\.com'\n",
    "# m=re.match(patt, 'nobody@xxx.com')\n",
    "# m.group()\n",
    "re.match(patt, 'nobody@www.xxx.com').group()"
   ],
   "metadata": {
    "collapsed": false,
    "pycharm": {
     "name": "#%%\n"
    }
   }
  },
  {
   "cell_type": "code",
   "execution_count": 35,
   "outputs": [
    {
     "name": "stdout",
     "output_type": "stream",
     "text": [
      "abc-456\n",
      "abc\n",
      "456\n"
     ]
    },
    {
     "ename": "IndexError",
     "evalue": "no such group",
     "output_type": "error",
     "traceback": [
      "\u001B[1;31m---------------------------------------------------------------------------\u001B[0m",
      "\u001B[1;31mIndexError\u001B[0m                                Traceback (most recent call last)",
      "\u001B[1;32m<ipython-input-35-23630b379e9d>\u001B[0m in \u001B[0;36m<module>\u001B[1;34m\u001B[0m\n\u001B[0;32m      5\u001B[0m \u001B[0mm\u001B[0m\u001B[1;33m.\u001B[0m\u001B[0mgroup\u001B[0m\u001B[1;33m(\u001B[0m\u001B[1;33m)\u001B[0m\u001B[1;33m\u001B[0m\u001B[1;33m\u001B[0m\u001B[0m\n\u001B[0;32m      6\u001B[0m \u001B[1;32mfor\u001B[0m \u001B[0mi\u001B[0m \u001B[1;32min\u001B[0m \u001B[0mrange\u001B[0m\u001B[1;33m(\u001B[0m\u001B[1;36m5\u001B[0m\u001B[1;33m)\u001B[0m\u001B[1;33m:\u001B[0m\u001B[1;33m\u001B[0m\u001B[1;33m\u001B[0m\u001B[0m\n\u001B[1;32m----> 7\u001B[1;33m     \u001B[0mprint\u001B[0m\u001B[1;33m(\u001B[0m\u001B[0mm\u001B[0m\u001B[1;33m.\u001B[0m\u001B[0mgroup\u001B[0m\u001B[1;33m(\u001B[0m\u001B[0mi\u001B[0m\u001B[1;33m)\u001B[0m\u001B[1;33m)\u001B[0m\u001B[1;33m\u001B[0m\u001B[1;33m\u001B[0m\u001B[0m\n\u001B[0m",
      "\u001B[1;31mIndexError\u001B[0m: no such group"
     ]
    }
   ],
   "source": [
    "m=re.match('\\w\\w\\w=\\d\\d\\d','abc=156')\n",
    "if m is not None:\n",
    "    m.group()\n",
    "m=re.match('(\\w\\w\\w)-(\\d\\d\\d)','abc-456')\n",
    "m.group()\n",
    "for i in range(5):\n",
    "    print(m.group(i))"
   ],
   "metadata": {
    "collapsed": false,
    "pycharm": {
     "name": "#%%\n"
    }
   }
  },
  {
   "cell_type": "code",
   "execution_count": 3,
   "outputs": [
    {
     "name": "stdout",
     "output_type": "stream",
     "text": [
      "age is in (20,80)\n"
     ]
    }
   ],
   "source": [
    "s_age=input()\n",
    "age=int(s_age)\n",
    "assert  20<age<80\n",
    "print('age is in (20,80)')\n"
   ],
   "metadata": {
    "collapsed": false,
    "pycharm": {
     "name": "#%%\n"
    }
   }
  },
  {
   "cell_type": "code",
   "execution_count": 6,
   "outputs": [
    {
     "name": "stdout",
     "output_type": "stream",
     "text": [
      "[21, 45, 45, 45, 12] [1, 4, 7, 1, 412, 46, 34] [512, 5]\n"
     ]
    }
   ],
   "source": [
    "a=[12,45,34,46,5,412,45,1,45,7,21,4,512,1]\n",
    "b,c,d=[],[],[]\n",
    "while len(a)>0:\n",
    "    ele=a.pop()\n",
    "    if ele%3==0:\n",
    "        b.append(ele)\n",
    "    elif ele%3==1:\n",
    "        c.append(ele)\n",
    "    elif ele%3==2:\n",
    "        d.append(ele)\n",
    "print(b,c,d)"
   ],
   "metadata": {
    "collapsed": false,
    "pycharm": {
     "name": "#%%\n"
    }
   }
  },
  {
   "cell_type": "code",
   "execution_count": 8,
   "outputs": [
    {
     "name": "stdout",
     "output_type": "stream",
     "text": [
      "12 1\n",
      "45 3\n",
      "34 1\n",
      "46 1\n",
      "5 1\n",
      "412 1\n",
      "1 2\n",
      "7 1\n",
      "21 1\n",
      "4 1\n",
      "512 1\n"
     ]
    }
   ],
   "source": [
    "a=[12,45,34,46,5,412,45,1,45,7,21,4,512,1]\n",
    "statics={}\n",
    "for ele in a:\n",
    "    if ele in statics:\n",
    "        statics[ele]+=1\n",
    "    else:\n",
    "        statics[ele]=1\n",
    "for key,value in statics.items():\n",
    "    print(key,value)\n",
    "\n",
    "\n"
   ],
   "metadata": {
    "collapsed": false,
    "pycharm": {
     "name": "#%%\n"
    }
   }
  },
  {
   "cell_type": "code",
   "execution_count": 14,
   "outputs": [
    {
     "name": "stdout",
     "output_type": "stream",
     "text": [
      "1 \t\n",
      "24 \t\n",
      "23 \t\n",
      "22 \t\n",
      "21 \t\n",
      "20 \t\n",
      "19 \t\n",
      " \n",
      "\n",
      "2 \t\n",
      "25 \t\n",
      "40 \t\n",
      "39 \t\n",
      "38 \t\n",
      "37 \t\n",
      "18 \t\n",
      " \n",
      "\n",
      "3 \t\n",
      "26 \t\n",
      "41 \t\n",
      "48 \t\n",
      "47 \t\n",
      "36 \t\n",
      "17 \t\n",
      " \n",
      "\n",
      "4 \t\n",
      "27 \t\n",
      "42 \t\n",
      "49 \t\n",
      "46 \t\n",
      "35 \t\n",
      "16 \t\n",
      " \n",
      "\n",
      "5 \t\n",
      "28 \t\n",
      "43 \t\n",
      "44 \t\n",
      "45 \t\n",
      "34 \t\n",
      "15 \t\n",
      " \n",
      "\n",
      "6 \t\n",
      "29 \t\n",
      "30 \t\n",
      "31 \t\n",
      "32 \t\n",
      "33 \t\n",
      "14 \t\n",
      " \n",
      "\n",
      "7 \t\n",
      "8 \t\n",
      "9 \t\n",
      "10 \t\n",
      "11 \t\n",
      "12 \t\n",
      "13 \t\n",
      " \n",
      "\n"
     ]
    }
   ],
   "source": [
    "size=7\n",
    "array=[[0]*size]\n",
    "for i in range(size-1):\n",
    "    array+=[[0]*size]\n",
    "orient=0\n",
    "j=0\n",
    "k=0\n",
    "for i in range(1,size*size+1):\n",
    "    array[j][k]=i\n",
    "    if j+k==size-1:\n",
    "        if j>k:\n",
    "            orient=1\n",
    "        else:\n",
    "            orient=2\n",
    "    elif(k==j) and (k>=size/2):\n",
    "        orient=3\n",
    "    elif (j==k-1) and (k<=size/2):\n",
    "        orient=0\n",
    "    if orient==0:\n",
    "        j+=1\n",
    "    if orient==1:\n",
    "        k+=1\n",
    "    if orient==2:\n",
    "        k-=1\n",
    "    if orient==3:\n",
    "        j-=1\n",
    "\n",
    "for i in range(size):\n",
    "    for j in range(size):\n",
    "        print(array[i][j],'\\t')\n",
    "    print(\" \\n\")\n",
    "\n",
    "\n",
    "\n"
   ],
   "metadata": {
    "collapsed": false,
    "pycharm": {
     "name": "#%%\n"
    }
   }
  },
  {
   "cell_type": "code",
   "execution_count": 15,
   "outputs": [
    {
     "name": "stdout",
     "output_type": "stream",
     "text": [
      " 1 ×  1 =  1\n",
      " 2 x  1 =  2,  2 ×  2 =  4\n",
      " 3 x  1 =  3,  3 x  2 =  6,  3 ×  3 =  9\n",
      " 4 x  1 =  4,  4 x  2 =  8,  4 x  3 = 12,  4 ×  4 = 16\n",
      " 5 x  1 =  5,  5 x  2 = 10,  5 x  3 = 15,  5 x  4 = 20,  5 ×  5 = 25\n",
      " 6 x  1 =  6,  6 x  2 = 12,  6 x  3 = 18,  6 x  4 = 24,  6 x  5 = 30,  6 ×  6 = 36\n",
      " 7 x  1 =  7,  7 x  2 = 14,  7 x  3 = 21,  7 x  4 = 28,  7 x  5 = 35,  7 x  6 = 42,  7 ×  7 = 49\n",
      " 8 x  1 =  8,  8 x  2 = 16,  8 x  3 = 24,  8 x  4 = 32,  8 x  5 = 40,  8 x  6 = 48,  8 x  7 = 56,  8 ×  8 = 64\n",
      " 9 x  1 =  9,  9 x  2 = 18,  9 x  3 = 27,  9 x  4 = 36,  9 x  5 = 45,  9 x  6 = 54,  9 x  7 = 63,  9 x  8 = 72,  9 ×  9 = 81\n"
     ]
    }
   ],
   "source": [
    "for i in range(1,10):\n",
    "    for j in range(1,i+1):\n",
    "        if j<i:\n",
    "            print(\"%2d x %2d = %2d,\"%(i,j,i*j),end=\" \")\n",
    "        else:\n",
    "            print(\"%2d × %2d = %2d\" % (j, i, i * j), end=\"\\n\")\n"
   ],
   "metadata": {
    "collapsed": false,
    "pycharm": {
     "name": "#%%\n"
    }
   }
  }
 ],
 "metadata": {
  "kernelspec": {
   "display_name": "Python 3",
   "language": "python",
   "name": "python3"
  },
  "language_info": {
   "codemirror_mode": {
    "name": "ipython",
    "version": 2
   },
   "file_extension": ".py",
   "mimetype": "text/x-python",
   "name": "python",
   "nbconvert_exporter": "python",
   "pygments_lexer": "ipython2",
   "version": "2.7.6"
  }
 },
 "nbformat": 4,
 "nbformat_minor": 0
}