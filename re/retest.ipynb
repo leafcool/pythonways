{
 "cells": [
  {
   "cell_type": "code",
   "execution_count": 7,
   "metadata": {
    "collapsed": true
   },
   "outputs": [
    {
     "data": {
      "text/plain": "<re.Match object; span=(4, 7), match='abc'>"
     },
     "execution_count": 7,
     "metadata": {},
     "output_type": "execute_result"
    }
   ],
   "source": [
    "import re\n",
    "p=re.compile('abc')\n",
    "re.search(p,\"www.abc.com\")\n",
    "\n"
   ]
  },
  {
   "cell_type": "code",
   "execution_count": 21,
   "outputs": [
    {
     "name": "stdout",
     "output_type": "stream",
     "text": [
      "<re.Match object; span=(5, 8), match='www'>\n",
      "(5, 8)\n",
      "www\n"
     ]
    }
   ],
   "source": [
    "m=re.match('www','www.hhhh.com')\n",
    "# print(m.span())\n",
    "# print(m.group())\n",
    "# print(re.match('fkit','www.fkit.com'))\n",
    "\n",
    "m=re.search('www','jhhj.www.sj')\n",
    "print(m)\n",
    "print(m.span())\n",
    "print(m.group())"
   ],
   "metadata": {
    "collapsed": false,
    "pycharm": {
     "name": "#%%\n"
    }
   }
  },
  {
   "cell_type": "code",
   "execution_count": 3,
   "outputs": [
    {
     "name": "stdout",
     "output_type": "stream",
     "text": [
      "2008/08/18\n",
      "2008/08-18\n"
     ]
    }
   ],
   "source": [
    "import re\n",
    "my_date = '2008-08-18'\n",
    "# 将my_date字符串里中画线替换成斜线\n",
    "print(re.sub(r'-', '/' , my_date))\n",
    "# 将my_date字符串里中画线替换成斜线，只替换一次\n",
    "print(re.sub(r'-', '/' , my_date, 1))\n"
   ],
   "metadata": {
    "collapsed": false,
    "pycharm": {
     "name": "#%%\n"
    }
   }
  },
  {
   "cell_type": "code",
   "execution_count": 5,
   "outputs": [
    {
     "name": "stdout",
     "output_type": "stream",
     "text": [
      "《疯狂Python讲义》很好，《疯狂Kotlin讲义》也很好\n"
     ]
    }
   ],
   "source": [
    "def fun(matched):\n",
    "    # matched就是匹配对象，通过该对象的group()方法可获取被匹配的字符串\n",
    "    value = \"《疯狂\" + (matched.group('lang')) + \"讲义》\"\n",
    "    return value\n",
    "s = 'Python很好，Kotlin也很好'\n",
    "# 将s里面的英文单词（用re.A旗标控制）进行替换\n",
    "# 使用fun函数指定替换的内容\n",
    "print(re.sub(r'(?P<lang>\\w+)', fun, s, flags=re.A))"
   ],
   "metadata": {
    "collapsed": false,
    "pycharm": {
     "name": "#%%\n"
    }
   }
  },
  {
   "cell_type": "code",
   "execution_count": 8,
   "outputs": [
    {
     "data": {
      "text/plain": "['add',\n 'clear',\n 'copy',\n 'difference',\n 'difference_update',\n 'discard',\n 'intersection',\n 'intersection_update',\n 'isdisjoint',\n 'issubset',\n 'issuperset',\n 'pop',\n 'remove',\n 'symmetric_difference',\n 'symmetric_difference_update',\n 'union',\n 'update']"
     },
     "execution_count": 8,
     "metadata": {},
     "output_type": "execute_result"
    }
   ],
   "source": [
    "[i for i  in dir(set) if not i.startswith('_')]"
   ],
   "metadata": {
    "collapsed": false,
    "pycharm": {
     "name": "#%%\n"
    }
   }
  },
  {
   "cell_type": "code",
   "execution_count": 16,
   "outputs": [
    {
     "name": "stdout",
     "output_type": "stream",
     "text": [
      "2\n"
     ]
    },
    {
     "data": {
      "text/plain": "{'set'}"
     },
     "execution_count": 16,
     "metadata": {},
     "output_type": "execute_result"
    }
   ],
   "source": [
    "c={'set'}\n",
    "c.add('ss')\n",
    "print(len(c))\n",
    "c.remove('ss')\n",
    "c"
   ],
   "metadata": {
    "collapsed": false,
    "pycharm": {
     "name": "#%%\n"
    }
   }
  },
  {
   "cell_type": "code",
   "execution_count": 20,
   "outputs": [
    {
     "name": "stdout",
     "output_type": "stream",
     "text": [
      "s element {frozenset({'a', 'c', 'l', 'e', 'o', 'f'})}\n"
     ]
    },
    {
     "ename": "TypeError",
     "evalue": "unhashable type: 'set'",
     "output_type": "error",
     "traceback": [
      "\u001B[1;31m---------------------------------------------------------------------------\u001B[0m",
      "\u001B[1;31mTypeError\u001B[0m                                 Traceback (most recent call last)",
      "\u001B[1;32m<ipython-input-20-4b349cff60bd>\u001B[0m in \u001B[0;36m<module>\u001B[1;34m\u001B[0m\n\u001B[0;32m      4\u001B[0m \u001B[0mprint\u001B[0m\u001B[1;33m(\u001B[0m\u001B[1;34m's element'\u001B[0m\u001B[1;33m,\u001B[0m\u001B[0ms\u001B[0m\u001B[1;33m)\u001B[0m\u001B[1;33m\u001B[0m\u001B[1;33m\u001B[0m\u001B[0m\n\u001B[0;32m      5\u001B[0m \u001B[0mssub_s\u001B[0m\u001B[1;33m=\u001B[0m\u001B[1;33m{\u001B[0m\u001B[1;34m'python'\u001B[0m\u001B[1;33m}\u001B[0m\u001B[1;33m\u001B[0m\u001B[1;33m\u001B[0m\u001B[0m\n\u001B[1;32m----> 6\u001B[1;33m \u001B[0ms\u001B[0m\u001B[1;33m.\u001B[0m\u001B[0madd\u001B[0m\u001B[1;33m(\u001B[0m\u001B[0mssub_s\u001B[0m\u001B[1;33m)\u001B[0m\u001B[1;33m\u001B[0m\u001B[1;33m\u001B[0m\u001B[0m\n\u001B[0m\u001B[0;32m      7\u001B[0m \u001B[0ms\u001B[0m\u001B[1;33m\u001B[0m\u001B[1;33m\u001B[0m\u001B[0m\n\u001B[0;32m      8\u001B[0m \u001B[1;33m\u001B[0m\u001B[0m\n",
      "\u001B[1;31mTypeError\u001B[0m: unhashable type: 'set'"
     ]
    }
   ],
   "source": [
    "s=set()\n",
    "# frozen_s=frozenset('leafcool')\n",
    "s.add(frozen_s)\n",
    "print('s element',s)\n",
    "ssub_s={'python'}\n",
    "s.add(ssub_s)\n",
    "s"
   ],
   "metadata": {
    "collapsed": false,
    "pycharm": {
     "name": "#%%\n"
    }
   }
  },
  {
   "cell_type": "code",
   "execution_count": 31,
   "outputs": [
    {
     "name": "stdout",
     "output_type": "stream",
     "text": [
      "deque(['python', 'java', 'c++', 'swift'])\n",
      "python\n"
     ]
    }
   ],
   "source": [
    "from collections import deque\n",
    "[i for i in dir(deque) if not i.startswith('_')]\n",
    "stack=deque(('python','java'))\n",
    "stack.append('c++')\n",
    "stack.append('swift')\n",
    "print(stack)\n",
    "# print(stack.pop())\n",
    "# print(stack.pop())\n",
    "# print(stack.pop())\n",
    "# print(stack.pop())\n",
    "print(stack.popleft())\n",
    "# print(stack.pop())"
   ],
   "metadata": {
    "collapsed": false,
    "pycharm": {
     "name": "#%%\n"
    }
   }
  },
  {
   "cell_type": "code",
   "execution_count": 36,
   "outputs": [
    {
     "name": "stdout",
     "output_type": "stream",
     "text": [
      "deque([0, 1, 2, 3, 4])\n",
      "deque([4, 0, 1, 2, 3])\n"
     ]
    },
    {
     "data": {
      "text/plain": "deque([3, 4, 0, 1, 2])"
     },
     "execution_count": 36,
     "metadata": {},
     "output_type": "execute_result"
    }
   ],
   "source": [
    "q=deque(range(5))\n",
    "print(q)\n",
    "q.rotate()\n",
    "print(q)\n",
    "q.rotate()\n",
    "q"
   ],
   "metadata": {
    "collapsed": false,
    "pycharm": {
     "name": "#%%\n"
    }
   }
  },
  {
   "cell_type": "code",
   "execution_count": 41,
   "outputs": [
    {
     "name": "stdout",
     "output_type": "stream",
     "text": [
      "[0, 1, 2, 3, 4, 5, 6, 7, 8, 9, 0.5]\n",
      "[0, 0.5, 2, 3, 1, 5, 6, 7, 8, 9, 4]\n",
      "[0, 0.5, 2, 3, 1, 5, 6, 7, 8, 9, 4, 7.5]\n",
      "[0, 0.5, 2, 3, 1, 5, 6, 7, 8, 9, 4, 7.5] [9, 8, 7.5]\n",
      "[0, 0.5, 2, 3, 1, 5, 6, 7, 8, 9, 4, 7.5] [0, 0.5, 1, 2]\n"
     ]
    }
   ],
   "source": [
    "from heapq import *\n",
    "data=list(range(10))\n",
    "data.append(0.5)\n",
    "print(data)\n",
    "heapify(data)\n",
    "print(data)\n",
    "heappush(data,7.5)\n",
    "print(data)\n",
    "print(data,nlargest(3,data))\n",
    "print(data,nsmallest(4,data))"
   ],
   "metadata": {
    "collapsed": false,
    "pycharm": {
     "name": "#%%\n"
    }
   }
  },
  {
   "cell_type": "code",
   "execution_count": 43,
   "outputs": [
    {
     "name": "stderr",
     "output_type": "stream",
     "text": [
      "usage: ipykernel_launcher.py [-h] [-u USER] [-c COLOR]\n",
      "ipykernel_launcher.py: error: unrecognized arguments: -f C:\\Users\\E906044\\AppData\\Roaming\\jupyter\\runtime\\kernel-1f8fca97-d544-412e-83bc-78212325180e.json\n"
     ]
    },
    {
     "ename": "SystemExit",
     "evalue": "2",
     "output_type": "error",
     "traceback": [
      "An exception has occurred, use %tb to see the full traceback.\n",
      "\u001B[1;31mSystemExit\u001B[0m\u001B[1;31m:\u001B[0m 2\n"
     ]
    }
   ],
   "source": [
    "from collections import ChainMap\n",
    "import os,argparse\n",
    "defaults={'color':'blue','user':'yeeku'}\n",
    "parser=argparse.ArgumentParser()\n",
    "parser.add_argument('-u','--user')\n",
    "parser.add_argument('-c','--color')\n",
    "namespace=parser.parse_args()\n",
    "command={k:v for k,v in vars(namespace).items() if v}"
   ],
   "metadata": {
    "collapsed": false,
    "pycharm": {
     "name": "#%%\n"
    }
   }
  },
  {
   "cell_type": "code",
   "execution_count": 44,
   "outputs": [],
   "source": [
    "from  collections import Counter\n",
    "c1=Counter()\n",
    "c2=Counter('hhhhh')"
   ],
   "metadata": {
    "collapsed": false,
    "pycharm": {
     "name": "#%%\n"
    }
   }
  },
  {
   "cell_type": "code",
   "execution_count": 46,
   "outputs": [
    {
     "name": "stdout",
     "output_type": "stream",
     "text": [
      "[('python', [1, 7]), ('swift', [5])]\n"
     ]
    }
   ],
   "source": [
    "from collections import  defaultdict\n",
    "a=[('python',1),('swift',5),('python',7)]\n",
    "d={}\n",
    "for k,v in a:\n",
    "    d.setdefault(k,[]).append(v)\n",
    "print(list(d.items()))"
   ],
   "metadata": {
    "collapsed": false,
    "pycharm": {
     "name": "#%%\n"
    }
   }
  },
  {
   "cell_type": "code",
   "execution_count": 48,
   "outputs": [
    {
     "name": "stdout",
     "output_type": "stream",
     "text": [
      "3\n"
     ]
    }
   ],
   "source": [
    "from collections import  namedtuple\n",
    "Point=namedtuple('point',['x','y','z'])\n",
    "p=Point(1,2,3)\n",
    "print(p[0]+p[1])"
   ],
   "metadata": {
    "collapsed": false,
    "pycharm": {
     "name": "#%%\n"
    }
   }
  },
  {
   "cell_type": "code",
   "execution_count": 54,
   "outputs": [
    {
     "name": "stdout",
     "output_type": "stream",
     "text": [
      "odict_keys(['a', 'e', 'c', 's', 'j', 'h', 'b'])\n",
      "odict_keys(['b', 'a', 'e', 'c', 's', 'j', 'h'])\n",
      "h\n",
      "b\n"
     ]
    }
   ],
   "source": [
    "from collections import OrderedDict\n",
    "d=OrderedDict.fromkeys('abecsjh')\n",
    "d.move_to_end('b')\n",
    "print(d.keys())\n",
    "d.move_to_end('b',last=False)\n",
    "print(d.keys())\n",
    "print(d.popitem()[0])\n",
    "print(d.popitem(last=False)[0])"
   ],
   "metadata": {
    "collapsed": false,
    "pycharm": {
     "name": "#%%\n"
    }
   }
  },
  {
   "cell_type": "code",
   "execution_count": 59,
   "outputs": [
    {
     "name": "stdout",
     "output_type": "stream",
     "text": [
      "10\n",
      "13\n",
      "16\n",
      "19\n",
      "22\n",
      "25\n",
      "28\n",
      "31\n",
      "--------\n",
      "python\n",
      "java\n",
      "swift\n",
      "python\n",
      "java\n",
      "swift\n",
      "python\n",
      "java\n",
      "swift\n",
      "python\n",
      "-----\n",
      "python\n",
      "python\n",
      "python\n",
      "python\n",
      "python\n"
     ]
    }
   ],
   "source": [
    "import itertools as  it\n",
    "for i in it.count(10,3):\n",
    "    print(i)\n",
    "    if i>30:\n",
    "        break\n",
    "print('--------')\n",
    "j=0\n",
    "for i in it.cycle(['python','java','swift']):\n",
    "    print(i)\n",
    "    j+=1\n",
    "    if j>9:\n",
    "        break\n",
    "print('-----')\n",
    "for i in it.repeat('python',5):\n",
    "    print(i)"
   ],
   "metadata": {
    "collapsed": false,
    "pycharm": {
     "name": "#%%\n"
    }
   }
  },
  {
   "cell_type": "code",
   "execution_count": 64,
   "outputs": [
    {
     "name": "stdout",
     "output_type": "stream",
     "text": [
      "False\n",
      "False\n",
      "False\n"
     ]
    }
   ],
   "source": [
    "from functools import *\n",
    "class Cell:\n",
    "    def __init__(self):\n",
    "        self._alive=False\n",
    "    @property\n",
    "    def alive(self):\n",
    "        return self._alive\n",
    "    def set_state(self,state):\n",
    "        self._alive=bool(state)\n",
    "    set_alive=partialmethod(set_state,True)\n",
    "    set_dead=partialmethod(set_state,False)\n",
    "c=Cell()\n",
    "print(c.alive)\n",
    "c.set_alive\n",
    "print(c.alive)\n",
    "c.set_dead()\n",
    "print(c.alive)"
   ],
   "metadata": {
    "collapsed": false,
    "pycharm": {
     "name": "#%%\n"
    }
   }
  },
  {
   "cell_type": "code",
   "execution_count": 67,
   "outputs": [
    {
     "ename": "SyntaxError",
     "evalue": "invalid syntax (<ipython-input-67-8dee3d2af2a6>, line 11)",
     "output_type": "error",
     "traceback": [
      "\u001B[1;36m  File \u001B[1;32m\"<ipython-input-67-8dee3d2af2a6>\"\u001B[1;36m, line \u001B[1;32m11\u001B[0m\n\u001B[1;33m    if not self._is_valid_operand(other)\u001B[0m\n\u001B[1;37m                                        ^\u001B[0m\n\u001B[1;31mSyntaxError\u001B[0m\u001B[1;31m:\u001B[0m invalid syntax\n"
     ]
    }
   ],
   "source": [
    "from functools import *\n",
    "@total_ordering\n",
    "class User:\n",
    "    def __init__(self,name):\n",
    "        self.name=name\n",
    "    def __repr__(self):\n",
    "        return r'User[name=%s]'%self.name\n",
    "    def _is_valid_operand(other):\n",
    "        return hasattr(other,\"name\")\n",
    "    def __eq__(self, other):\n",
    "        if not self._is_valid_operand(other)\n",
    "            return NotImplemented\n",
    "        return  self.name.lower()==other.lastname.lower()\n",
    "    def __lt__(self, other):\n",
    "        if not self._is_valid_operand(other):\n",
    "            return NotImplemented\n",
    "        return self.lastname.lower()<other.lastname.lower()\n",
    "print(User.__gt__)"
   ],
   "metadata": {
    "collapsed": false,
    "pycharm": {
     "name": "#%%\n"
    }
   }
  },
  {
   "cell_type": "code",
   "execution_count": 69,
   "outputs": [
    {
     "name": "stdout",
     "output_type": "stream",
     "text": [
      "True\n"
     ]
    }
   ],
   "source": [
    "import os,sys\n",
    "ret=os.access('.',os.F_OK|os.R_OK|os.W_OK|os.X_OK)\n",
    "print(ret)\n"
   ],
   "metadata": {
    "collapsed": false,
    "pycharm": {
     "name": "#%%\n"
    }
   }
  },
  {
   "cell_type": "code",
   "execution_count": 76,
   "outputs": [
    {
     "name": "stdout",
     "output_type": "stream",
     "text": [
      "b'\\xe6\\x98\\x8e\\xe6\\x9c\\x88\\xe5\\x87\\xa0\\xe6\\x97\\xb6\\xe6\\x9c\\x89'\n",
      "明月几时有\n"
     ]
    }
   ],
   "source": [
    "import os\n",
    "f=os.open('abc.txt',os.O_RDWR|os.O_CREAT)\n",
    "len1=os.write(f,'明月几时有\\n'.encode('utf-8'))\n",
    "len2=os.write(f,'把酒问青天\\n'.encode('utf-8'))\n",
    "os.lseek(f,0,os.SEEK_SET)\n",
    "data=os.read(f,len1)\n",
    "\n",
    "print(data)\n",
    "print(data.decode('utf-8'))\n",
    "os.close(f)"
   ],
   "metadata": {
    "collapsed": false,
    "pycharm": {
     "name": "#%%\n"
    }
   }
  },
  {
   "cell_type": "code",
   "execution_count": 81,
   "outputs": [
    {
     "name": "stdout",
     "output_type": "stream",
     "text": [
      "C:\\Users\\E906044\\AppData\\Local\\Temp\\tmpiouhdihc\n",
      "良久若是久长时又岂在朝朝暮暮\n",
      "b'lovepython'\n",
      "C:\\Users\\E906044\\AppData\\Local\\Temp\\tmpfbefyekz\n"
     ]
    }
   ],
   "source": [
    "import tempfile\n",
    "fp=tempfile.TemporaryFile()\n",
    "print(fp.name)\n",
    "fp.write('良久若是久长时'.encode('utf-8'))\n",
    "fp.write('又岂在朝朝暮暮'.encode('utf-8'))\n",
    "fp.seek(0)\n",
    "print(fp.read().decode('utf-8'))\n",
    "fp.close()\n",
    "\n",
    "with tempfile.TemporaryFile() as fp:\n",
    "    fp.write(b'lovepython')\n",
    "    fp.seek(0)\n",
    "    print(fp.read())\n",
    "with tempfile.TemporaryDirectory() as tempdirname:\n",
    "    print(tempdirname)"
   ],
   "metadata": {
    "collapsed": false,
    "pycharm": {
     "name": "#%%\n"
    }
   }
  },
  {
   "cell_type": "code",
   "execution_count": 84,
   "outputs": [
    {
     "data": {
      "text/plain": "'qmark'"
     },
     "execution_count": 84,
     "metadata": {},
     "output_type": "execute_result"
    }
   ],
   "source": [
    "import sqlite3\n",
    "sqlite3.apilevel\n",
    "sqlite3.paramstyle"
   ],
   "metadata": {
    "collapsed": false,
    "pycharm": {
     "name": "#%%\n"
    }
   }
  },
  {
   "cell_type": "code",
   "execution_count": 94,
   "outputs": [
    {
     "name": "stdout",
     "output_type": "stream",
     "text": [
      "MainThread0\n",
      "MainThread1\n",
      "MainThread2\n",
      "MainThread3\n",
      "MainThread4\n",
      "MainThread5\n",
      "MainThread6\n",
      "MainThread7\n",
      "MainThread8\n",
      "MainThread9\n",
      "MainThread10\n",
      "MainThread11\n",
      "MainThread12\n",
      "MainThread13\n",
      "MainThread14\n",
      "MainThread15\n",
      "MainThread16\n",
      "MainThread17\n",
      "MainThread18\n",
      "MainThread19\n",
      "MainThread20\n",
      "Thread-120\n",
      "Thread-121\n",
      "Thread-122\n",
      "Thread-123\n",
      "Thread-124\n",
      "Thread-125\n",
      "Thread-126\n",
      "Thread-127\n",
      "Thread-128\n",
      "Thread-129\n",
      "Thread-1210\n",
      "Thread-1211\n",
      "Thread-1212\n",
      "Thread-1213\n",
      "Thread-1214\n",
      "Thread-1215\n",
      "Thread-1216\n",
      "Thread-1217\n",
      "Thread-1218\n",
      "Thread-1219\n",
      "Thread-1220\n",
      "Thread-1221\n",
      "Thread-1222\n",
      "Thread-1223\n",
      "Thread-1224\n",
      "Thread-1225\n",
      "Thread-1226\n",
      "Thread-1227\n",
      "Thread-1228\n",
      "Thread-1229\n",
      "Thread-1230\n",
      "Thread-1231\n",
      "Thread-1232\n",
      "Thread-1233\n",
      "Thread-1234\n",
      "Thread-1235\n",
      "Thread-1236Thread-130MainThread21\n",
      "\n",
      "\n",
      "MainThread22\n",
      "MainThread23\n",
      "MainThread24\n",
      "MainThread25\n",
      "MainThread26\n",
      "MainThread27\n",
      "MainThread28\n",
      "MainThread29\n",
      "MainThread30\n",
      "MainThread31\n",
      "MainThread32\n",
      "MainThread33\n",
      "MainThread34\n",
      "MainThread35\n",
      "MainThread36\n",
      "MainThread37\n",
      "Thread-1237\n",
      "Thread-131\n",
      "MainThread38Thread-1238Thread-132\n",
      "Thread-133\n",
      "\n",
      "MainThread39\n",
      "Thread-134\n",
      "Thread-135\n",
      "\n",
      "Thread-1239\n",
      "Thread-136\n",
      "Thread-137\n",
      "Thread-138\n",
      "Thread-139\n",
      "Thread-1310\n",
      "Thread-1311\n",
      "Thread-1312\n",
      "Thread-1313\n",
      "Thread-1314\n",
      "Thread-1315\n",
      "Thread-1316\n",
      "Thread-1317\n",
      "Thread-1318\n",
      "Thread-1319\n",
      "Thread-1320\n",
      "Thread-1321\n",
      "Thread-1322\n",
      "Thread-1323\n",
      "Thread-1324\n",
      "Thread-1325\n",
      "Thread-1326\n",
      "Thread-1327\n",
      "Thread-1328\n",
      "Thread-1329\n",
      "Thread-1240\n",
      "Thread-1241\n",
      "Thread-1242MainThread40\n",
      "\n",
      "Thread-1243\n",
      "Thread-1244Thread-1330\n",
      "Thread-1331\n",
      "Thread-1332\n",
      "Thread-1333\n",
      "Thread-1334\n",
      "Thread-1335\n",
      "Thread-1336\n",
      "Thread-1337\n",
      "Thread-1338\n",
      "Thread-1339\n",
      "MainThread41\n",
      "\n",
      "MainThread42\n",
      "MainThread43\n",
      "MainThread44\n",
      "MainThread45\n",
      "MainThread46\n",
      "MainThread47\n",
      "MainThread48\n",
      "MainThread49\n",
      "Thread-1340Thread-1245\n",
      "Thread-1246\n",
      "Thread-1247\n",
      "Thread-1248\n",
      "MainThread50\n",
      "Thread-1249\n",
      "Thread-1250\n",
      "Thread-1251\n",
      "MainThread51\n",
      "Thread-1252\n",
      "Thread-1253\n",
      "Thread-1254\n",
      "Thread-1255\n",
      "Thread-1256\n",
      "Thread-1257\n",
      "Thread-1258\n",
      "Thread-1259\n",
      "Thread-1260\n",
      "\n",
      "MainThread52\n",
      "Thread-1261Thread-1341MainThread53\n",
      "MainThread54\n",
      "MainThread55\n",
      "MainThread56\n",
      "MainThread57\n",
      "MainThread58\n",
      "MainThread59\n",
      "MainThread60\n",
      "MainThread61\n",
      "MainThread62\n",
      "MainThread63\n",
      "MainThread64\n",
      "MainThread65\n",
      "Thread-1262\n",
      "Thread-1263\n",
      "Thread-1264\n",
      "Thread-1265\n",
      "MainThread66\n",
      "MainThread67\n",
      "MainThread68\n",
      "MainThread69\n",
      "MainThread70\n",
      "MainThread71\n",
      "MainThread72\n",
      "MainThread73\n",
      "MainThread74\n",
      "MainThread75\n",
      "MainThread76\n",
      "MainThread77\n",
      "MainThread78\n",
      "MainThread79\n",
      "MainThread80\n",
      "Thread-1266\n",
      "Thread-1267\n",
      "Thread-1268\n",
      "Thread-1269\n",
      "Thread-1270\n",
      "Thread-1271\n",
      "Thread-1272\n",
      "Thread-1273\n",
      "\n",
      "Thread-1274\n",
      "Thread-1342\n",
      "Thread-1343\n",
      "Thread-1344MainThread81\n",
      "MainThread82\n",
      "\n",
      "Thread-1275\n",
      "Thread-1276\n",
      "\n",
      "Thread-1345\n",
      "Thread-1277\n",
      "Thread-1278\n",
      "MainThread83\n",
      "MainThread84\n",
      "Thread-1346\n",
      "Thread-1347\n",
      "Thread-1348\n",
      "Thread-1349\n",
      "Thread-1350\n",
      "Thread-1351\n",
      "Thread-1352\n",
      "Thread-1353\n",
      "Thread-1354\n",
      "Thread-1355\n",
      "Thread-1356MainThread85\n",
      "MainThread86\n",
      "MainThread87\n",
      "MainThread88\n",
      "MainThread89\n",
      "MainThread90\n",
      "MainThread91Thread-1279\n",
      "\n",
      "Thread-1280\n",
      "Thread-1281\n",
      "Thread-1282\n",
      "Thread-1283\n",
      "Thread-1284\n",
      "Thread-1285\n",
      "Thread-1286\n",
      "MainThread92\n",
      "MainThread93\n",
      "MainThread94\n",
      "MainThread95\n",
      "MainThread96\n",
      "MainThread97\n",
      "MainThread98\n",
      "MainThread99\n",
      "main thread over\n",
      "Thread-1357\n",
      "Thread-1358\n",
      "Thread-1359\n",
      "Thread-1360\n",
      "Thread-1361\n",
      "Thread-1362\n",
      "Thread-1363\n",
      "Thread-1364\n",
      "Thread-1365\n",
      "Thread-1366\n",
      "Thread-1367\n",
      "Thread-1368\n",
      "Thread-1369\n",
      "Thread-1370\n",
      "Thread-1371\n",
      "Thread-1372\n",
      "Thread-1373\n",
      "Thread-1374\n",
      "Thread-1375\n",
      "Thread-1376\n",
      "Thread-1377\n",
      "Thread-1378\n",
      "Thread-1379\n",
      "Thread-1380\n",
      "Thread-1381\n",
      "Thread-1382\n",
      "Thread-1287\n",
      "Thread-1288\n",
      "Thread-1289\n",
      "Thread-1290\n",
      "Thread-1291\n",
      "Thread-1292\n",
      "Thread-1293\n",
      "Thread-1294\n",
      "Thread-1295\n",
      "Thread-1296\n",
      "Thread-1297\n",
      "Thread-1298\n",
      "Thread-1299\n",
      "Thread-1383\n",
      "Thread-1384\n",
      "Thread-1385\n",
      "Thread-1386\n",
      "Thread-1387\n",
      "Thread-1388\n",
      "Thread-1389\n",
      "Thread-1390\n",
      "Thread-1391\n",
      "Thread-1392\n",
      "Thread-1393\n",
      "Thread-1394\n",
      "Thread-1395\n",
      "Thread-1396\n",
      "Thread-1397\n",
      "Thread-1398\n",
      "Thread-1399\n",
      "\n"
     ]
    }
   ],
   "source": [
    "import threading\n",
    "def action(max):\n",
    "    for i in range(max):\n",
    "        print(threading.current_thread().getName()+str(i))\n",
    "for i in range(100):\n",
    "    print(threading.current_thread().getName()+str(i))\n",
    "    if i==20:\n",
    "        t1=threading.Thread(target=action,args=(100,))\n",
    "        t1.start()\n",
    "        t2=threading.Thread(target=action,args=(100,))\n",
    "        t2.start()\n",
    "\n",
    "print('main thread over')"
   ],
   "metadata": {
    "collapsed": false,
    "pycharm": {
     "name": "#%%\n"
    }
   }
  },
  {
   "cell_type": "code",
   "execution_count": 96,
   "outputs": [
    {
     "name": "stdout",
     "output_type": "stream",
     "text": [
      "MainThread 0\n",
      "MainThread 1\n",
      "MainThread 2\n",
      "MainThread 3\n",
      "MainThread 4\n",
      "MainThread 5\n",
      "MainThread 6\n",
      "MainThread 7\n",
      "MainThread 8\n",
      "MainThread 9\n",
      "MainThread 10\n",
      "MainThread 11\n",
      "MainThread 12\n",
      "MainThread 13\n",
      "MainThread 14\n",
      "MainThread 15\n",
      "MainThread 16\n",
      "MainThread 17\n",
      "MainThread 18\n",
      "MainThread 19\n",
      "MainThread 20\n",
      "MainThread 0\n",
      "MainThread 1\n",
      "MainThread 2\n",
      "MainThread 3\n",
      "MainThread 4\n",
      "MainThread 5\n",
      "MainThread 6\n",
      "MainThread 7\n",
      "MainThread 8\n",
      "MainThread 9\n",
      "MainThread 10\n",
      "MainThread 11\n",
      "MainThread 12\n",
      "MainThread 13\n",
      "MainThread 14\n",
      "MainThread 15\n",
      "MainThread 16\n",
      "MainThread 17\n",
      "MainThread 18\n",
      "MainThread 19\n",
      "MainThread 20\n",
      "MainThread 21\n",
      "MainThread 22\n",
      "MainThread 23\n",
      "MainThread 24\n",
      "MainThread 25\n",
      "MainThread 26\n",
      "MainThread 27\n",
      "MainThread 28\n",
      "MainThread 29\n",
      "MainThread 30\n",
      "MainThread 31\n",
      "MainThread 32\n",
      "MainThread 33\n",
      "MainThread 34\n",
      "MainThread 35\n",
      "MainThread 36\n",
      "MainThread 37\n",
      "MainThread 38\n",
      "MainThread 39\n",
      "MainThread 40\n",
      "MainThread 41\n",
      "MainThread 42\n",
      "MainThread 43\n",
      "MainThread 44\n",
      "MainThread 45\n",
      "MainThread 46\n",
      "MainThread 47\n",
      "MainThread 48\n",
      "MainThread 49\n",
      "MainThread 50\n",
      "MainThread 51\n",
      "MainThread 52\n",
      "MainThread 53\n",
      "MainThread 54\n",
      "MainThread 55\n",
      "MainThread 56\n",
      "MainThread 57\n",
      "MainThread 58\n",
      "MainThread 59\n",
      "MainThread 60\n",
      "MainThread 61\n",
      "MainThread 62\n",
      "MainThread 63\n",
      "MainThread 64\n",
      "MainThread 65\n",
      "MainThread 66\n",
      "MainThread 67\n",
      "MainThread 68\n",
      "MainThread 69\n",
      "MainThread 70\n",
      "MainThread 71\n",
      "MainThread 72\n",
      "MainThread 73\n",
      "MainThread 74\n",
      "MainThread 75\n",
      "MainThread 76\n",
      "MainThread 77\n",
      "MainThread 78\n",
      "MainThread 79\n",
      "MainThread 80\n",
      "MainThread 81\n",
      "MainThread 82\n",
      "MainThread 83\n",
      "MainThread 84\n",
      "MainThread 85\n",
      "MainThread 86\n",
      "MainThread 87\n",
      "MainThread 88\n",
      "MainThread 89\n",
      "MainThread 90\n",
      "MainThread 91\n",
      "MainThread 92\n",
      "MainThread 93\n",
      "MainThread 94\n",
      "MainThread 95\n",
      "MainThread 96\n",
      "MainThread 97\n",
      "MainThread 98\n",
      "MainThread 99\n",
      "MainThread 0\n",
      "MainThread 1\n",
      "MainThread 2\n",
      "MainThread 3\n",
      "MainThread 4\n",
      "MainThread 5\n",
      "MainThread 6\n",
      "MainThread 7\n",
      "MainThread 8\n",
      "MainThread 9\n",
      "MainThread 10\n",
      "MainThread 11\n",
      "MainThread 12\n",
      "MainThread 13\n",
      "MainThread 14\n",
      "MainThread 15\n",
      "MainThread 16\n",
      "MainThread 17\n",
      "MainThread 18\n",
      "MainThread 19\n",
      "MainThread 20\n",
      "MainThread 21\n",
      "MainThread 22\n",
      "MainThread 23\n",
      "MainThread 24\n",
      "MainThread 25\n",
      "MainThread 26\n",
      "MainThread 27\n",
      "MainThread 28\n",
      "MainThread 29\n",
      "MainThread 30\n",
      "MainThread 31\n",
      "MainThread 32\n",
      "MainThread 33\n",
      "MainThread 34\n",
      "MainThread 35\n",
      "MainThread 36\n",
      "MainThread 37\n",
      "MainThread 38\n",
      "MainThread 39\n",
      "MainThread 40\n",
      "MainThread 41\n",
      "MainThread 42\n",
      "MainThread 43\n",
      "MainThread 44\n",
      "MainThread 45\n",
      "MainThread 46\n",
      "MainThread 47\n",
      "MainThread 48\n",
      "MainThread 49\n",
      "MainThread 50\n",
      "MainThread 51\n",
      "MainThread 52\n",
      "MainThread 53\n",
      "MainThread 54\n",
      "MainThread 55\n",
      "MainThread 56\n",
      "MainThread 57\n",
      "MainThread 58\n",
      "MainThread 59\n",
      "MainThread 60\n",
      "MainThread 61\n",
      "MainThread 62\n",
      "MainThread 63\n",
      "MainThread 64\n",
      "MainThread 65\n",
      "MainThread 66\n",
      "MainThread 67\n",
      "MainThread 68\n",
      "MainThread 69\n",
      "MainThread 70\n",
      "MainThread 71\n",
      "MainThread 72\n",
      "MainThread 73\n",
      "MainThread 74\n",
      "MainThread 75\n",
      "MainThread 76\n",
      "MainThread 77\n",
      "MainThread 78\n",
      "MainThread 79\n",
      "MainThread 80\n",
      "MainThread 81\n",
      "MainThread 82\n",
      "MainThread 83\n",
      "MainThread 84\n",
      "MainThread 85\n",
      "MainThread 86\n",
      "MainThread 87\n",
      "MainThread 88\n",
      "MainThread 89\n",
      "MainThread 90\n",
      "MainThread 91\n",
      "MainThread 92\n",
      "MainThread 93\n",
      "MainThread 94\n",
      "MainThread 95\n",
      "MainThread 96\n",
      "MainThread 97\n",
      "MainThread 98\n",
      "MainThread 99\n",
      "MainThread 21\n",
      "MainThread 22\n",
      "MainThread 23\n",
      "MainThread 24\n",
      "MainThread 25\n",
      "MainThread 26\n",
      "MainThread 27\n",
      "MainThread 28\n",
      "MainThread 29\n",
      "MainThread 30\n",
      "MainThread 31\n",
      "MainThread 32\n",
      "MainThread 33\n",
      "MainThread 34\n",
      "MainThread 35\n",
      "MainThread 36\n",
      "MainThread 37\n",
      "MainThread 38\n",
      "MainThread 39\n",
      "MainThread 40\n",
      "MainThread 41\n",
      "MainThread 42\n",
      "MainThread 43\n",
      "MainThread 44\n",
      "MainThread 45\n",
      "MainThread 46\n",
      "MainThread 47\n",
      "MainThread 48\n",
      "MainThread 49\n",
      "MainThread 50\n",
      "MainThread 51\n",
      "MainThread 52\n",
      "MainThread 53\n",
      "MainThread 54\n",
      "MainThread 55\n",
      "MainThread 56\n",
      "MainThread 57\n",
      "MainThread 58\n",
      "MainThread 59\n",
      "MainThread 60\n",
      "MainThread 61\n",
      "MainThread 62\n",
      "MainThread 63\n",
      "MainThread 64\n",
      "MainThread 65\n",
      "MainThread 66\n",
      "MainThread 67\n",
      "MainThread 68\n",
      "MainThread 69\n",
      "MainThread 70\n",
      "MainThread 71\n",
      "MainThread 72\n",
      "MainThread 73\n",
      "MainThread 74\n",
      "MainThread 75\n",
      "MainThread 76\n",
      "MainThread 77\n",
      "MainThread 78\n",
      "MainThread 79\n",
      "MainThread 80\n",
      "MainThread 81\n",
      "MainThread 82\n",
      "MainThread 83\n",
      "MainThread 84\n",
      "MainThread 85\n",
      "MainThread 86\n",
      "MainThread 87\n",
      "MainThread 88\n",
      "MainThread 89\n",
      "MainThread 90\n",
      "MainThread 91\n",
      "MainThread 92\n",
      "MainThread 93\n",
      "MainThread 94\n",
      "MainThread 95\n",
      "MainThread 96\n",
      "MainThread 97\n",
      "MainThread 98\n",
      "MainThread 99\n"
     ]
    }
   ],
   "source": [
    "import threading\n",
    "\n",
    "# 定义准备作为线程执行体的action函数\n",
    "def action(max):\n",
    "    for i in range(max):\n",
    "        # 直接调用run()方法时，Thread的name属性返回的是该对象的名字\n",
    "        # 而不是当前线程的名字\n",
    "        # 使用threading.current_thread().name总是获取当前线程的名字\n",
    "        print(threading.current_thread().name +  \" \" + str(i))  # ①\n",
    "for i in range(100):\n",
    "    # 调用Thread的currentThread()方法获取当前线程\n",
    "    print(threading.current_thread().name +  \" \" + str(i))\n",
    "    if i == 20:\n",
    "        # 直接调用线程对象的run()方法\n",
    "        # 系统会把线程对象当成普通对象，把run()方法当成普通方法\n",
    "        # 所以下面两行代码并不会启动两个线程，而是依次执行两个run()方法\n",
    "        threading.Thread(target=action,args=(100,)).run()\n",
    "        threading.Thread(target=action,args=(100,)).run()"
   ],
   "metadata": {
    "collapsed": false,
    "pycharm": {
     "name": "#%%\n"
    }
   }
  },
  {
   "cell_type": "code",
   "execution_count": 100,
   "outputs": [
    {
     "name": "stdout",
     "output_type": "stream",
     "text": [
      "MainThread 0\n",
      "MainThread 1\n",
      "MainThread 2\n",
      "MainThread 3\n",
      "MainThread 4\n",
      "MainThread 5\n",
      "MainThread 6\n",
      "MainThread 7\n",
      "MainThread 8\n",
      "MainThread 9\n",
      "MainThread 10\n",
      "MainThread 11\n",
      "MainThread 12\n",
      "MainThread 13\n",
      "MainThread 14\n",
      "MainThread 15\n",
      "MainThread 16\n",
      "MainThread 17\n",
      "MainThread 18\n",
      "MainThread 19\n",
      "MainThread 20\n",
      "Thread-19 0\n",
      "Thread-19 1\n",
      "Thread-19 2\n",
      "Thread-19 3\n",
      "Thread-19 4\n",
      "Thread-19 5\n",
      "TrueThread-19 6\n",
      "Thread-19 7\n",
      "Thread-19 8\n",
      "Thread-19 9\n",
      "Thread-19 10\n",
      "Thread-19 11\n",
      "Thread-19 12\n",
      "\n",
      "MainThread 21\n",
      "Thread-19 13MainThread 22\n",
      "MainThread 23\n",
      "\n",
      "Thread-19 14\n",
      "MainThread 24\n",
      "MainThread 25\n",
      "Thread-19 15\n",
      "Thread-19 16\n",
      "Thread-19 17\n",
      "Thread-19 18\n",
      "MainThread 26Thread-19 19\n",
      "Thread-19 20\n",
      "\n",
      "MainThread 27\n",
      "MainThread 28\n",
      "MainThread 29\n",
      "MainThread 30\n",
      "MainThread 31\n",
      "MainThread 32\n",
      "MainThread 33\n",
      "MainThread 34\n",
      "MainThread 35\n",
      "MainThread 36\n",
      "MainThread 37\n",
      "MainThread 38\n",
      "MainThread 39\n",
      "MainThread 40\n",
      "MainThread 41\n",
      "MainThread 42\n",
      "MainThread 43\n",
      "MainThread 44\n",
      "MainThread 45\n",
      "MainThread 46\n",
      "MainThread 47\n",
      "Thread-19 21MainThread 48\n",
      "MainThread 49\n",
      "MainThread 50\n",
      "MainThread 51\n",
      "MainThread 52\n",
      "MainThread 53\n",
      "MainThread 54\n",
      "MainThread 55\n",
      "MainThread 56\n",
      "MainThread 57\n",
      "\n",
      "Thread-19 22\n",
      "Thread-19 23\n",
      "Thread-19 24\n",
      "Thread-19 25\n",
      "Thread-19 26\n",
      "Thread-19 27\n",
      "Thread-19 28\n",
      "Thread-19 29\n",
      "Thread-19 30\n",
      "Thread-19 31\n",
      "Thread-19 32\n",
      "Thread-19 33\n",
      "Thread-19 34\n",
      "Thread-19 35\n",
      "Thread-19 36\n",
      "Thread-19 37\n",
      "Thread-19 38\n",
      "Thread-19 39\n",
      "Thread-19 40\n",
      "Thread-19 41\n",
      "Thread-19 42\n",
      "Thread-19 43\n",
      "Thread-19 44\n",
      "Thread-19 45\n",
      "Thread-19 46\n",
      "Thread-19 47\n",
      "Thread-19 48\n",
      "Thread-19 49\n",
      "Thread-19 50\n",
      "Thread-19 51\n",
      "Thread-19 52\n",
      "Thread-19 53\n",
      "Thread-19 54\n",
      "Thread-19 55\n",
      "Thread-19 56\n",
      "Thread-19 57\n",
      "Thread-19 58\n",
      "Thread-19 59\n",
      "Thread-19 60\n",
      "Thread-19 61\n",
      "Thread-19 62\n",
      "Thread-19 63\n",
      "Thread-19 64\n",
      "Thread-19 65\n",
      "Thread-19 66\n",
      "Thread-19 67\n",
      "Thread-19 68\n",
      "Thread-19 69\n",
      "Thread-19 70MainThread 58\n",
      "MainThread 59\n",
      "\n",
      "Thread-19 71\n",
      "Thread-19 72\n",
      "Thread-19 73\n",
      "Thread-19 74\n",
      "Thread-19 75\n",
      "Thread-19 76\n",
      "Thread-19 77\n",
      "Thread-19 78\n",
      "Thread-19 79\n",
      "Thread-19 80\n",
      "Thread-19 81\n",
      "Thread-19 82\n",
      "Thread-19 83\n",
      "Thread-19 84\n",
      "Thread-19 85\n",
      "Thread-19 86\n",
      "Thread-19 87\n",
      "Thread-19 88\n",
      "Thread-19 89\n",
      "Thread-19 90\n",
      "Thread-19 91\n",
      "Thread-19 92\n",
      "Thread-19 93\n",
      "Thread-19 94\n",
      "Thread-19 95\n",
      "Thread-19 96\n",
      "MainThread 60\n",
      "Thread-19 97\n",
      "Thread-19 98\n",
      "Thread-19 99\n"
     ]
    },
    {
     "ename": "RuntimeError",
     "evalue": "threads can only be started once",
     "output_type": "error",
     "traceback": [
      "\u001B[1;31m---------------------------------------------------------------------------\u001B[0m",
      "\u001B[1;31mRuntimeError\u001B[0m                              Traceback (most recent call last)",
      "\u001B[1;32m<ipython-input-100-180281e41072>\u001B[0m in \u001B[0;36m<module>\u001B[1;34m\u001B[0m\n\u001B[0;32m     10\u001B[0m         \u001B[0mprint\u001B[0m\u001B[1;33m(\u001B[0m\u001B[0msd\u001B[0m\u001B[1;33m.\u001B[0m\u001B[0mis_alive\u001B[0m\u001B[1;33m(\u001B[0m\u001B[1;33m)\u001B[0m\u001B[1;33m)\u001B[0m\u001B[1;33m\u001B[0m\u001B[1;33m\u001B[0m\u001B[0m\n\u001B[0;32m     11\u001B[0m     \u001B[1;32mif\u001B[0m \u001B[0mi\u001B[0m\u001B[1;33m>\u001B[0m\u001B[1;36m20\u001B[0m \u001B[1;32mand\u001B[0m \u001B[1;32mnot\u001B[0m\u001B[1;33m(\u001B[0m\u001B[0msd\u001B[0m\u001B[1;33m.\u001B[0m\u001B[0mis_alive\u001B[0m\u001B[1;33m(\u001B[0m\u001B[1;33m)\u001B[0m\u001B[1;33m)\u001B[0m\u001B[1;33m:\u001B[0m\u001B[1;33m\u001B[0m\u001B[1;33m\u001B[0m\u001B[0m\n\u001B[1;32m---> 12\u001B[1;33m         \u001B[0msd\u001B[0m\u001B[1;33m.\u001B[0m\u001B[0mstart\u001B[0m\u001B[1;33m(\u001B[0m\u001B[1;33m)\u001B[0m\u001B[1;33m\u001B[0m\u001B[1;33m\u001B[0m\u001B[0m\n\u001B[0m\u001B[0;32m     13\u001B[0m \u001B[1;33m\u001B[0m\u001B[0m\n\u001B[0;32m     14\u001B[0m \u001B[1;33m\u001B[0m\u001B[0m\n",
      "\u001B[1;32m~\\Anaconda3\\lib\\threading.py\u001B[0m in \u001B[0;36mstart\u001B[1;34m(self)\u001B[0m\n\u001B[0;32m    846\u001B[0m \u001B[1;33m\u001B[0m\u001B[0m\n\u001B[0;32m    847\u001B[0m         \u001B[1;32mif\u001B[0m \u001B[0mself\u001B[0m\u001B[1;33m.\u001B[0m\u001B[0m_started\u001B[0m\u001B[1;33m.\u001B[0m\u001B[0mis_set\u001B[0m\u001B[1;33m(\u001B[0m\u001B[1;33m)\u001B[0m\u001B[1;33m:\u001B[0m\u001B[1;33m\u001B[0m\u001B[1;33m\u001B[0m\u001B[0m\n\u001B[1;32m--> 848\u001B[1;33m             \u001B[1;32mraise\u001B[0m \u001B[0mRuntimeError\u001B[0m\u001B[1;33m(\u001B[0m\u001B[1;34m\"threads can only be started once\"\u001B[0m\u001B[1;33m)\u001B[0m\u001B[1;33m\u001B[0m\u001B[1;33m\u001B[0m\u001B[0m\n\u001B[0m\u001B[0;32m    849\u001B[0m         \u001B[1;32mwith\u001B[0m \u001B[0m_active_limbo_lock\u001B[0m\u001B[1;33m:\u001B[0m\u001B[1;33m\u001B[0m\u001B[1;33m\u001B[0m\u001B[0m\n\u001B[0;32m    850\u001B[0m             \u001B[0m_limbo\u001B[0m\u001B[1;33m[\u001B[0m\u001B[0mself\u001B[0m\u001B[1;33m]\u001B[0m \u001B[1;33m=\u001B[0m \u001B[0mself\u001B[0m\u001B[1;33m\u001B[0m\u001B[1;33m\u001B[0m\u001B[0m\n",
      "\u001B[1;31mRuntimeError\u001B[0m: threads can only be started once"
     ]
    }
   ],
   "source": [
    "import  threading\n",
    "def action(max):\n",
    "    for i in range(100):\n",
    "        print(threading.current_thread().name+' '+str(i))\n",
    "sd=threading.Thread(target=action,args=(100,))\n",
    "for i in range(300):\n",
    "    print(threading.current_thread().name+' '+str(i))\n",
    "    if i == 20:\n",
    "        sd.start()\n",
    "        print(sd.is_alive())\n",
    "    if i>20 and not(sd.is_alive()):\n",
    "        sd.start()"
   ],
   "metadata": {
    "collapsed": false,
    "pycharm": {
     "name": "#%%\n"
    }
   }
  },
  {
   "cell_type": "code",
   "execution_count": 102,
   "outputs": [
    {
     "name": "stdout",
     "output_type": "stream",
     "text": [
      "newnew 0\n",
      "newnew 1\n",
      "newnew 2\n",
      "newnew 3\n",
      "newnew 4\n",
      "newnew 5\n",
      "newnew 6\n",
      "newnew 7\n",
      "newnew 8\n",
      "newnew 9\n",
      "newnew 10\n",
      "newnew 11\n",
      "newnew 12\n",
      "newnew 13\n",
      "MainThread 0\n",
      "MainThread 0\n",
      "MainThread 1\n",
      "MainThread 1\n",
      "MainThread 2\n",
      "MainThread 2\n",
      "newnew 14\n",
      "newnew 15\n",
      "newnew 16\n",
      "MainThread 3\n",
      "MainThread 3\n",
      "MainThread 4\n",
      "newnew 17\n",
      "newnew 18\n",
      "MainThread 4\n",
      "MainThread 5\n",
      "newnew 19\n",
      "newnew 20\n",
      "MainThread 5\n",
      "MainThread 6\n",
      "newnew 21\n",
      "newnew 22\n",
      "MainThread 6\n",
      "MainThread 7\n",
      "MainThread 7\n",
      "newnew 23\n",
      "newnew 24\n",
      "MainThread 8\n",
      "MainThread 8newnew 25\n",
      "MainThread 9\n",
      "\n",
      "newnew 26\n",
      "MainThread 9\n",
      "MainThread 10\n",
      "MainThread 10\n",
      "MainThread 11\n",
      "MainThread 11\n",
      "MainThread 12\n",
      "newnew 27\n",
      "newnew 28\n",
      "MainThread 12\n",
      "MainThread 13\n",
      "newnew 29\n",
      "newnew 30\n",
      "newnew 31\n",
      "newnew 32\n",
      "MainThread 13newnew 33\n",
      "newnew 34\n",
      "newnew 35\n",
      "newnew 36\n",
      "newnew 37\n",
      "MainThread 14\n",
      "\n",
      "newnew 38\n",
      "newnew 39\n",
      "newnew 40\n",
      "newnew 41\n",
      "newnew 42\n",
      "MainThread 14\n",
      "MainThread 15\n",
      "MainThread 15\n",
      "MainThread 16\n",
      "MainThread 16\n",
      "newnew 43\n",
      "newnew 44\n",
      "newnew 45\n",
      "MainThread 17\n",
      "MainThread 17\n",
      "MainThread 18\n",
      "newnew 46\n",
      "newnew 47\n",
      "newnew 48\n",
      "newnew 49\n",
      "newnew 50\n",
      "newnew 51\n",
      "newnew 52\n",
      "MainThread 18newnew 53\n",
      "newnew 54\n",
      "newnew 55\n",
      "\n",
      "MainThread 19\n",
      "newnew 56\n",
      "newnew 57\n",
      "newnew 58\n",
      "newnew 59\n",
      "newnew 60\n",
      "newnew 61\n",
      "newnew 62\n",
      "newnew 63\n",
      "newnew 64\n",
      "newnew 65\n",
      "newnew 66\n",
      "newnew 67\n",
      "newnew 68\n",
      "newnew 69\n",
      "newnew 70\n",
      "newnew 71\n",
      "newnew 72\n",
      "newnew 73\n",
      "newnew 74\n",
      "newnew 75\n",
      "newnew 76\n",
      "newnew 77\n",
      "newnew 78MainThread 19\n",
      "\n",
      "newnew 79\n",
      "newnew 80\n",
      "newnew 81\n",
      "newnew 82\n",
      "newnew 83\n",
      "newnew 84\n",
      "newnew 85\n",
      "newnew 86\n",
      "newnew 87\n",
      "newnew 88\n",
      "newnew 89\n",
      "newnew 90\n",
      "newnew 91\n",
      "newnew 92\n",
      "newnew 93\n",
      "newnew 94\n",
      "newnew 95\n",
      "newnew 96\n",
      "newnew 97\n",
      "newnew 98\n",
      "newnew 99\n",
      "MainThread 20\n",
      "join thread 0\n",
      "join thread 1\n",
      "join thread 2\n",
      "join thread 3\n",
      "join thread 4\n",
      "join thread 5\n",
      "join thread 6\n",
      "join thread 7\n",
      "join thread 8\n",
      "join thread 9\n",
      "join thread 10\n",
      "join thread 11\n",
      "join thread 12\n",
      "join thread 13\n",
      "join thread 14\n",
      "join thread 15\n",
      "join thread 16\n",
      "join thread 17\n",
      "join thread 18\n",
      "join thread 19\n",
      "join thread 20\n",
      "join thread 21\n",
      "join thread 22\n",
      "join thread 23\n",
      "join thread 24\n",
      "join thread 25\n",
      "join thread 26\n",
      "join thread 27\n",
      "join thread 28\n",
      "join thread 29\n",
      "join thread 30\n",
      "join thread 31\n",
      "join thread 32\n",
      "join thread 33\n",
      "join thread 34\n",
      "join thread 35\n",
      "join thread 36\n",
      "join thread 37\n",
      "join thread 38\n",
      "join thread 39\n",
      "join thread 40\n",
      "join thread 41\n",
      "join thread 42\n",
      "join thread 43\n",
      "join thread 44\n",
      "join thread 45\n",
      "join thread 46\n",
      "join thread 47\n",
      "join thread 48\n",
      "join thread 49\n",
      "join thread 50\n",
      "join thread 51\n",
      "join thread 52\n",
      "join thread 53\n",
      "join thread 54\n",
      "join thread 55\n",
      "join thread 56\n",
      "join thread 57\n",
      "join thread 58\n",
      "join thread 59\n",
      "join thread 60\n",
      "join thread 61\n",
      "join thread 62\n",
      "join thread 63\n",
      "join thread 64\n",
      "join thread 65\n",
      "join thread 66\n",
      "join thread 67\n",
      "join thread 68\n",
      "join thread 69\n",
      "join thread 70\n",
      "join thread 71\n",
      "join thread 72\n",
      "join thread 73\n",
      "join thread 74\n",
      "join thread 75\n",
      "join thread 76\n",
      "join thread 77\n",
      "join thread 78\n",
      "join thread 79\n",
      "join thread 80\n",
      "join thread 81\n",
      "join thread 82\n",
      "join thread 83\n",
      "join thread 84\n",
      "join thread 85\n",
      "join thread 86\n",
      "join thread 87\n",
      "join thread 88\n",
      "join thread 89\n",
      "join thread 90\n",
      "join thread 91\n",
      "join thread 92\n",
      "join thread 93\n",
      "join thread 94\n",
      "join thread 95\n",
      "join thread 96\n",
      "join thread 97\n",
      "join thread 98\n",
      "join thread 99\n",
      "MainThread 20\n",
      "MainThread 21\n",
      "MainThread 21\n",
      "MainThread 22\n",
      "MainThread 22\n",
      "MainThread 23\n",
      "MainThread 23\n",
      "MainThread 24\n",
      "MainThread 24\n",
      "MainThread 25\n",
      "MainThread 25\n",
      "MainThread 26\n",
      "MainThread 26\n",
      "MainThread 27\n",
      "MainThread 27\n",
      "MainThread 28\n",
      "MainThread 28\n",
      "MainThread 29\n",
      "MainThread 29\n",
      "MainThread 30\n",
      "MainThread 30\n",
      "MainThread 31\n",
      "MainThread 31\n",
      "MainThread 32\n",
      "MainThread 32\n",
      "MainThread 33\n",
      "MainThread 33\n",
      "MainThread 34\n",
      "MainThread 34\n",
      "MainThread 35\n",
      "MainThread 35\n",
      "MainThread 36\n",
      "MainThread 36\n",
      "MainThread 37\n",
      "MainThread 37\n",
      "MainThread 38\n",
      "MainThread 38\n",
      "MainThread 39\n",
      "MainThread 39\n",
      "MainThread 40\n",
      "MainThread 40\n",
      "MainThread 41\n",
      "MainThread 41\n",
      "MainThread 42\n",
      "MainThread 42\n",
      "MainThread 43\n",
      "MainThread 43\n",
      "MainThread 44\n",
      "MainThread 44\n",
      "MainThread 45\n",
      "MainThread 45\n",
      "MainThread 46\n",
      "MainThread 46\n",
      "MainThread 47\n",
      "MainThread 47\n",
      "MainThread 48\n",
      "MainThread 48\n",
      "MainThread 49\n",
      "MainThread 49\n",
      "MainThread 50\n",
      "MainThread 50\n",
      "MainThread 51\n",
      "MainThread 51\n",
      "MainThread 52\n",
      "MainThread 52\n",
      "MainThread 53\n",
      "MainThread 53\n",
      "MainThread 54\n",
      "MainThread 54\n",
      "MainThread 55\n",
      "MainThread 55\n",
      "MainThread 56\n",
      "MainThread 56\n",
      "MainThread 57\n",
      "MainThread 57\n",
      "MainThread 58\n",
      "MainThread 58\n",
      "MainThread 59\n",
      "MainThread 59\n",
      "MainThread 60\n",
      "MainThread 60\n",
      "MainThread 61\n",
      "MainThread 61\n",
      "MainThread 62\n",
      "MainThread 62\n",
      "MainThread 63\n",
      "MainThread 63\n",
      "MainThread 64\n",
      "MainThread 64\n",
      "MainThread 65\n",
      "MainThread 65\n",
      "MainThread 66\n",
      "MainThread 66\n",
      "MainThread 67\n",
      "MainThread 67\n",
      "MainThread 68\n",
      "MainThread 68\n",
      "MainThread 69\n",
      "MainThread 69\n",
      "MainThread 70\n",
      "MainThread 70\n",
      "MainThread 71\n",
      "MainThread 71\n",
      "MainThread 72\n",
      "MainThread 72\n",
      "MainThread 73\n",
      "MainThread 73\n",
      "MainThread 74\n",
      "MainThread 74\n",
      "MainThread 75\n",
      "MainThread 75\n",
      "MainThread 76\n",
      "MainThread 76\n",
      "MainThread 77\n",
      "MainThread 77\n",
      "MainThread 78\n",
      "MainThread 78\n",
      "MainThread 79\n",
      "MainThread 79\n",
      "MainThread 80\n",
      "MainThread 80\n",
      "MainThread 81\n",
      "MainThread 81\n",
      "MainThread 82\n",
      "MainThread 82\n",
      "MainThread 83\n",
      "MainThread 83\n",
      "MainThread 84\n",
      "MainThread 84\n",
      "MainThread 85\n",
      "MainThread 85\n",
      "MainThread 86\n",
      "MainThread 86\n",
      "MainThread 87\n",
      "MainThread 87\n",
      "MainThread 88\n",
      "MainThread 88\n",
      "MainThread 89\n",
      "MainThread 89\n",
      "MainThread 90\n",
      "MainThread 90\n",
      "MainThread 91\n",
      "MainThread 91\n",
      "MainThread 92\n",
      "MainThread 92\n",
      "MainThread 93\n",
      "MainThread 93\n",
      "MainThread 94\n",
      "MainThread 94\n",
      "MainThread 95\n",
      "MainThread 95\n",
      "MainThread 96\n",
      "MainThread 96\n",
      "MainThread 97\n",
      "MainThread 97\n",
      "MainThread 98\n",
      "MainThread 98\n",
      "MainThread 99\n",
      "MainThread 99\n"
     ]
    }
   ],
   "source": [
    "import  threading\n",
    "def action(max):\n",
    "    for i in range(max):\n",
    "        print(threading.current_thread().name+' '+str(i))\n",
    "threading.Thread(target=action,args=(100,),name='newnew').start()\n",
    "for i in range(100):\n",
    "    print(threading.current_thread().name+' '+str(i))\n",
    "    if i == 20:\n",
    "        jt=threading.Thread(target=action,args=(100,),name='join thread')\n",
    "        jt.start()\n",
    "        jt.join()\n",
    "    print(threading.current_thread().name+' '+str(i))\n",
    "\n"
   ],
   "metadata": {
    "collapsed": false,
    "pycharm": {
     "name": "#%%\n"
    }
   }
  },
  {
   "cell_type": "code",
   "execution_count": 104,
   "outputs": [
    {
     "name": "stdout",
     "output_type": "stream",
     "text": [
      "后台线程 0MainThread 0\n",
      "后台线程 1\n",
      "\n",
      "MainThread 1\n",
      "后台线程 2\n",
      "后台线程 3\n",
      "后台线程 4\n",
      "后台线程 5\n",
      "后台线程 6\n",
      "MainThread 2\n",
      "MainThread 3\n",
      "MainThread 4\n",
      "MainThread 5\n",
      "MainThread 6\n",
      "MainThread 7\n",
      "MainThread 8\n",
      "后台线程 7\n",
      "后台线程 8\n",
      "MainThread 9\n",
      "后台线程 9\n",
      "后台线程 10\n",
      "后台线程 11\n",
      "后台线程 12\n",
      "后台线程 13\n",
      "后台线程 14\n",
      "后台线程 15\n",
      "后台线程 16\n",
      "后台线程 17\n",
      "后台线程 18\n",
      "后台线程 19\n",
      "后台线程 20\n",
      "后台线程 21\n",
      "后台线程 22\n",
      "后台线程 23\n",
      "后台线程 24\n",
      "后台线程 25\n",
      "后台线程 26\n",
      "后台线程 27\n",
      "后台线程 28\n",
      "后台线程 29\n",
      "后台线程 30\n",
      "后台线程 31\n",
      "后台线程 32\n",
      "后台线程 33\n",
      "后台线程 34\n",
      "后台线程 35\n",
      "后台线程 36\n",
      "后台线程 37\n",
      "后台线程 38\n",
      "后台线程 39\n",
      "后台线程 40\n",
      "后台线程 41\n",
      "后台线程 42\n",
      "后台线程 43\n",
      "后台线程 44\n",
      "后台线程 45\n",
      "后台线程 46\n",
      "后台线程 47\n",
      "后台线程 48\n",
      "后台线程 49\n",
      "后台线程 50\n",
      "后台线程 51\n",
      "后台线程 52\n",
      "后台线程 53\n",
      "后台线程 54\n",
      "后台线程 55\n",
      "后台线程 56\n",
      "后台线程 57\n",
      "后台线程 58\n",
      "后台线程 59\n",
      "后台线程 60\n",
      "后台线程 61\n",
      "后台线程 62\n",
      "后台线程 63\n",
      "后台线程 64\n",
      "后台线程 65\n",
      "后台线程 66\n",
      "后台线程 67\n",
      "后台线程 68\n",
      "后台线程 69\n",
      "后台线程 70\n",
      "后台线程 71\n",
      "后台线程 72\n",
      "后台线程 73\n",
      "后台线程 74\n",
      "后台线程 75\n",
      "后台线程 76\n",
      "后台线程 77\n",
      "后台线程 78\n",
      "后台线程 79\n",
      "后台线程 80\n",
      "后台线程 81\n",
      "后台线程 82\n",
      "后台线程 83\n",
      "后台线程 84\n",
      "后台线程 85\n",
      "后台线程 86\n",
      "后台线程 87\n",
      "后台线程 88\n",
      "后台线程 89\n",
      "后台线程 90\n",
      "后台线程 91\n",
      "后台线程 92\n",
      "后台线程 93\n",
      "后台线程 94\n",
      "后台线程 95\n",
      "后台线程 96\n",
      "后台线程 97\n",
      "后台线程 98\n",
      "后台线程 99\n"
     ]
    }
   ],
   "source": [
    "import threading\n",
    "def action(max):\n",
    "    for i in range(max):\n",
    "        print(threading.current_thread().name+' '+str(i))\n",
    "t=threading.Thread(target=action,args=(100,),name='后台线程')\n",
    "t.daemon=True\n",
    "t.start()\n",
    "for i in range(10):\n",
    "    print(threading.current_thread().name+' '+str(i))"
   ],
   "metadata": {
    "collapsed": false,
    "pycharm": {
     "name": "#%%\n"
    }
   }
  },
  {
   "cell_type": "code",
   "execution_count": 117,
   "outputs": [
    {
     "name": "stdout",
     "output_type": "stream",
     "text": [
      "jiaget money 1000\n",
      "yue is 200\n"
     ]
    }
   ],
   "source": [
    "import threading,time\n",
    "\n",
    "class Account:\n",
    "    def __init__(self,account_no,balance):\n",
    "        self.account_no=account_no\n",
    "        self.balance=balance\n",
    "        self.lock=threading.RLock()\n",
    "    def getbalance(self):\n",
    "        return self.balance\n",
    "\n",
    "    def draw(self,draw_amount):\n",
    "        self.lock.acquire()\n",
    "        try:\n",
    "            if self.balance>=draw_amount:\n",
    "                print(threading.current_thread().name\\\n",
    "                      +\"get money \"+str(self.balance))\n",
    "            # time.sleep(0.0000001)\n",
    "                self.balance-=draw_amount\n",
    "                print(\"yue is\"+' '+str(self.balance))\n",
    "            else:\n",
    "                print('no money'+threading.current_thread().name)\n",
    "        finally:\n",
    "            self.lock.release()\n",
    "\n",
    "\n",
    "def draw(account,draw_amount):\n",
    "    account.draw(draw_amount)\n",
    "acct=Account(\"123456789\",1000)\n",
    "threading.Thread(name='jia',target=draw,args=(acct,800)).start()\n",
    "threading.Thread(name='yi',target=draw,args=(acct,800)).start()\n"
   ],
   "metadata": {
    "collapsed": false,
    "pycharm": {
     "name": "#%%\n"
    }
   }
  },
  {
   "cell_type": "code",
   "execution_count": 126,
   "outputs": [
    {
     "name": "stdout",
     "output_type": "stream",
     "text": [
      "Thread-580consume done java\n",
      "Thread-31466product done\n",
      "\n",
      "Thread-580consume Ready\n",
      "\n",
      "\n",
      "Thread-577product Ready\n",
      "Thread-24consume done swiftThread-31467product done\n",
      "\n",
      "Thread-24consume Ready\n",
      "\n",
      "Thread-23product Ready\n",
      "Thread-10107consume done swift\n",
      "Thread-31468product done\n",
      "\n",
      "\n",
      "Thread-10107consume Ready\n",
      "\n",
      "Thread-10106product Ready\n",
      "\n",
      "Thread-93consume done swiftThread-31469product done\n",
      "\n",
      "Thread-93consume Ready\n",
      "Thread-92product Ready\n",
      "Thread-909consume done python\n",
      "Thread-31470product done\n",
      "\n",
      "Thread-909consume Ready\n",
      "\n",
      "\n",
      "Thread-905product Ready\n",
      "\n"
     ]
    }
   ],
   "source": [
    "import threading,time,queue\n",
    "def product(bq):\n",
    "    str_tuple=(\"python\",\"java\",\"swift\")\n",
    "    for i in range(9999):\n",
    "        print(threading.current_thread().name+\"product Ready\\n\")\n",
    "        time.sleep(0.1)\n",
    "        bq.put(str_tuple[i%3])\n",
    "        print(threading.Thread().name+'product done\\n')\n",
    "def consume(bq):\n",
    "    while True:\n",
    "        print(threading.current_thread().name+'consume Ready\\n')\n",
    "        time.sleep(0.1)\n",
    "        t=bq.get()\n",
    "        print(threading.current_thread().name+'consume done %s\\n'%t)\n",
    "# bq=queue.Queue(maxsize=1)\n",
    "# threading.Thread(target=product,args=(bq,)).start()\n",
    "# threading.Thread(target=product,args=(bq,)).start()\n",
    "# threading.Thread(target=product,args=(bq,)).start()\n",
    "# threading.Thread(target=consume,args=(bq,)).start()"
   ],
   "metadata": {
    "collapsed": false,
    "pycharm": {
     "name": "#%%\n"
    }
   }
  },
  {
   "cell_type": "code",
   "execution_count": 128,
   "outputs": [
    {
     "name": "stdout",
     "output_type": "stream",
     "text": [
      "Thread-580consume done swift\n",
      "Thread-70291product done\n",
      "\n",
      "Thread-580consume Ready\n",
      "\n",
      "\n",
      "Thread-577product Ready\n",
      "Thread-24consume done python\n",
      "Thread-93consume done swiftThread-70292product done\n",
      "Thread-24consume Ready\n",
      "Thread-70293product done\n",
      "Thread-23product Ready\n",
      "\n",
      "Thread-93consume Ready\n",
      "Thread-10107consume done swift\n",
      "\n",
      "Thread-92product Ready\n",
      "Thread-70294product done\n",
      "\n",
      "\n",
      "Thread-10107consume Ready\n",
      "Thread-10104product Ready\n",
      "\n",
      "\n",
      "Thread-70295 start\n",
      "\n",
      "jia ready to cal\n",
      "\n",
      "Thread-70296 start\n",
      "\n",
      "yi ready to cal\n",
      "\n",
      "Thread-909consume done swift\n",
      "Thread-70297product done\n",
      "\n",
      "\n",
      "Thread-904product Ready\n",
      "\n",
      "Thread-909consume Ready\n",
      "\n",
      "Thread-580consume done swift\n",
      "Thread-70298product done\n",
      "\n",
      "Thread-580consume Ready\n",
      "\n",
      "\n",
      "Thread-576product Ready\n",
      "\n",
      "Thread-24consume done swiftThread-70299product done\n",
      "Thread-22product Ready\n",
      "\n",
      "Thread-24consume Ready\n",
      "Thread-93consume done javaThread-10107consume done python\n",
      "Thread-70300product done\n",
      "Thread-70301product done\n",
      "Thread-93consume Ready\n",
      "\n",
      "Thread-92product Ready\n",
      "\n",
      "Thread-10104product Ready\n",
      "\n",
      "\n",
      "Thread-10107consume Ready\n",
      "\n",
      "Thread-909consume done python\n",
      "Thread-70302product done\n",
      "\n",
      "Thread-909consume Ready\n",
      "\n",
      "\n",
      "Thread-905product Ready\n",
      "\n",
      "Thread-580consume done python\n",
      "Thread-70303product done\n",
      "\n",
      "\n",
      "Thread-580consume Ready\n",
      "\n",
      "Thread-24consume done pythonThread-70304product done\n",
      "\n",
      "Thread-24consume Ready\n",
      "Thread-21product Ready\n",
      "Thread-576product Ready\n",
      "\n",
      "Thread-10107consume done java\n",
      "Thread-70305product done\n",
      "\n",
      "\n",
      "Thread-10104product Ready\n",
      "Thread-10107consume Ready\n",
      "\n",
      "\n",
      "Thread-93consume done swiftThread-70306product done\n",
      "Thread-91product Ready\n",
      "\n",
      "Thread-93consume Ready\n",
      "111111111111111\n",
      "main thread event\n",
      "\n",
      "Thread-70295 get infotmation\n",
      "Thread-70296 get infotmation\n",
      "\n",
      "yi start啊数据交换\n",
      "\n",
      "\n",
      "jia start啊数据交换\n",
      "\n"
     ]
    }
   ],
   "source": [
    "event=threading.Event()\n",
    "def cal(name):\n",
    "    print('%s start\\n'% threading.current_thread().getName())\n",
    "    print('%s ready to cal\\n'%name)\n",
    "    event.wait()\n",
    "    print('%s get infotmation\\n'% threading.current_thread().getName())\n",
    "    print('%s start啊数据交换\\n'%name)\n",
    "threading.Thread(target=cal,args=('jia',)).start()\n",
    "threading.Thread(target=cal,args=('yi',)).start()\n",
    "time.sleep(0.2)\n",
    "print(\"111111111111111\")\n",
    "print('main thread event\\n')\n",
    "event.set()"
   ],
   "metadata": {
    "collapsed": false,
    "pycharm": {
     "name": "#%%\n"
    }
   }
  },
  {
   "cell_type": "code",
   "execution_count": 130,
   "outputs": [
    {
     "name": "stdout",
     "output_type": "stream",
     "text": [
      "foo 1 2\n",
      "bar hello\n",
      "foo 3 4\n"
     ]
    }
   ],
   "source": [
    "records = [\n",
    "    ('foo', 1, 2),\n",
    "    ('bar', 'hello'),\n",
    "    ('foo', 3, 4),\n",
    "]\n",
    "\n",
    "def do_foo(x, y):\n",
    "    print('foo', x, y)\n",
    "\n",
    "def do_bar(s):\n",
    "    print('bar', s)\n",
    "\n",
    "for tag, *args in records:\n",
    "    if tag == 'foo':\n",
    "        do_foo(*args)\n",
    "    elif tag == 'bar':\n",
    "        do_bar(*args)"
   ],
   "metadata": {
    "collapsed": false,
    "pycharm": {
     "name": "#%%\n"
    }
   }
  },
  {
   "cell_type": "code",
   "execution_count": 132,
   "outputs": [
    {
     "ename": "FileNotFoundError",
     "evalue": "[Errno 2] No such file or directory: '../../cookbook/somefile.txt'",
     "output_type": "error",
     "traceback": [
      "\u001B[1;31m---------------------------------------------------------------------------\u001B[0m",
      "\u001B[1;31mFileNotFoundError\u001B[0m                         Traceback (most recent call last)",
      "\u001B[1;32m<ipython-input-132-e1bdd7a8b8ef>\u001B[0m in \u001B[0;36m<module>\u001B[1;34m\u001B[0m\n\u001B[0;32m     10\u001B[0m \u001B[1;31m# Example use on a file\u001B[0m\u001B[1;33m\u001B[0m\u001B[1;33m\u001B[0m\u001B[1;33m\u001B[0m\u001B[0m\n\u001B[0;32m     11\u001B[0m \u001B[1;32mif\u001B[0m \u001B[0m__name__\u001B[0m \u001B[1;33m==\u001B[0m \u001B[1;34m'__main__'\u001B[0m\u001B[1;33m:\u001B[0m\u001B[1;33m\u001B[0m\u001B[1;33m\u001B[0m\u001B[0m\n\u001B[1;32m---> 12\u001B[1;33m     \u001B[1;32mwith\u001B[0m \u001B[0mopen\u001B[0m\u001B[1;33m(\u001B[0m\u001B[1;34mr'../../cookbook/somefile.txt'\u001B[0m\u001B[1;33m)\u001B[0m \u001B[1;32mas\u001B[0m \u001B[0mf\u001B[0m\u001B[1;33m:\u001B[0m\u001B[1;33m\u001B[0m\u001B[1;33m\u001B[0m\u001B[0m\n\u001B[0m\u001B[0;32m     13\u001B[0m         \u001B[1;32mfor\u001B[0m \u001B[0mline\u001B[0m\u001B[1;33m,\u001B[0m \u001B[0mprevlines\u001B[0m \u001B[1;32min\u001B[0m \u001B[0msearch\u001B[0m\u001B[1;33m(\u001B[0m\u001B[0mf\u001B[0m\u001B[1;33m,\u001B[0m \u001B[1;34m'python'\u001B[0m\u001B[1;33m,\u001B[0m \u001B[1;36m5\u001B[0m\u001B[1;33m)\u001B[0m\u001B[1;33m:\u001B[0m\u001B[1;33m\u001B[0m\u001B[1;33m\u001B[0m\u001B[0m\n\u001B[0;32m     14\u001B[0m             \u001B[1;32mfor\u001B[0m \u001B[0mpline\u001B[0m \u001B[1;32min\u001B[0m \u001B[0mprevlines\u001B[0m\u001B[1;33m:\u001B[0m\u001B[1;33m\u001B[0m\u001B[1;33m\u001B[0m\u001B[0m\n",
      "\u001B[1;31mFileNotFoundError\u001B[0m: [Errno 2] No such file or directory: '../../cookbook/somefile.txt'"
     ]
    }
   ],
   "source": [
    "from collections import deque\n",
    "\n",
    "def search(lines, pattern, history=5):\n",
    "    previous_lines = deque(maxlen=history)\n",
    "    for line in lines:\n",
    "        if pattern in line:\n",
    "            yield line, previous_lines\n",
    "        previous_lines.append(line)\n",
    "\n",
    "# Example use on a file\n",
    "if __name__ == '__main__':\n",
    "    with open(r'../../cookbook/somefile.txt') as f:\n",
    "        for line, prevlines in search(f, 'python', 5):\n",
    "            for pline in prevlines:\n",
    "                print(pline, end='')\n",
    "            print(line, end='')\n",
    "            print('-' * 20)\n"
   ],
   "metadata": {
    "collapsed": false,
    "pycharm": {
     "name": "#%%\n"
    }
   }
  },
  {
   "cell_type": "code",
   "execution_count": 136,
   "outputs": [
    {
     "name": "stdout",
     "output_type": "stream",
     "text": [
      "<module 'heapq' from 'C:\\\\Users\\\\E906044\\\\Anaconda3\\\\lib\\\\heapq.py'> [42, 37, 23]\n",
      "<module 'heapq' from 'C:\\\\Users\\\\E906044\\\\Anaconda3\\\\lib\\\\heapq.py'> [-4, 1, 2]\n"
     ]
    }
   ],
   "source": [
    "import  heapq\n",
    "\n",
    "nums = [1, 8, 2, 23, 7, -4, 18, 23, 42, 37, 2]\n",
    "print(heapq,nlargest(3,nums))\n",
    "print(heapq,nsmallest(3,nums))"
   ],
   "metadata": {
    "collapsed": false,
    "pycharm": {
     "name": "#%%\n"
    }
   }
  },
  {
   "cell_type": "code",
   "execution_count": 144,
   "outputs": [
    {
     "name": "stdout",
     "output_type": "stream",
     "text": [
      "[{'name': 'AAPL', 'shares': 50, 'price': 543.22}, {'name': 'ACME', 'shares': 75, 'price': 115.65}, {'name': 'IBM', 'shares': 100, 'price': 91.1}]\n"
     ]
    },
    {
     "data": {
      "text/plain": "-4"
     },
     "execution_count": 144,
     "metadata": {},
     "output_type": "execute_result"
    }
   ],
   "source": [
    "portfolio = [\n",
    "    {'name': 'IBM', 'shares': 100, 'price': 91.1},\n",
    "    {'name': 'AAPL', 'shares': 50, 'price': 543.22},\n",
    "    {'name': 'FB', 'shares': 200, 'price': 21.09},\n",
    "    {'name': 'HPQ', 'shares': 35, 'price': 31.75},\n",
    "    {'name': 'YHOO', 'shares': 45, 'price': 16.35},\n",
    "    {'name': 'ACME', 'shares': 75, 'price': 115.65}\n",
    "]\n",
    "\n",
    "cheap=heapq.nsmallest(3,portfolio,key=lambda s:s['price'])\n",
    "expensive=heapq.nlargest(3,portfolio,key=lambda s:s['price'])\n",
    "print(expensive)\n",
    "\n",
    "nums = [1, 8, 2, 23, 7, -4, 18, 23, 42, 37, 2]\n",
    "heapq.heappop(nums)\n",
    "heappop(nums)\n",
    "heappop(nums)"
   ],
   "metadata": {
    "collapsed": false,
    "pycharm": {
     "name": "#%%\n"
    }
   }
  },
  {
   "cell_type": "code",
   "execution_count": 156,
   "outputs": [
    {
     "name": "stdout",
     "output_type": "stream",
     "text": [
      "Item('bar')\n",
      "Item('spam')\n",
      "Item('foo')\n",
      "Item('foo')\n"
     ]
    }
   ],
   "source": [
    "import heapq\n",
    "class PrioityQueue:\n",
    "    def __init__(self):\n",
    "        self._queue=[]\n",
    "        self._index=0\n",
    "    def push(self,item,prioity):\n",
    "        heapq.heappush(self._queue,(-prioity,self._index,item))\n",
    "        self._index+=1\n",
    "    def pop(self):\n",
    "        return heapq.heappop(self._queue)[-1]\n",
    "\n",
    "class Item:\n",
    "    def __init__(self,name):\n",
    "        self.name=name\n",
    "    def __repr__(self):\n",
    "        return  'Item({!r})'.format(self.name)\n",
    "\n",
    "q=PrioityQueue()\n",
    "\n",
    "q.push(Item('foo'),1)\n",
    "q.push(Item('foo'), 1)\n",
    "q.push(Item('bar'), 5)\n",
    "q.push(Item('spam'), 4)\n",
    "q.push(Item('grok'), 1)\n",
    "print(q.pop())\n",
    "print(q.pop())\n",
    "print(q.pop())\n",
    "print(q.pop())"
   ],
   "metadata": {
    "collapsed": false,
    "pycharm": {
     "name": "#%%\n"
    }
   }
  },
  {
   "cell_type": "code",
   "execution_count": 170,
   "outputs": [
    {
     "data": {
      "text/plain": "{1, 2, 5, 7, 8, 45, 545}"
     },
     "execution_count": 170,
     "metadata": {},
     "output_type": "execute_result"
    }
   ],
   "source": [
    "def deque(items):\n",
    "    seen=set()\n",
    "    for item in items:\n",
    "        if item not in seen:\n",
    "            yield item\n",
    "            seen.add(item)\n",
    "a=[1,2,2,8,45,2,2,545,1,5,2,7]\n",
    "list(deque(a))\n",
    "set(a)\n",
    "set(a)"
   ],
   "metadata": {
    "collapsed": false,
    "pycharm": {
     "name": "#%%\n"
    }
   }
  },
  {
   "cell_type": "code",
   "execution_count": 171,
   "outputs": [
    {
     "data": {
      "text/plain": "[{'x': 1, 'y': 2}, {'x': 2, 'y': 4}]"
     },
     "execution_count": 171,
     "metadata": {},
     "output_type": "execute_result"
    }
   ],
   "source": [
    "def deque(items,key=None):\n",
    "    seen=set()\n",
    "    for item in items:\n",
    "        val=item if key is None else key(item)\n",
    "        if val not in seen:\n",
    "            yield item\n",
    "            seen.add(val)\n",
    "a = [ {'x':1, 'y':2}, {'x':1, 'y':3}, {'x':1, 'y':2}, {'x':2, 'y':4}]\n",
    "list(deque(a,key=lambda d:(d['x'],d['y'])))\n",
    "list(deque(a, key=lambda d: d['x']))"
   ],
   "metadata": {
    "collapsed": false,
    "pycharm": {
     "name": "#%%\n"
    }
   }
  },
  {
   "cell_type": "code",
   "execution_count": 175,
   "outputs": [
    {
     "name": "stdout",
     "output_type": "stream",
     "text": [
      "W\n",
      "r\n",
      "d\n"
     ]
    }
   ],
   "source": [
    "a = slice(5, 50, 2)\n",
    "s = 'HelloWorld'\n",
    "a.indices(len(s))\n",
    "for i in range(*a.indices(len(s))):\n",
    "    print(s[i])\n"
   ],
   "metadata": {
    "collapsed": false,
    "pycharm": {
     "name": "#%%\n"
    }
   }
  },
  {
   "cell_type": "code",
   "execution_count": 181,
   "outputs": [
    {
     "name": "stdout",
     "output_type": "stream",
     "text": [
      "[('eyes', 8), ('the', 5), ('look', 4)]\n"
     ]
    }
   ],
   "source": [
    "words = [\n",
    "    'look', 'into', 'my', 'eyes', 'look', 'into', 'my', 'eyes',\n",
    "    'the', 'eyes', 'the', 'eyes', 'the', 'eyes', 'not', 'around', 'the',\n",
    "    'eyes', \"don't\", 'look', 'around', 'the', 'eyes', 'look', 'into',\n",
    "    'my', 'eyes', \"you're\", 'under'\n",
    "]\n",
    "from collections import  Counter\n",
    "word_count=Counter(words)\n",
    "top_three=word_count.most_common(3)\n",
    "print(top_three)\n",
    "word_count['not']\n",
    "\n",
    "morewords = ['why','are','you','not','looking','in','my','eyes']\n",
    "for moreword in morewords:\n",
    "    word_count[moreword]+=1\n",
    "word_count['eyes']\n",
    "word_count.update(morewords)"
   ],
   "metadata": {
    "collapsed": false,
    "pycharm": {
     "name": "#%%\n"
    }
   }
  },
  {
   "cell_type": "code",
   "execution_count": 184,
   "outputs": [
    {
     "name": "stdout",
     "output_type": "stream",
     "text": [
      "[{'fname': 'Big', 'lname': 'Jones', 'uid': 1004}, {'fname': 'Brian', 'lname': 'Jones', 'uid': 1003}, {'fname': 'David', 'lname': 'Beazley', 'uid': 1002}, {'fname': 'John', 'lname': 'Cleese', 'uid': 1001}]\n"
     ]
    }
   ],
   "source": [
    "rows = [\n",
    "    {'fname': 'Brian', 'lname': 'Jones', 'uid': 1003},\n",
    "    {'fname': 'David', 'lname': 'Beazley', 'uid': 1002},\n",
    "    {'fname': 'John', 'lname': 'Cleese', 'uid': 1001},\n",
    "    {'fname': 'Big', 'lname': 'Jones', 'uid': 1004}\n",
    "]\n",
    "from  operator import  itemgetter\n",
    "rows_by_fname=sorted(rows,key=itemgetter('fname'))\n",
    "print(rows_by_fname)"
   ],
   "metadata": {
    "collapsed": false,
    "pycharm": {
     "name": "#%%\n"
    }
   }
  },
  {
   "cell_type": "code",
   "execution_count": null,
   "outputs": [],
   "source": [
    "import math\n",
    "print('The value of PI is approximately {}.'.format(math.pi))\n",
    "print('The value of PI is approximately {!r}.'.format(math.pi))\n",
    "print('The value of PI is approximately {0:.3f}.'.format(math.pi))"
   ],
   "metadata": {
    "collapsed": false,
    "pycharm": {
     "name": "#%%\n"
    }
   }
  },
  {
   "cell_type": "code",
   "execution_count": 190,
   "outputs": [
    {
     "name": "stdout",
     "output_type": "stream",
     "text": [
      "07/01/2012\n",
      " {'address': '5412 N CLARK', 'date': '07/01/2012'}\n",
      " {'address': '4801 N BROADWAY', 'date': '07/01/2012'}\n",
      "07/02/2012\n",
      " {'address': '5800 E 58TH', 'date': '07/02/2012'}\n",
      " {'address': '5645 N RAVENSWOOD', 'date': '07/02/2012'}\n",
      " {'address': '1060 W ADDISON', 'date': '07/02/2012'}\n",
      "07/03/2012\n",
      " {'address': '2122 N CLARK', 'date': '07/03/2012'}\n",
      "07/04/2012\n",
      " {'address': '5148 N CLARK', 'date': '07/04/2012'}\n",
      " {'address': '1039 W GRANVILLE', 'date': '07/04/2012'}\n"
     ]
    }
   ],
   "source": [
    "rows = [\n",
    "    {'address': '5412 N CLARK', 'date': '07/01/2012'},\n",
    "    {'address': '5148 N CLARK', 'date': '07/04/2012'},\n",
    "    {'address': '5800 E 58TH', 'date': '07/02/2012'},\n",
    "    {'address': '2122 N CLARK', 'date': '07/03/2012'},\n",
    "    {'address': '5645 N RAVENSWOOD', 'date': '07/02/2012'},\n",
    "    {'address': '1060 W ADDISON', 'date': '07/02/2012'},\n",
    "    {'address': '4801 N BROADWAY', 'date': '07/01/2012'},\n",
    "    {'address': '1039 W GRANVILLE', 'date': '07/04/2012'},\n",
    "]\n",
    "\n",
    "from  operator import itemgetter\n",
    "from  itertools import groupby\n",
    "rows.sort(key=itemgetter('date'))\n",
    "for date,items in groupby(rows,key=itemgetter('date')):\n",
    "    print(date)\n",
    "    for i in items:\n",
    "        print('',i)"
   ],
   "metadata": {
    "collapsed": false,
    "pycharm": {
     "name": "#%%\n"
    }
   }
  },
  {
   "cell_type": "code",
   "execution_count": 193,
   "outputs": [
    {
     "data": {
      "text/plain": "defaultdict(list,\n            {'07/01/2012': [{'address': '5412 N CLARK', 'date': '07/01/2012'},\n              {'address': '4801 N BROADWAY', 'date': '07/01/2012'}],\n             '07/02/2012': [{'address': '5800 E 58TH', 'date': '07/02/2012'},\n              {'address': '5645 N RAVENSWOOD', 'date': '07/02/2012'},\n              {'address': '1060 W ADDISON', 'date': '07/02/2012'}],\n             '07/03/2012': [{'address': '2122 N CLARK', 'date': '07/03/2012'}],\n             '07/04/2012': [{'address': '5148 N CLARK', 'date': '07/04/2012'},\n              {'address': '1039 W GRANVILLE', 'date': '07/04/2012'}]})"
     },
     "execution_count": 193,
     "metadata": {},
     "output_type": "execute_result"
    }
   ],
   "source": [
    "from collections import defaultdict\n",
    "rows_by_date=defaultdict(list)\n",
    "for row in rows:\n",
    "    rows_by_date[row['date']].append(row)\n",
    "rows_by_date"
   ],
   "metadata": {
    "collapsed": false,
    "pycharm": {
     "name": "#%%\n"
    }
   }
  },
  {
   "cell_type": "code",
   "execution_count": 198,
   "outputs": [
    {
     "name": "stdout",
     "output_type": "stream",
     "text": [
      "1\n",
      "4\n",
      "10\n",
      "2\n",
      "3\n"
     ]
    }
   ],
   "source": [
    "mylist = [1, 4, -5, 10, -7, 2, 3, -1]\n",
    "[n for n in mylist if n>0]\n",
    "pos=(n for n in mylist if n>0)\n",
    "pos\n",
    "for po in pos:\n",
    "    print(po)"
   ],
   "metadata": {
    "collapsed": false,
    "pycharm": {
     "name": "#%%\n"
    }
   }
  },
  {
   "cell_type": "code",
   "execution_count": 202,
   "outputs": [
    {
     "name": "stdout",
     "output_type": "stream",
     "text": [
      "['1', '2', '-3', '4', '5']\n",
      "[1.0, 2.0, 3.1622776601683795, 1.4142135623730951, 1.7320508075688772]\n"
     ]
    }
   ],
   "source": [
    "values = ['1', '2', '-3', '-', '4', 'N/A', '5']\n",
    "def is_int(val):\n",
    "    try:\n",
    "        x=int(val)\n",
    "        return True\n",
    "    except ValueError:\n",
    "        return False\n",
    "ivals=list(filter(is_int,values))\n",
    "print(ivals)\n",
    "\n",
    "mylist = [1, 4, -5, 10, -7, 2, 3, -1]\n",
    "import math\n",
    "s=[math.sqrt(n) for n in mylist if n>0]\n",
    "print(s)"
   ],
   "metadata": {
    "collapsed": false,
    "pycharm": {
     "name": "#%%\n"
    }
   }
  },
  {
   "cell_type": "code",
   "execution_count": 206,
   "outputs": [
    {
     "data": {
      "text/plain": "[0, 0, -5, 0, -7, 0, 0, -1]"
     },
     "execution_count": 206,
     "metadata": {},
     "output_type": "execute_result"
    }
   ],
   "source": [
    "clip_neg = [n if n > 0 else 0 for n in mylist]\n",
    "clip_neg\n",
    "clip_pos= [n if n < 0 else 0 for n in mylist]\n",
    "clip_pos"
   ],
   "metadata": {
    "collapsed": false,
    "pycharm": {
     "name": "#%%\n"
    }
   }
  },
  {
   "cell_type": "code",
   "execution_count": 209,
   "outputs": [
    {
     "data": {
      "text/plain": "['5800 E 58TH', '1060 W ADDISON', '4801 N BROADWAY']"
     },
     "execution_count": 209,
     "metadata": {},
     "output_type": "execute_result"
    }
   ],
   "source": [
    "address=[\\\n",
    "    '5412 N CLARK',\n",
    "    '5148 N CLARK',\n",
    "    '5800 E 58TH',\n",
    "    '2122 N CLARK',\n",
    "    '5645 N RAVENSWOOD',\n",
    "    '1060 W ADDISON',\n",
    "    '4801 N BROADWAY',\n",
    "    '1039 W GRANVILLE',\n",
    "]\n",
    "counts = [ 0, 3, 10, 4, 1, 7, 6, 1]\n",
    "\n",
    "from  itertools import compress\n",
    "\n",
    "mores=[ n>5 for n in counts]\n",
    "mores\n",
    "list(compress(address,mores))"
   ],
   "metadata": {
    "collapsed": false,
    "pycharm": {
     "name": "#%%\n"
    }
   }
  },
  {
   "cell_type": "code",
   "execution_count": 214,
   "outputs": [
    {
     "data": {
      "text/plain": "{'AAPL': 612.78, 'IBM': 205.55, 'HPQ': 37.2}"
     },
     "execution_count": 214,
     "metadata": {},
     "output_type": "execute_result"
    }
   ],
   "source": [
    "prices = {\n",
    "    'ACME': 45.23,\n",
    "    'AAPL': 612.78,\n",
    "    'IBM': 205.55,\n",
    "    'HPQ': 37.20,\n",
    "    'FB': 10.75\n",
    "}\n",
    "p1={key:value for key,value in prices.items() if value >200}\n",
    "tech_name={'AAPL','IBM','HPQ','MSFT'}\n",
    "p2={key:value for key,value in prices.items() if key in tech_name}\n",
    "p2"
   ],
   "metadata": {
    "collapsed": false,
    "pycharm": {
     "name": "#%%\n"
    }
   }
  },
  {
   "cell_type": "code",
   "execution_count": 221,
   "outputs": [
    {
     "name": "stdout",
     "output_type": "stream",
     "text": [
      "leafcool@live.com 2020-11-10\n"
     ]
    }
   ],
   "source": [
    "from collections import  namedtuple\n",
    "subscriber=namedtuple('testtype',['addr','joined'])\n",
    "sub=subscriber('leafcool@live.com','2020-11-10')\n",
    "sub\n",
    "sub.addr\n",
    "sub.joined\n",
    "len(sub)\n",
    "addr,join=sub\n",
    "print(addr,join)"
   ],
   "metadata": {
    "collapsed": false,
    "pycharm": {
     "name": "#%%\n"
    }
   }
  },
  {
   "cell_type": "code",
   "execution_count": 224,
   "outputs": [
    {
     "ename": "TypeError",
     "evalue": "__new__() takes 4 positional arguments but 5 were given",
     "output_type": "error",
     "traceback": [
      "\u001B[1;31m---------------------------------------------------------------------------\u001B[0m",
      "\u001B[1;31mTypeError\u001B[0m                                 Traceback (most recent call last)",
      "\u001B[1;32m<ipython-input-224-5694f40f5cbc>\u001B[0m in \u001B[0;36m<module>\u001B[1;34m\u001B[0m\n\u001B[0;32m      9\u001B[0m \u001B[0mstock\u001B[0m\u001B[1;33m=\u001B[0m\u001B[0mnamedtuple\u001B[0m\u001B[1;33m(\u001B[0m\u001B[1;34m'stock'\u001B[0m\u001B[1;33m,\u001B[0m\u001B[1;33m[\u001B[0m\u001B[1;34m'name'\u001B[0m\u001B[1;33m,\u001B[0m\u001B[1;34m'shares'\u001B[0m\u001B[1;33m,\u001B[0m\u001B[1;34m'price'\u001B[0m\u001B[1;33m]\u001B[0m\u001B[1;33m)\u001B[0m\u001B[1;33m\u001B[0m\u001B[1;33m\u001B[0m\u001B[0m\n\u001B[0;32m     10\u001B[0m \u001B[0ms\u001B[0m \u001B[1;33m=\u001B[0m \u001B[0mstock\u001B[0m\u001B[1;33m(\u001B[0m\u001B[1;34m'ACME'\u001B[0m\u001B[1;33m,\u001B[0m \u001B[1;36m100\u001B[0m\u001B[1;33m,\u001B[0m \u001B[1;36m123.45\u001B[0m\u001B[1;33m)\u001B[0m\u001B[1;33m\u001B[0m\u001B[1;33m\u001B[0m\u001B[0m\n\u001B[1;32m---> 11\u001B[1;33m \u001B[0mcompute_cost\u001B[0m\u001B[1;33m(\u001B[0m\u001B[0ms\u001B[0m\u001B[1;33m)\u001B[0m\u001B[1;33m\u001B[0m\u001B[1;33m\u001B[0m\u001B[0m\n\u001B[0m",
      "\u001B[1;32m<ipython-input-224-5694f40f5cbc>\u001B[0m in \u001B[0;36mcompute_cost\u001B[1;34m(records)\u001B[0m\n\u001B[0;32m      2\u001B[0m     \u001B[0mtotal\u001B[0m \u001B[1;33m=\u001B[0m \u001B[1;36m0.0\u001B[0m\u001B[1;33m\u001B[0m\u001B[1;33m\u001B[0m\u001B[0m\n\u001B[0;32m      3\u001B[0m     \u001B[1;32mfor\u001B[0m \u001B[0mrec\u001B[0m \u001B[1;32min\u001B[0m \u001B[0mrecords\u001B[0m\u001B[1;33m:\u001B[0m\u001B[1;33m\u001B[0m\u001B[1;33m\u001B[0m\u001B[0m\n\u001B[1;32m----> 4\u001B[1;33m         \u001B[0ms\u001B[0m\u001B[1;33m=\u001B[0m\u001B[0mstock\u001B[0m\u001B[1;33m(\u001B[0m\u001B[1;33m*\u001B[0m\u001B[0mrec\u001B[0m\u001B[1;33m)\u001B[0m\u001B[1;33m\u001B[0m\u001B[1;33m\u001B[0m\u001B[0m\n\u001B[0m\u001B[0;32m      5\u001B[0m         \u001B[0mtotal\u001B[0m \u001B[1;33m+=\u001B[0m\u001B[0ms\u001B[0m\u001B[1;33m.\u001B[0m\u001B[0mshares\u001B[0m \u001B[1;33m*\u001B[0m \u001B[0ms\u001B[0m\u001B[1;33m.\u001B[0m\u001B[0mprice\u001B[0m\u001B[1;33m\u001B[0m\u001B[1;33m\u001B[0m\u001B[0m\n\u001B[0;32m      6\u001B[0m     \u001B[1;32mreturn\u001B[0m \u001B[0mtotal\u001B[0m\u001B[1;33m\u001B[0m\u001B[1;33m\u001B[0m\u001B[0m\n",
      "\u001B[1;31mTypeError\u001B[0m: __new__() takes 4 positional arguments but 5 were given"
     ]
    }
   ],
   "source": [
    "def compute_cost(records):\n",
    "    total = 0.0\n",
    "    for rec in records:\n",
    "        s=stock(*rec)\n",
    "        total +=s.shares * s.price\n",
    "    return total\n",
    "\n",
    "from collections import namedtuple\n",
    "stock=namedtuple('stock',['name','shares','price'])\n",
    "s = stock('ACME', 100, 123.45)\n",
    "compute_cost(s)"
   ],
   "metadata": {
    "collapsed": false,
    "pycharm": {
     "name": "#%%\n"
    }
   }
  },
  {
   "cell_type": "code",
   "execution_count": 226,
   "outputs": [
    {
     "data": {
      "text/plain": "stock(name='ACME', shares=100, price=123.45, date=None, time=None)"
     },
     "execution_count": 226,
     "metadata": {},
     "output_type": "execute_result"
    }
   ],
   "source": [
    "stock=namedtuple('stock',['name','shares','price','date','time'])\n",
    "stock_prototype=stock('',0,0,None,None)\n",
    "def dict_to_stock(s):\n",
    "    return stock_prototype._replace(**s)\n",
    "a = {'name': 'ACME', 'shares': 100, 'price': 123.45}\n",
    "dict_to_stock(a)"
   ],
   "metadata": {
    "collapsed": false,
    "pycharm": {
     "name": "#%%\n"
    }
   }
  },
  {
   "cell_type": "code",
   "execution_count": 234,
   "outputs": [
    {
     "data": {
      "text/plain": "20"
     },
     "execution_count": 234,
     "metadata": {},
     "output_type": "execute_result"
    }
   ],
   "source": [
    "import os\n",
    "# files = os.listdir('dirname')\n",
    "# if any(name.endswith('.py') for name in files):\n",
    "#     print('There be python!')\n",
    "# else:\n",
    "#     print('Sorry, no python.')\n",
    "# # Output a tuple as CSV\n",
    "# s = ('ACME', 50, 123.45)\n",
    "# print(','.join(str(x) for x in s))\n",
    "# # Data reduction across fields of a data structure\n",
    "portfolio = [\n",
    "    {'name':'GOOG', 'shares': 50},\n",
    "    {'name':'YHOO', 'shares': 75},\n",
    "    {'name':'AOL', 'shares': 20},\n",
    "    {'name':'SCOX', 'shares': 65}\n",
    "]\n",
    "min_shares = min(s['shares'] for s in portfolio)\n",
    "min_shares\n",
    "#\n",
    "# s = ('ACME', 50, 123.45)\n",
    "# print(','.join(str(x) for x in s))"
   ],
   "metadata": {
    "collapsed": false,
    "pycharm": {
     "name": "#%%\n"
    }
   }
  },
  {
   "cell_type": "code",
   "execution_count": 237,
   "outputs": [
    {
     "name": "stdout",
     "output_type": "stream",
     "text": [
      "1\n"
     ]
    },
    {
     "ename": "KeyError",
     "evalue": "\"Key not found in the first mapping: 'y'\"",
     "output_type": "error",
     "traceback": [
      "\u001B[1;31m---------------------------------------------------------------------------\u001B[0m",
      "\u001B[1;31mKeyError\u001B[0m                                  Traceback (most recent call last)",
      "\u001B[1;32m~\\Anaconda3\\lib\\collections\\__init__.py\u001B[0m in \u001B[0;36m__delitem__\u001B[1;34m(self, key)\u001B[0m\n\u001B[0;32m    950\u001B[0m         \u001B[1;32mtry\u001B[0m\u001B[1;33m:\u001B[0m\u001B[1;33m\u001B[0m\u001B[1;33m\u001B[0m\u001B[0m\n\u001B[1;32m--> 951\u001B[1;33m             \u001B[1;32mdel\u001B[0m \u001B[0mself\u001B[0m\u001B[1;33m.\u001B[0m\u001B[0mmaps\u001B[0m\u001B[1;33m[\u001B[0m\u001B[1;36m0\u001B[0m\u001B[1;33m]\u001B[0m\u001B[1;33m[\u001B[0m\u001B[0mkey\u001B[0m\u001B[1;33m]\u001B[0m\u001B[1;33m\u001B[0m\u001B[1;33m\u001B[0m\u001B[0m\n\u001B[0m\u001B[0;32m    952\u001B[0m         \u001B[1;32mexcept\u001B[0m \u001B[0mKeyError\u001B[0m\u001B[1;33m:\u001B[0m\u001B[1;33m\u001B[0m\u001B[1;33m\u001B[0m\u001B[0m\n",
      "\u001B[1;31mKeyError\u001B[0m: 'y'",
      "\nDuring handling of the above exception, another exception occurred:\n",
      "\u001B[1;31mKeyError\u001B[0m                                  Traceback (most recent call last)",
      "\u001B[1;32m<ipython-input-237-dc987bc2f08b>\u001B[0m in \u001B[0;36m<module>\u001B[1;34m\u001B[0m\n\u001B[0;32m      4\u001B[0m \u001B[0mc\u001B[0m\u001B[1;33m=\u001B[0m\u001B[0mChainMap\u001B[0m\u001B[1;33m(\u001B[0m\u001B[0ma\u001B[0m\u001B[1;33m,\u001B[0m\u001B[0mb\u001B[0m\u001B[1;33m)\u001B[0m\u001B[1;33m\u001B[0m\u001B[1;33m\u001B[0m\u001B[0m\n\u001B[0;32m      5\u001B[0m \u001B[0mprint\u001B[0m\u001B[1;33m(\u001B[0m\u001B[0mc\u001B[0m\u001B[1;33m[\u001B[0m\u001B[1;34m'x'\u001B[0m\u001B[1;33m]\u001B[0m\u001B[1;33m)\u001B[0m\u001B[1;33m\u001B[0m\u001B[1;33m\u001B[0m\u001B[0m\n\u001B[1;32m----> 6\u001B[1;33m \u001B[1;32mdel\u001B[0m \u001B[0mc\u001B[0m\u001B[1;33m[\u001B[0m\u001B[1;34m'y'\u001B[0m\u001B[1;33m]\u001B[0m\u001B[1;33m\u001B[0m\u001B[1;33m\u001B[0m\u001B[0m\n\u001B[0m\u001B[0;32m      7\u001B[0m \u001B[1;33m\u001B[0m\u001B[0m\n\u001B[0;32m      8\u001B[0m \u001B[1;33m\u001B[0m\u001B[0m\n",
      "\u001B[1;32m~\\Anaconda3\\lib\\collections\\__init__.py\u001B[0m in \u001B[0;36m__delitem__\u001B[1;34m(self, key)\u001B[0m\n\u001B[0;32m    951\u001B[0m             \u001B[1;32mdel\u001B[0m \u001B[0mself\u001B[0m\u001B[1;33m.\u001B[0m\u001B[0mmaps\u001B[0m\u001B[1;33m[\u001B[0m\u001B[1;36m0\u001B[0m\u001B[1;33m]\u001B[0m\u001B[1;33m[\u001B[0m\u001B[0mkey\u001B[0m\u001B[1;33m]\u001B[0m\u001B[1;33m\u001B[0m\u001B[1;33m\u001B[0m\u001B[0m\n\u001B[0;32m    952\u001B[0m         \u001B[1;32mexcept\u001B[0m \u001B[0mKeyError\u001B[0m\u001B[1;33m:\u001B[0m\u001B[1;33m\u001B[0m\u001B[1;33m\u001B[0m\u001B[0m\n\u001B[1;32m--> 953\u001B[1;33m             \u001B[1;32mraise\u001B[0m \u001B[0mKeyError\u001B[0m\u001B[1;33m(\u001B[0m\u001B[1;34m'Key not found in the first mapping: {!r}'\u001B[0m\u001B[1;33m.\u001B[0m\u001B[0mformat\u001B[0m\u001B[1;33m(\u001B[0m\u001B[0mkey\u001B[0m\u001B[1;33m)\u001B[0m\u001B[1;33m)\u001B[0m\u001B[1;33m\u001B[0m\u001B[1;33m\u001B[0m\u001B[0m\n\u001B[0m\u001B[0;32m    954\u001B[0m \u001B[1;33m\u001B[0m\u001B[0m\n\u001B[0;32m    955\u001B[0m     \u001B[1;32mdef\u001B[0m \u001B[0mpopitem\u001B[0m\u001B[1;33m(\u001B[0m\u001B[0mself\u001B[0m\u001B[1;33m)\u001B[0m\u001B[1;33m:\u001B[0m\u001B[1;33m\u001B[0m\u001B[1;33m\u001B[0m\u001B[0m\n",
      "\u001B[1;31mKeyError\u001B[0m: \"Key not found in the first mapping: 'y'\""
     ]
    }
   ],
   "source": [
    "from collections import ChainMap\n",
    "a = {'x': 1, 'z': 3 }\n",
    "b = {'y': 2, 'z': 4 }\n",
    "c=ChainMap(a,b)\n",
    "print(c['x'])\n",
    "del c['y']"
   ],
   "metadata": {
    "collapsed": false,
    "pycharm": {
     "name": "#%%\n"
    }
   }
  },
  {
   "cell_type": "code",
   "execution_count": 240,
   "outputs": [
    {
     "data": {
      "text/plain": "{'y': 2, 'z': 3, 'x': 1}"
     },
     "execution_count": 240,
     "metadata": {},
     "output_type": "execute_result"
    }
   ],
   "source": [
    "a = {'x': 1, 'z': 3 }\n",
    "b = {'y': 2, 'z': 4 }\n",
    "merged=dict(b)\n",
    "merged.update(a)\n",
    "merged"
   ],
   "metadata": {
    "collapsed": false,
    "pycharm": {
     "name": "#%%\n"
    }
   }
  },
  {
   "cell_type": "code",
   "execution_count": 241,
   "outputs": [
    {
     "data": {
      "text/plain": "['asdf', 'fjdk', 'afed', 'fjek', 'asdf', 'foo']"
     },
     "execution_count": 241,
     "metadata": {},
     "output_type": "execute_result"
    }
   ],
   "source": [
    "import re\n",
    "line = 'asdf fjdk; afed, fjek,asdf, foo'\n",
    "re.split(r'[;,\\s]\\s*',line)\n"
   ],
   "metadata": {
    "collapsed": false,
    "pycharm": {
     "name": "#%%\n"
    }
   }
  },
  {
   "cell_type": "code",
   "execution_count": 243,
   "outputs": [
    {
     "data": {
      "text/plain": "['asdf', ' ', 'fjdk', ';', 'afed', ',', 'fjek', ',', 'asdf', ',', 'foo']"
     },
     "execution_count": 243,
     "metadata": {},
     "output_type": "execute_result"
    }
   ],
   "source": [
    "fields = re.split(r'(;|,|\\s)\\s*', line)\n",
    "fields"
   ],
   "metadata": {
    "collapsed": false,
    "pycharm": {
     "name": "#%%\n"
    }
   }
  },
  {
   "cell_type": "code",
   "execution_count": 251,
   "outputs": [
    {
     "data": {
      "text/plain": "True"
     },
     "execution_count": 251,
     "metadata": {},
     "output_type": "execute_result"
    }
   ],
   "source": [
    "filename='spam.txt'\n",
    "filename.endswith('.txt')\n",
    "filename.startswith('file:')\n",
    "url='http://www.python.org'\n",
    "url.startswith('http:')"
   ],
   "metadata": {
    "collapsed": false,
    "pycharm": {
     "name": "#%%\n"
    }
   }
  },
  {
   "cell_type": "code",
   "execution_count": 259,
   "outputs": [
    {
     "data": {
      "text/plain": "False"
     },
     "execution_count": 259,
     "metadata": {},
     "output_type": "execute_result"
    }
   ],
   "source": [
    "import os\n",
    "filename=os.listdir('.')\n",
    "filename\n",
    "# [name for  name in filename if name.endwith(('.c','.h','.py'))]\n",
    "any(name.endswith('.py') for name in filename)"
   ],
   "metadata": {
    "collapsed": false,
    "pycharm": {
     "name": "#%%\n"
    }
   }
  },
  {
   "cell_type": "code",
   "execution_count": null,
   "outputs": [],
   "source": [
    "from  urllib.request import urlopen\n",
    "\n",
    "def read_data(name):\n",
    "    if name.startswith(('http:','https:','ftp:')):\n",
    "        return urlopen(name).read()\n",
    "    else:\n",
    "        with open(name) as f:\n",
    "            return f.read()"
   ],
   "metadata": {
    "collapsed": false,
    "pycharm": {
     "name": "#%%\n"
    }
   }
  },
  {
   "cell_type": "code",
   "execution_count": 262,
   "outputs": [
    {
     "ename": "TypeError",
     "evalue": "startswith first arg must be str or a tuple of str, not list",
     "output_type": "error",
     "traceback": [
      "\u001B[1;31m---------------------------------------------------------------------------\u001B[0m",
      "\u001B[1;31mTypeError\u001B[0m                                 Traceback (most recent call last)",
      "\u001B[1;32m<ipython-input-262-700764dd77b7>\u001B[0m in \u001B[0;36m<module>\u001B[1;34m\u001B[0m\n\u001B[0;32m      1\u001B[0m \u001B[0mchoices\u001B[0m \u001B[1;33m=\u001B[0m \u001B[1;33m[\u001B[0m\u001B[1;34m'http:'\u001B[0m\u001B[1;33m,\u001B[0m \u001B[1;34m'ftp:'\u001B[0m\u001B[1;33m]\u001B[0m\u001B[1;33m\u001B[0m\u001B[1;33m\u001B[0m\u001B[0m\n\u001B[0;32m      2\u001B[0m \u001B[0murl\u001B[0m \u001B[1;33m=\u001B[0m \u001B[1;34m'http://www.python.org'\u001B[0m\u001B[1;33m\u001B[0m\u001B[1;33m\u001B[0m\u001B[0m\n\u001B[1;32m----> 3\u001B[1;33m \u001B[0murl\u001B[0m\u001B[1;33m.\u001B[0m\u001B[0mstartswith\u001B[0m\u001B[1;33m(\u001B[0m\u001B[0mchoices\u001B[0m\u001B[1;33m)\u001B[0m\u001B[1;33m\u001B[0m\u001B[1;33m\u001B[0m\u001B[0m\n\u001B[0m\u001B[0;32m      4\u001B[0m \u001B[1;33m\u001B[0m\u001B[0m\n\u001B[0;32m      5\u001B[0m \u001B[1;33m\u001B[0m\u001B[0m\n",
      "\u001B[1;31mTypeError\u001B[0m: startswith first arg must be str or a tuple of str, not list"
     ]
    }
   ],
   "source": [
    "choices = ['http:', 'ftp:']\n",
    "url = 'http://www.python.org'\n",
    "url.startswith(choices)"
   ],
   "metadata": {
    "collapsed": false,
    "pycharm": {
     "name": "#%%\n"
    }
   }
  },
  {
   "cell_type": "code",
   "execution_count": 268,
   "outputs": [
    {
     "data": {
      "text/plain": "<re.Match object; span=(0, 5), match='http:'>"
     },
     "execution_count": 268,
     "metadata": {},
     "output_type": "execute_result"
    }
   ],
   "source": [
    "filename = 'spam.txt'\n",
    "filename[-4:]=='.txt'\n",
    "url = 'http://www.python.org'\n",
    "url[:5] == 'http:' or url[:6] == 'https:' or url[:4] == 'ftp:'\n",
    "re.match('http:|https:|ftp:', url)"
   ],
   "metadata": {
    "collapsed": false,
    "pycharm": {
     "name": "#%%\n"
    }
   }
  },
  {
   "cell_type": "code",
   "execution_count": 274,
   "outputs": [
    {
     "data": {
      "text/plain": "-1"
     },
     "execution_count": 274,
     "metadata": {},
     "output_type": "execute_result"
    }
   ],
   "source": [
    "text = 'yeah, but no, but yeah, but no, but yeah'\n",
    "text='yeah'\n",
    "text.startswith('yeah')\n",
    "text.endswith('no')\n",
    "text.find('but')"
   ],
   "metadata": {
    "collapsed": false,
    "pycharm": {
     "name": "#%%\n"
    }
   }
  },
  {
   "cell_type": "code",
   "execution_count": 276,
   "outputs": [
    {
     "name": "stdout",
     "output_type": "stream",
     "text": [
      "yes\n"
     ]
    }
   ],
   "source": [
    "text1 = '11/27/2012'\n",
    "text2 = 'Nov 27, 2012'\n",
    "datepat = re.compile(r'\\d+/\\d+/\\d+')\n",
    "if datepat.match(text1):\n",
    "    print('yes')"
   ],
   "metadata": {
    "collapsed": false,
    "pycharm": {
     "name": "#%%\n"
    }
   }
  },
  {
   "cell_type": "code",
   "execution_count": 279,
   "outputs": [
    {
     "data": {
      "text/plain": "'Today is 2012-11-27. PyCon starts 2013-3-13.'"
     },
     "execution_count": 279,
     "metadata": {},
     "output_type": "execute_result"
    }
   ],
   "source": [
    "text = 'Today is 11/27/2012. PyCon starts 3/13/2013.'\n",
    "re.sub(r'(\\d+)/(\\d+)/(\\d+)',r'\\3-\\1-\\2',text)\n",
    "\n",
    "datepat = re.compile(r'(\\d+)/(\\d+)/(\\d+)')\n",
    "datepat.sub(r'\\3-\\1-\\2',text)"
   ],
   "metadata": {
    "collapsed": false,
    "pycharm": {
     "name": "#%%\n"
    }
   }
  },
  {
   "cell_type": "code",
   "execution_count": 283,
   "outputs": [
    {
     "data": {
      "text/plain": "'UPPER snake, lower snake, Mixed snake'"
     },
     "execution_count": 283,
     "metadata": {},
     "output_type": "execute_result"
    }
   ],
   "source": [
    "text = 'UPPER PYTHON, lower python, Mixed Python'\n",
    "\n",
    "re.findall('python', text, flags=re.IGNORECASE)\n",
    "re.sub('python', 'snake', text, flags=re.IGNORECASE)"
   ],
   "metadata": {
    "collapsed": false,
    "pycharm": {
     "name": "#%%\n"
    }
   }
  },
  {
   "cell_type": "code",
   "execution_count": 288,
   "outputs": [
    {
     "name": "stdout",
     "output_type": "stream",
     "text": [
      "'Spicy Jalape\\xf1o'\n"
     ]
    }
   ],
   "source": [
    "s1 = 'Spicy Jalape\\u00f1o'\n",
    "s2 = 'Spicy Jalapen\\u0303o'\n",
    "s1\n",
    "s2\n",
    "\n",
    "s1==s2\n",
    "import unicodedata\n",
    "print(ascii(s1))"
   ],
   "metadata": {
    "collapsed": false,
    "pycharm": {
     "name": "#%%\n"
    }
   }
  },
  {
   "cell_type": "code",
   "execution_count": 295,
   "outputs": [
    {
     "name": "stdout",
     "output_type": "stream",
     "text": [
      "Is Chicago Not Chicago?\n"
     ]
    },
    {
     "data": {
      "text/plain": "'ACME,50,91.1'"
     },
     "execution_count": 295,
     "metadata": {},
     "output_type": "execute_result"
    }
   ],
   "source": [
    "text = 'Hello World'\n",
    "\n",
    "format(text, '=>20s')\n",
    "a = 'Is Chicago'\n",
    "b = 'Not Chicago?'\n",
    "print('{} {}'.format(a,b))\n",
    "\n",
    "a='hello'  'world'\n",
    "a\n",
    "data = ['ACME', 50, 91.1]\n",
    "','.join(str(d) for d in data)"
   ],
   "metadata": {
    "collapsed": false,
    "pycharm": {
     "name": "#%%\n"
    }
   }
  },
  {
   "cell_type": "code",
   "execution_count": 303,
   "outputs": [
    {
     "name": "stdout",
     "output_type": "stream",
     "text": [
      "{name} has {n} messages.\n"
     ]
    }
   ],
   "source": [
    "s = '{name} has {n} messages.'\n",
    "\n",
    "s.format(name='leafcool',n=27)\n",
    "print(s)\n"
   ],
   "metadata": {
    "collapsed": false,
    "pycharm": {
     "name": "#%%\n"
    }
   }
  },
  {
   "cell_type": "code",
   "execution_count": 306,
   "outputs": [
    {
     "ename": "KeyError",
     "evalue": "'name'",
     "output_type": "error",
     "traceback": [
      "\u001B[1;31m---------------------------------------------------------------------------\u001B[0m",
      "\u001B[1;31mKeyError\u001B[0m                                  Traceback (most recent call last)",
      "\u001B[1;32m<ipython-input-306-489ab80707b5>\u001B[0m in \u001B[0;36m<module>\u001B[1;34m\u001B[0m\n\u001B[0;32m      5\u001B[0m \u001B[0ma\u001B[0m\u001B[1;33m=\u001B[0m\u001B[0mInfo\u001B[0m\u001B[1;33m(\u001B[0m\u001B[1;34m'leafcool'\u001B[0m\u001B[1;33m,\u001B[0m\u001B[1;36m27\u001B[0m\u001B[1;33m)\u001B[0m\u001B[1;33m\u001B[0m\u001B[1;33m\u001B[0m\u001B[0m\n\u001B[0;32m      6\u001B[0m \u001B[0ms\u001B[0m\u001B[1;33m.\u001B[0m\u001B[0mformat_map\u001B[0m\u001B[1;33m(\u001B[0m\u001B[0mvars\u001B[0m\u001B[1;33m(\u001B[0m\u001B[0ma\u001B[0m\u001B[1;33m)\u001B[0m\u001B[1;33m)\u001B[0m\u001B[1;33m\u001B[0m\u001B[1;33m\u001B[0m\u001B[0m\n\u001B[1;32m----> 7\u001B[1;33m \u001B[0ms\u001B[0m\u001B[1;33m.\u001B[0m\u001B[0mformat\u001B[0m\u001B[1;33m(\u001B[0m\u001B[0mvars\u001B[0m\u001B[1;33m(\u001B[0m\u001B[0ma\u001B[0m\u001B[1;33m)\u001B[0m\u001B[1;33m)\u001B[0m\u001B[1;33m\u001B[0m\u001B[1;33m\u001B[0m\u001B[0m\n\u001B[0m\u001B[0;32m      8\u001B[0m \u001B[1;33m\u001B[0m\u001B[0m\n\u001B[0;32m      9\u001B[0m \u001B[1;33m\u001B[0m\u001B[0m\n",
      "\u001B[1;31mKeyError\u001B[0m: 'name'"
     ]
    }
   ],
   "source": [
    "class Info:\n",
    "    def __init__(self,name,n):\n",
    "        self.name=name\n",
    "        self.n=n\n",
    "        del n\n",
    "class safesub(dict):\n",
    "    def __missing__(self, key):\n",
    "        return '{‘+key+’}'\n",
    "\n",
    "a=Info('leafcool',27)\n",
    "s.format_map(vars(a))\n",
    "s.format(vars(a))\n"
   ],
   "metadata": {
    "collapsed": false,
    "pycharm": {
     "name": "#%%\n"
    }
   }
  },
  {
   "cell_type": "code",
   "execution_count": 321,
   "outputs": [
    {
     "ename": "NameError",
     "evalue": "name 'n' is not defined",
     "output_type": "error",
     "traceback": [
      "\u001B[1;31m---------------------------------------------------------------------------\u001B[0m",
      "\u001B[1;31mNameError\u001B[0m                                 Traceback (most recent call last)",
      "\u001B[1;32m<ipython-input-321-8f373b5ae35f>\u001B[0m in \u001B[0;36m<module>\u001B[1;34m\u001B[0m\n\u001B[0;32m      1\u001B[0m \u001B[0ma\u001B[0m\u001B[1;33m=\u001B[0m\u001B[0mInfo\u001B[0m\u001B[1;33m(\u001B[0m\u001B[1;34m'leafcool'\u001B[0m\u001B[1;33m,\u001B[0m\u001B[1;36m27\u001B[0m\u001B[1;33m)\u001B[0m\u001B[1;33m\u001B[0m\u001B[1;33m\u001B[0m\u001B[0m\n\u001B[1;32m----> 2\u001B[1;33m \u001B[1;32mdel\u001B[0m  \u001B[0mn\u001B[0m\u001B[1;33m\u001B[0m\u001B[1;33m\u001B[0m\u001B[0m\n\u001B[0m\u001B[0;32m      3\u001B[0m \u001B[0ms\u001B[0m\u001B[1;33m.\u001B[0m\u001B[0mformat_map\u001B[0m\u001B[1;33m(\u001B[0m\u001B[0msafesub\u001B[0m\u001B[1;33m(\u001B[0m\u001B[0mvars\u001B[0m\u001B[1;33m(\u001B[0m\u001B[0ma\u001B[0m\u001B[1;33m)\u001B[0m\u001B[1;33m)\u001B[0m\u001B[1;33m)\u001B[0m\u001B[1;33m\u001B[0m\u001B[1;33m\u001B[0m\u001B[0m\n",
      "\u001B[1;31mNameError\u001B[0m: name 'n' is not defined"
     ]
    }
   ],
   "source": [
    "a=Info('leafcool',27)\n",
    "del  n\n",
    "s.format_map(safesub(vars(a)))"
   ],
   "metadata": {
    "collapsed": false,
    "pycharm": {
     "name": "#%%\n"
    }
   }
  },
  {
   "cell_type": "code",
   "execution_count": 322,
   "outputs": [
    {
     "name": "stdout",
     "output_type": "stream",
     "text": [
      "hello leafcool27\n"
     ]
    }
   ],
   "source": [
    "import sys\n",
    "\n",
    "def sub(text):\n",
    "    return text.format_map(safesub(sys._getframe(1).f_locals))\n",
    "\n",
    "name='leafcool'\n",
    "n=27\n",
    "print(sub('hello {name}{n}'))\n"
   ],
   "metadata": {
    "collapsed": false,
    "pycharm": {
     "name": "#%%\n"
    }
   }
  },
  {
   "cell_type": "code",
   "execution_count": 325,
   "outputs": [
    {
     "name": "stdout",
     "output_type": "stream",
     "text": [
      "Look into my eyes,\n",
      "look into my eyes,\n",
      "the eyes, the eyes,\n",
      "the eyes, not around\n",
      "the eyes, don't look\n",
      "around the eyes,\n",
      "look into my eyes,\n",
      "you're under.\n",
      "Elements are written as \"<tag>text</tag>\".\n"
     ]
    }
   ],
   "source": [
    "import textwrap\n",
    "\n",
    "s = \"Look into my eyes, look into my eyes, the eyes, the eyes, \\\n",
    "the eyes, not around the eyes, don't look around the eyes, \\\n",
    "look into my eyes, you're under.\"\n",
    "print(textwrap.fill(s,20))"
   ],
   "metadata": {
    "collapsed": false,
    "pycharm": {
     "name": "#%%\n"
    }
   }
  },
  {
   "cell_type": "code",
   "execution_count": 327,
   "outputs": [
    {
     "name": "stdout",
     "output_type": "stream",
     "text": [
      "Elements are written as \"<tag>text</tag>\".\n"
     ]
    },
    {
     "data": {
      "text/plain": "b'Spicy Jalape&#241;o'"
     },
     "execution_count": 327,
     "metadata": {},
     "output_type": "execute_result"
    }
   ],
   "source": [
    "s = 'Elements are written as \"<tag>text</tag>\".'\n",
    "import html\n",
    "print(s)\n",
    "\n",
    "\n",
    "s = 'Spicy Jalapeño'\n",
    "s.encode('ascii', errors='xmlcharrefreplace')"
   ],
   "metadata": {
    "collapsed": false,
    "pycharm": {
     "name": "#%%\n"
    }
   }
  },
  {
   "cell_type": "code",
   "execution_count": 330,
   "outputs": [
    {
     "name": "stderr",
     "output_type": "stream",
     "text": [
      "<ipython-input-330-c18beab7ee8d>:4: DeprecationWarning: The unescape method is deprecated and will be removed in 3.5, use html.unescape() instead.\n",
      "  p.unescape(s)\n"
     ]
    },
    {
     "data": {
      "text/plain": "'The prompt is >>>'"
     },
     "execution_count": 330,
     "metadata": {},
     "output_type": "execute_result"
    }
   ],
   "source": [
    "s = 'Spicy &quot;Jalape&#241;o&quot.'\n",
    "from html.parser import HTMLParser\n",
    "p=HTMLParser()\n",
    "p.unescape(s)\n",
    "t = 'The prompt is &gt;&gt;&gt;'\n",
    "from xml.sax.saxutils import unescape\n",
    "unescape(t)\n"
   ],
   "metadata": {
    "collapsed": false,
    "pycharm": {
     "name": "#%%\n"
    }
   }
  },
  {
   "cell_type": "code",
   "execution_count": 332,
   "outputs": [
    {
     "name": "stdout",
     "output_type": "stream",
     "text": [
      "Token(type='PRINT', value='print')\n",
      "Token(type='NAME', value='er')\n"
     ]
    }
   ],
   "source": [
    "def generate_tokens(pat, text):\n",
    "    Token = namedtuple('Token', ['type', 'value'])\n",
    "    scanner = pat.scanner(text)\n",
    "    for m in iter(scanner.match, None):\n",
    "        yield Token(m.lastgroup, m.group())\n",
    "\n",
    "PRINT = r'(?P<PRINT>print)'\n",
    "NAME = r'(?P<NAME>[a-zA-Z_][a-zA-Z_0-9]*)'\n",
    "\n",
    "master_pat = re.compile('|'.join([PRINT, NAME]))\n",
    "\n",
    "for tok in generate_tokens(master_pat, 'printer'):\n",
    "    print(tok)\n"
   ],
   "metadata": {
    "collapsed": false,
    "pycharm": {
     "name": "#%%\n"
    }
   }
  },
  {
   "cell_type": "code",
   "execution_count": 337,
   "outputs": [
    {
     "data": {
      "text/plain": "b'Hello Cruel World'"
     },
     "execution_count": 337,
     "metadata": {},
     "output_type": "execute_result"
    }
   ],
   "source": [
    "data = b'Hello World'\n",
    "data[0:1]\n",
    "\n",
    "data.split()\n",
    "data.replace(b'Hello', b'Hello Cruel')"
   ],
   "metadata": {
    "collapsed": false,
    "pycharm": {
     "name": "#%%\n"
    }
   }
  },
  {
   "cell_type": "code",
   "execution_count": 346,
   "outputs": [
    {
     "data": {
      "text/plain": "6.300000000000001"
     },
     "execution_count": 346,
     "metadata": {},
     "output_type": "execute_result"
    }
   ],
   "source": [
    "round(1.23,2)\n",
    "round(1541.25361,-1)\n",
    "a = 2.1\n",
    "b = 4.2\n",
    "c = a + b\n",
    "c\n"
   ],
   "metadata": {
    "collapsed": false,
    "pycharm": {
     "name": "#%%\n"
    }
   }
  },
  {
   "cell_type": "code",
   "execution_count": 349,
   "outputs": [
    {
     "data": {
      "text/plain": "Decimal('6.3')"
     },
     "execution_count": 349,
     "metadata": {},
     "output_type": "execute_result"
    }
   ],
   "source": [
    "from decimal import Decimal\n",
    "a=Decimal('4.2')\n",
    "b=Decimal('2.1')\n",
    "c=a+b\n",
    "c"
   ],
   "metadata": {
    "collapsed": false,
    "pycharm": {
     "name": "#%%\n"
    }
   }
  },
  {
   "cell_type": "code",
   "execution_count": 357,
   "outputs": [
    {
     "name": "stdout",
     "output_type": "stream",
     "text": [
      "0.7647058823529411764705882353\n",
      "0.7647058823529411764705882352941176470588235294117647058823529411764705882352941176470588235294117647058823529411764705882352941176470588235294117647058823529411764705882352941176470588235294117647058823529411764705882352941176470588235294117647058823529411764705882352941176470588235294117647058823529411764705882352941176470588235294117647058823529411764705882352941176470588235294117647058823529412\n"
     ]
    },
    {
     "data": {
      "text/plain": "1.0"
     },
     "execution_count": 357,
     "metadata": {},
     "output_type": "execute_result"
    }
   ],
   "source": [
    "from decimal import localcontext\n",
    "a = Decimal('1.3')\n",
    "b = Decimal('1.7')\n",
    "print(a/b)\n",
    "with localcontext() as ctx:\n",
    "    ctx.prec=400\n",
    "    print(a/b)\n",
    "\n",
    "nums = [1.23e+18, 1, -1.23e+18]\n",
    "sum(nums) # Notice how 1 disappears\n",
    "0.0\n",
    "import math\n",
    "math.fsum(nums)"
   ],
   "metadata": {
    "collapsed": false,
    "pycharm": {
     "name": "#%%\n"
    }
   }
  },
  {
   "cell_type": "code",
   "execution_count": 365,
   "outputs": [
    {
     "data": {
      "text/plain": "'1.234457e+09'"
     },
     "execution_count": 365,
     "metadata": {},
     "output_type": "execute_result"
    }
   ],
   "source": [
    "x=1234456641.56789\n",
    "format(x,'0.2f')\n",
    "format(x,'>10.1f')\n",
    "format(x,'^10.1f')\n",
    "format(x,'<10.1f')\n",
    "format(x,'0,.1f')\n",
    "format(x,'e')\n"
   ],
   "metadata": {
    "collapsed": false,
    "pycharm": {
     "name": "#%%\n"
    }
   }
  },
  {
   "cell_type": "code",
   "execution_count": 377,
   "outputs": [
    {
     "name": "stdout",
     "output_type": "stream",
     "text": [
      "0b10011010010\n",
      "0o2322\n",
      "0x4d2\n",
      "C:\\Users\\E906044\n"
     ]
    }
   ],
   "source": [
    "x=1234\n",
    "print(bin(x))\n",
    "print(oct(x))\n",
    "print(hex(x))\n",
    "print(os.getcwd())"
   ],
   "metadata": {
    "collapsed": false,
    "pycharm": {
     "name": "#%%\n"
    }
   }
  },
  {
   "cell_type": "code",
   "execution_count": 382,
   "outputs": [
    {
     "data": {
      "text/plain": "94522842520747284487117727783387188"
     },
     "execution_count": 382,
     "metadata": {},
     "output_type": "execute_result"
    }
   ],
   "source": [
    "data = b'\\x00\\x124V\\x00x\\x90\\xab\\x00\\xcd\\xef\\x01\\x00#\\x004'\n",
    "\n",
    "len(data)\n",
    "int.from_bytes(data,'little')\n",
    "int.from_bytes(data, 'big')\n",
    "\n"
   ],
   "metadata": {
    "collapsed": false,
    "pycharm": {
     "name": "#%%\n"
    }
   }
  },
  {
   "cell_type": "code",
   "execution_count": 391,
   "outputs": [
    {
     "data": {
      "text/plain": "7.280109889280518"
     },
     "execution_count": 391,
     "metadata": {},
     "output_type": "execute_result"
    }
   ],
   "source": [
    "a=complex(2,7)\n",
    "b=3-5j\n",
    "a.real\n",
    "a.imag\n",
    "a.conjugate()\n",
    "a*b\n",
    "a/b\n",
    "abs(a)\n",
    "\n"
   ],
   "metadata": {
    "collapsed": false,
    "pycharm": {
     "name": "#%%\n"
    }
   }
  },
  {
   "cell_type": "code",
   "execution_count": 396,
   "outputs": [
    {
     "data": {
      "text/plain": "1j"
     },
     "execution_count": 396,
     "metadata": {},
     "output_type": "execute_result"
    }
   ],
   "source": [
    "import numpy as np\n",
    "a = np.array([2+3j, 4+5j, 6-7j, 8+9j])\n",
    "a\n",
    "np.sin(a)\n",
    "\n",
    "import cmath\n",
    "cmath.sqrt(-1)"
   ],
   "metadata": {
    "collapsed": false,
    "pycharm": {
     "name": "#%%\n"
    }
   }
  },
  {
   "cell_type": "code",
   "execution_count": 401,
   "outputs": [
    {
     "data": {
      "text/plain": "nan"
     },
     "execution_count": 401,
     "metadata": {},
     "output_type": "execute_result"
    }
   ],
   "source": [
    "a=float('inf')\n",
    "b=float('-inf')\n",
    "c=float('nan')\n",
    "a\n",
    "b\n",
    "c"
   ],
   "metadata": {
    "collapsed": false,
    "pycharm": {
     "name": "#%%\n"
    }
   }
  },
  {
   "cell_type": "code",
   "execution_count": 417,
   "outputs": [
    {
     "name": "stdout",
     "output_type": "stream",
     "text": [
      "99/80\n",
      "0\n"
     ]
    },
    {
     "data": {
      "text/plain": "Fraction(15, 4)"
     },
     "execution_count": 417,
     "metadata": {},
     "output_type": "execute_result"
    }
   ],
   "source": [
    "from fractions import Fraction\n",
    "a=Fraction(4,5)\n",
    "b=Fraction(7,16)\n",
    "print(a+b)\n",
    "c=a*b\n",
    "c\n",
    "c.numerator\n",
    "c.denominator\n",
    "float(c)\n",
    "print(c.limit_denominator(1))\n",
    "x=3.75\n",
    "y=Fraction(*x.as_integer_ratio())\n",
    "y\n"
   ],
   "metadata": {
    "collapsed": false,
    "pycharm": {
     "name": "#%%\n"
    }
   }
  },
  {
   "cell_type": "code",
   "execution_count": 420,
   "outputs": [
    {
     "data": {
      "text/plain": "[1, 2, 3, 4, 5, 6, 7, 8]"
     },
     "execution_count": 420,
     "metadata": {},
     "output_type": "execute_result"
    }
   ],
   "source": [
    "x=[1,2,3,4]\n",
    "y=[5,6,7,8]\n",
    "x*2\n",
    "x+y\n"
   ],
   "metadata": {
    "collapsed": false,
    "pycharm": {
     "name": "#%%\n"
    }
   }
  },
  {
   "cell_type": "code",
   "execution_count": 424,
   "outputs": [
    {
     "data": {
      "text/plain": "matrix([[ 0.33043478, -0.02608696,  0.09565217],\n        [-0.15217391,  0.13043478,  0.02173913],\n        [ 0.12173913,  0.09565217, -0.0173913 ]])"
     },
     "execution_count": 424,
     "metadata": {},
     "output_type": "execute_result"
    }
   ],
   "source": [
    "import numpy as np\n",
    "\n",
    "m = np.matrix([[1,-2,3],[0,4,5],[7,8,-9]])\n",
    "m\n",
    "m.T\n",
    "m.I"
   ],
   "metadata": {
    "collapsed": false,
    "pycharm": {
     "name": "#%%\n"
    }
   }
  },
  {
   "cell_type": "code",
   "execution_count": 428,
   "outputs": [
    {
     "data": {
      "text/plain": "2"
     },
     "execution_count": 428,
     "metadata": {},
     "output_type": "execute_result"
    }
   ],
   "source": [
    "from datetime import timedelta\n",
    "a=timedelta(days=2,hours=6)\n",
    "b=timedelta(hours=4.5)\n",
    "c=a+b\n",
    "c.days"
   ],
   "metadata": {
    "collapsed": false,
    "pycharm": {
     "name": "#%%\n"
    }
   }
  },
  {
   "cell_type": "code",
   "execution_count": 438,
   "outputs": [
    {
     "name": "stdout",
     "output_type": "stream",
     "text": [
      "2012-10-31 00:00:00\n",
      "2020-11-13 09:17:34.707688\n"
     ]
    }
   ],
   "source": [
    "from datetime import datetime\n",
    "\n",
    "a=datetime(2012,9,23)\n",
    "print(a+timedelta(days=38))\n",
    "\n",
    "b=datetime(2012,12,2)\n",
    "(b-a).days\n",
    "\n",
    "now=datetime.today()\n",
    "print(now)"
   ],
   "metadata": {
    "collapsed": false,
    "pycharm": {
     "name": "#%%\n"
    }
   }
  },
  {
   "cell_type": "code",
   "execution_count": 443,
   "outputs": [
    {
     "data": {
      "text/plain": "datetime.datetime(2012, 10, 12, 0, 0)"
     },
     "execution_count": 443,
     "metadata": {},
     "output_type": "execute_result"
    }
   ],
   "source": [
    "a=datetime(2012,9,12)\n",
    "# a+timedelta(months=1)\n",
    "\n",
    "from dateutil.relativedelta import relativedelta\n",
    "a+relativedelta(months=+1)"
   ],
   "metadata": {
    "collapsed": false,
    "pycharm": {
     "name": "#%%\n"
    }
   }
  },
  {
   "cell_type": "code",
   "execution_count": null,
   "outputs": [],
   "source": [],
   "metadata": {
    "collapsed": false,
    "pycharm": {
     "name": "#%%\n"
    }
   }
  }
 ],
 "metadata": {
  "kernelspec": {
   "display_name": "Python 3",
   "language": "python",
   "name": "python3"
  },
  "language_info": {
   "codemirror_mode": {
    "name": "ipython",
    "version": 2
   },
   "file_extension": ".py",
   "mimetype": "text/x-python",
   "name": "python",
   "nbconvert_exporter": "python",
   "pygments_lexer": "ipython2",
   "version": "2.7.6"
  }
 },
 "nbformat": 4,
 "nbformat_minor": 0
}