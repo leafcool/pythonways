{
 "cells": [
  {
   "cell_type": "code",
   "execution_count": 3,
   "metadata": {
    "collapsed": true
   },
   "outputs": [
    {
     "name": "stdout",
     "output_type": "stream",
     "text": [
      " 1 ×  1 =  1\n",
      " 2 x  1 =  2,  2 ×  2 =  4\n",
      " 3 x  1 =  3,  3 x  2 =  6,  3 ×  3 =  9\n",
      " 4 x  1 =  4,  4 x  2 =  8,  4 x  3 = 12,  4 ×  4 = 16\n",
      " 5 x  1 =  5,  5 x  2 = 10,  5 x  3 = 15,  5 x  4 = 20,  5 ×  5 = 25\n",
      " 6 x  1 =  6,  6 x  2 = 12,  6 x  3 = 18,  6 x  4 = 24,  6 x  5 = 30,  6 ×  6 = 36\n",
      " 7 x  1 =  7,  7 x  2 = 14,  7 x  3 = 21,  7 x  4 = 28,  7 x  5 = 35,  7 x  6 = 42,  7 ×  7 = 49\n",
      " 8 x  1 =  8,  8 x  2 = 16,  8 x  3 = 24,  8 x  4 = 32,  8 x  5 = 40,  8 x  6 = 48,  8 x  7 = 56,  8 ×  8 = 64\n",
      " 9 x  1 =  9,  9 x  2 = 18,  9 x  3 = 27,  9 x  4 = 36,  9 x  5 = 45,  9 x  6 = 54,  9 x  7 = 63,  9 x  8 = 72,  9 ×  9 = 81\n"
     ]
    }
   ],
   "source": [
    "from typing import Type\n",
    "for i in range(1,10):\n",
    "    for j in range(1,i+1):\n",
    "        if j<i:\n",
    "            print(\"%2d x %2d = %2d,\"%(i,j,i*j),end=\" \")\n",
    "        else:\n",
    "            print(\"%2d × %2d = %2d\" % (j, i, i * j), end=\"\\n\")"
   ]
  },
  {
   "cell_type": "code",
   "execution_count": 22,
   "outputs": [
    {
     "name": "stdout",
     "output_type": "stream",
     "text": [
      "    *\n",
      "   ***\n",
      "  *****\n",
      " *******\n"
     ]
    }
   ],
   "source": [
    "s=int(input(\"pls input print number\"))\n",
    "lines=(s+1)/2\n",
    "for i in range(lines):\n",
    "    for j in range(0,lines-i):\n",
    "        print(end=\" \")\n",
    "    for k in range(0,2*i+1):\n",
    "        print(\"*\",end=\"\")\n",
    "    print()\n",
    "\n",
    "\n",
    "\n"
   ],
   "metadata": {
    "collapsed": false,
    "pycharm": {
     "name": "#%%\n"
    }
   }
  },
  {
   "cell_type": "code",
   "execution_count": 31,
   "outputs": [
    {
     "name": "stdout",
     "output_type": "stream",
     "text": [
      "    *\n",
      "   ***\n",
      "  *****\n",
      " *******\n",
      "  *****\n",
      "   ***\n",
      "    *\n"
     ]
    }
   ],
   "source": [
    "s=int(input('pls input print number'))\n",
    "half_lines=int(s/2)+1\n",
    "for i in  range(half_lines):\n",
    "    print(\" \"*(half_lines-i),end=\"\")\n",
    "    print('*'*(2*i+1),end='\\n')\n",
    "for i in range(1,half_lines):\n",
    "    print(\" \"*(i+1),end=\"\")\n",
    "    print('*'*(2*(half_lines-i)-1),end='\\n')"
   ],
   "metadata": {
    "collapsed": false,
    "pycharm": {
     "name": "#%%\n"
    }
   }
  },
  {
   "cell_type": "code",
   "execution_count": 33,
   "outputs": [
    {
     "name": "stdout",
     "output_type": "stream",
     "text": [
      "    *\n",
      "   ***\n",
      "  *****\n",
      " *******\n",
      "  *   *\n",
      "   * *\n",
      "    **\n"
     ]
    }
   ],
   "source": [
    "s=int(input('pls input print number'))\n",
    "half_lines=int(s/2)+1\n",
    "for i in  range(half_lines):\n",
    "    print(\" \"*(half_lines-i),end=\"\")\n",
    "    print('*'*(2*i+1),end='\\n')\n",
    "for i in range(1,half_lines):\n",
    "    print(\" \"*(i+1),end=\"\")\n",
    "    print(\"*\"+\" \"*(2*(half_lines-i-1)-1)+\"*\",end='\\n')\n"
   ],
   "metadata": {
    "collapsed": false,
    "pycharm": {
     "name": "#%%\n"
    }
   }
  },
  {
   "cell_type": "code",
   "execution_count": 35,
   "outputs": [
    {
     "ename": "SyntaxError",
     "evalue": "invalid syntax (<ipython-input-35-1dda7f7882c9>, line 13)",
     "output_type": "error",
     "traceback": [
      "\u001B[1;36m  File \u001B[1;32m\"<ipython-input-35-1dda7f7882c9>\"\u001B[1;36m, line \u001B[1;32m13\u001B[0m\n\u001B[1;33m    else:\u001B[0m\n\u001B[1;37m    ^\u001B[0m\n\u001B[1;31mSyntaxError\u001B[0m\u001B[1;31m:\u001B[0m invalid syntax\n"
     ]
    }
   ],
   "source": [
    "while(True):\n",
    "    s = input(\"输入自己的成绩:\")\n",
    "    if s == 'exit':\n",
    "        import sys\n",
    "        sys.exit(0)\n",
    "    score = float(s)\n",
    "    if score >= 90:\n",
    "        print('A')\n",
    "    elif 90 > score >= 80:\n",
    "        print('B')\n",
    "    elif 80 > score >= 70:\n",
    "        print('C'\n",
    "    else:\n",
    "        print('D')"
   ],
   "metadata": {
    "collapsed": false,
    "pycharm": {
     "name": "#%%\n"
    }
   }
  },
  {
   "cell_type": "code",
   "execution_count": 36,
   "outputs": [
    {
     "ename": "SyntaxError",
     "evalue": "unexpected EOF while parsing (<ipython-input-36-01045bff6b67>, line 9)",
     "output_type": "error",
     "traceback": [
      "\u001B[1;36m  File \u001B[1;32m\"<ipython-input-36-01045bff6b67>\"\u001B[1;36m, line \u001B[1;32m9\u001B[0m\n\u001B[1;33m    \u001B[0m\n\u001B[1;37m    ^\u001B[0m\n\u001B[1;31mSyntaxError\u001B[0m\u001B[1;31m:\u001B[0m unexpected EOF while parsing\n"
     ]
    }
   ],
   "source": [
    "start=101\n",
    "end=200\n",
    "for i in range(101,end+1):"
   ],
   "metadata": {
    "collapsed": false,
    "pycharm": {
     "name": "#%%\n"
    }
   }
  },
  {
   "cell_type": "code",
   "execution_count": 41,
   "outputs": [
    {
     "name": "stdout",
     "output_type": "stream",
     "text": [
      "<__main__.Item object at 0x000001F18DD5E6A0>\n",
      "<method-wrapper '__repr__' of Item object at 0x000001F18DD5E6A0>\n"
     ]
    }
   ],
   "source": [
    "class Item:\n",
    "    def __init__(self,name,price):\n",
    "        self.name=name\n",
    "        self.price=price\n",
    "im=Item('mouse',28.9)\n",
    "print(im)\n",
    "print(im.__repr__)"
   ],
   "metadata": {
    "collapsed": false,
    "pycharm": {
     "name": "#%%\n"
    }
   }
  },
  {
   "cell_type": "code",
   "execution_count": 43,
   "outputs": [
    {
     "name": "stdout",
     "output_type": "stream",
     "text": [
      "Apple[color=red,weight5.68]\n"
     ]
    }
   ],
   "source": [
    "class Apple:\n",
    "    def __init__(self,color,weight):\n",
    "        self.color=color\n",
    "        self.weight=weight\n",
    "    def __repr__(self):\n",
    "        return \"Apple[color=\"+self.color+\",weight\"+str(self.weight)+\"]\"\n",
    "a=Apple('red',5.68)\n",
    "print(a)"
   ],
   "metadata": {
    "collapsed": false,
    "pycharm": {
     "name": "#%%\n"
    }
   }
  },
  {
   "cell_type": "code",
   "execution_count": 47,
   "outputs": [
    {
     "name": "stdout",
     "output_type": "stream",
     "text": [
      "del objection\n",
      ",,,,,,,,,,,,,,\n"
     ]
    }
   ],
   "source": [
    "class Item:\n",
    "    def __init__(self,name,price):\n",
    "        self.name=name\n",
    "        self.price=price\n",
    "    def __del__(self):\n",
    "        print('del objection')\n",
    "im=Item('mouse',856)\n",
    "# x=im\n",
    "del im\n",
    "print(',,,,,,,,,,,,,,')"
   ],
   "metadata": {
    "collapsed": false,
    "pycharm": {
     "name": "#%%\n"
    }
   }
  },
  {
   "cell_type": "code",
   "execution_count": 52,
   "outputs": [
    {
     "name": "stdout",
     "output_type": "stream",
     "text": [
      "['name', 'price', '__module__', '__init__', 'info', '__dict__', '__weakref__', '__doc__', '__repr__', '__hash__', '__str__', '__getattribute__', '__setattr__', '__delattr__', '__lt__', '__le__', '__eq__', '__ne__', '__gt__', '__ge__', '__new__', '__reduce_ex__', '__reduce__', '__subclasshook__', '__init_subclass__', '__format__', '__sizeof__', '__dir__', '__class__']\n",
      "['__class__', '__delattr__', '__dict__', '__dir__', '__doc__', '__eq__', '__format__', '__ge__', '__getattribute__', '__gt__', '__hash__', '__init__', '__init_subclass__', '__le__', '__lt__', '__module__', '__ne__', '__new__', '__reduce__', '__reduce_ex__', '__repr__', '__setattr__', '__sizeof__', '__str__', '__subclasshook__', '__weakref__', 'info', 'name', 'price']\n"
     ]
    }
   ],
   "source": [
    "class Item:\n",
    "    def __init__(self,name,price):\n",
    "        self.name=name\n",
    "        self.price=price\n",
    "    def info(self):\n",
    "        pass\n",
    "im=Item('mouse',78)\n",
    "print(im.__dir__())\n",
    "print(dir(im))"
   ],
   "metadata": {
    "collapsed": false,
    "pycharm": {
     "name": "#%%\n"
    }
   }
  },
  {
   "cell_type": "code",
   "execution_count": 59,
   "outputs": [
    {
     "name": "stdout",
     "output_type": "stream",
     "text": [
      "{'name': 'mouse', 'price': 578}\n",
      "mouse\n",
      "{'name': 'keyboard', 'price': 578}\n"
     ]
    }
   ],
   "source": [
    "class Item:\n",
    "    def __init__(self,name,price):\n",
    "        self.name=name\n",
    "        self.price=price\n",
    "im=Item('mouse',578)\n",
    "print(im.__dict__)\n",
    "print(im.__dict__['name'])\n",
    "im.__dict__['name']='keyboard'\n",
    "print(im.__dict__)\n"
   ],
   "metadata": {
    "collapsed": false,
    "pycharm": {
     "name": "#%%\n"
    }
   }
  },
  {
   "cell_type": "code",
   "execution_count": 70,
   "outputs": [
    {
     "name": "stdout",
     "output_type": "stream",
     "text": [
      "设置width属性\n",
      "设置height属性\n"
     ]
    },
    {
     "ename": "AttributeError",
     "evalue": "",
     "output_type": "error",
     "traceback": [
      "\u001B[1;31m---------------------------------------------------------------------------\u001B[0m",
      "\u001B[1;31mAttributeError\u001B[0m                            Traceback (most recent call last)",
      "\u001B[1;32m<ipython-input-70-baa0a375da90>\u001B[0m in \u001B[0;36m<module>\u001B[1;34m\u001B[0m\n\u001B[0;32m     22\u001B[0m             \u001B[0mself\u001B[0m\u001B[1;33m.\u001B[0m\u001B[0m__dict__\u001B[0m\u001B[1;33m[\u001B[0m\u001B[1;34m'height'\u001B[0m\u001B[1;33m]\u001B[0m\u001B[1;33m=\u001B[0m\u001B[1;36m0\u001B[0m\u001B[1;33m\u001B[0m\u001B[1;33m\u001B[0m\u001B[0m\n\u001B[0;32m     23\u001B[0m \u001B[0mrect\u001B[0m\u001B[1;33m=\u001B[0m\u001B[0mRectangle\u001B[0m\u001B[1;33m(\u001B[0m\u001B[1;36m3\u001B[0m\u001B[1;33m,\u001B[0m\u001B[1;36m4\u001B[0m\u001B[1;33m)\u001B[0m\u001B[1;33m\u001B[0m\u001B[1;33m\u001B[0m\u001B[0m\n\u001B[1;32m---> 24\u001B[1;33m \u001B[0mprint\u001B[0m\u001B[1;33m(\u001B[0m\u001B[0mrect\u001B[0m\u001B[1;33m.\u001B[0m\u001B[0mkey\u001B[0m\u001B[1;33m)\u001B[0m\u001B[1;33m\u001B[0m\u001B[1;33m\u001B[0m\u001B[0m\n\u001B[0m\u001B[0;32m     25\u001B[0m \u001B[0mrect\u001B[0m\u001B[1;33m.\u001B[0m\u001B[0msize\u001B[0m\u001B[1;33m=\u001B[0m\u001B[1;36m6\u001B[0m\u001B[1;33m,\u001B[0m\u001B[1;36m8\u001B[0m\u001B[1;33m\u001B[0m\u001B[1;33m\u001B[0m\u001B[0m\n",
      "\u001B[1;32m<ipython-input-70-baa0a375da90>\u001B[0m in \u001B[0;36m__getattr__\u001B[1;34m(self, key)\u001B[0m\n\u001B[0;32m     14\u001B[0m             \u001B[1;32mreturn\u001B[0m \u001B[0mself\u001B[0m\u001B[1;33m.\u001B[0m\u001B[0mwidth\u001B[0m\u001B[1;33m,\u001B[0m\u001B[0mself\u001B[0m\u001B[1;33m.\u001B[0m\u001B[0mheight\u001B[0m\u001B[1;33m\u001B[0m\u001B[1;33m\u001B[0m\u001B[0m\n\u001B[0;32m     15\u001B[0m          \u001B[1;32melse\u001B[0m\u001B[1;33m:\u001B[0m\u001B[1;33m\u001B[0m\u001B[1;33m\u001B[0m\u001B[0m\n\u001B[1;32m---> 16\u001B[1;33m             \u001B[1;32mraise\u001B[0m \u001B[0mAttributeError\u001B[0m\u001B[1;33m\u001B[0m\u001B[1;33m\u001B[0m\u001B[0m\n\u001B[0m\u001B[0;32m     17\u001B[0m \u001B[1;33m\u001B[0m\u001B[0m\n\u001B[0;32m     18\u001B[0m     \u001B[1;32mdef\u001B[0m \u001B[0m__delattr__\u001B[0m\u001B[1;33m(\u001B[0m\u001B[0mself\u001B[0m\u001B[1;33m,\u001B[0m \u001B[0mkey\u001B[0m\u001B[1;33m)\u001B[0m\u001B[1;33m:\u001B[0m\u001B[1;33m\u001B[0m\u001B[1;33m\u001B[0m\u001B[0m\n",
      "\u001B[1;31mAttributeError\u001B[0m: "
     ]
    }
   ],
   "source": [
    "class Rectangle:\n",
    "    def __init__(self,width,height):\n",
    "        self.width=width\n",
    "        self.height=height\n",
    "    def __setattr__(self, key, value):\n",
    "        print('设置%s属性' % key)\n",
    "        if key=='size':\n",
    "            self.width,self.height=value\n",
    "        else:\n",
    "            self.__dict__[key] = value\n",
    "\n",
    "    def __getattr__(self, key):\n",
    "         if key==\"size\":\n",
    "            return self.width,self.height\n",
    "         else:\n",
    "            raise AttributeError\n",
    "\n",
    "    def __delattr__(self, key):\n",
    "        print('del %s attr'% key)\n",
    "        if key=='size':\n",
    "            self.__dict__['width']=0\n",
    "            self.__dict__['height']=0\n",
    "rect=Rectangle(3,4)\n",
    "print(rect.key)\n",
    "rect.size=6,8"
   ],
   "metadata": {
    "collapsed": false,
    "pycharm": {
     "name": "#%%\n"
    }
   }
  },
  {
   "cell_type": "code",
   "execution_count": 67,
   "outputs": [
    {
     "name": "stdout",
     "output_type": "stream",
     "text": [
      "fkit\n",
      "24\n"
     ]
    },
    {
     "ename": "ValueError",
     "evalue": "age值必须在10～60之间",
     "output_type": "error",
     "traceback": [
      "\u001B[1;31m---------------------------------------------------------------------------\u001B[0m",
      "\u001B[1;31mValueError\u001B[0m                                Traceback (most recent call last)",
      "\u001B[1;32m<ipython-input-67-26b3cfa8fb0b>\u001B[0m in \u001B[0;36m<module>\u001B[1;34m\u001B[0m\n\u001B[0;32m     22\u001B[0m \u001B[0mprint\u001B[0m\u001B[1;33m(\u001B[0m\u001B[0mu\u001B[0m\u001B[1;33m.\u001B[0m\u001B[0mage\u001B[0m\u001B[1;33m)\u001B[0m\u001B[1;33m\u001B[0m\u001B[1;33m\u001B[0m\u001B[0m\n\u001B[0;32m     23\u001B[0m \u001B[1;31m#u.name = 'fk' # 引发异常\u001B[0m\u001B[1;33m\u001B[0m\u001B[1;33m\u001B[0m\u001B[1;33m\u001B[0m\u001B[0m\n\u001B[1;32m---> 24\u001B[1;33m \u001B[0mu\u001B[0m\u001B[1;33m.\u001B[0m\u001B[0mage\u001B[0m \u001B[1;33m=\u001B[0m \u001B[1;36m2\u001B[0m  \u001B[1;31m# 引发异常\u001B[0m\u001B[1;33m\u001B[0m\u001B[1;33m\u001B[0m\u001B[0m\n\u001B[0m\u001B[0;32m     25\u001B[0m \u001B[1;33m\u001B[0m\u001B[0m\n\u001B[0;32m     26\u001B[0m \u001B[1;33m\u001B[0m\u001B[0m\n",
      "\u001B[1;32m<ipython-input-67-26b3cfa8fb0b>\u001B[0m in \u001B[0;36m__setattr__\u001B[1;34m(self, name, value)\u001B[0m\n\u001B[0;32m     16\u001B[0m                 \u001B[0mself\u001B[0m\u001B[1;33m.\u001B[0m\u001B[0m__dict__\u001B[0m\u001B[1;33m[\u001B[0m\u001B[1;34m'age'\u001B[0m\u001B[1;33m]\u001B[0m \u001B[1;33m=\u001B[0m \u001B[0mvalue\u001B[0m\u001B[1;33m\u001B[0m\u001B[1;33m\u001B[0m\u001B[0m\n\u001B[0;32m     17\u001B[0m             \u001B[1;32melse\u001B[0m\u001B[1;33m:\u001B[0m\u001B[1;33m\u001B[0m\u001B[1;33m\u001B[0m\u001B[0m\n\u001B[1;32m---> 18\u001B[1;33m                 \u001B[1;32mraise\u001B[0m \u001B[0mValueError\u001B[0m\u001B[1;33m(\u001B[0m\u001B[1;34m'age值必须在10～60之间'\u001B[0m\u001B[1;33m)\u001B[0m\u001B[1;33m\u001B[0m\u001B[1;33m\u001B[0m\u001B[0m\n\u001B[0m\u001B[0;32m     19\u001B[0m \u001B[1;33m\u001B[0m\u001B[0m\n\u001B[0;32m     20\u001B[0m \u001B[0mu\u001B[0m \u001B[1;33m=\u001B[0m \u001B[0mUser\u001B[0m\u001B[1;33m(\u001B[0m\u001B[1;34m'fkit'\u001B[0m\u001B[1;33m,\u001B[0m \u001B[1;36m24\u001B[0m\u001B[1;33m)\u001B[0m\u001B[1;33m\u001B[0m\u001B[1;33m\u001B[0m\u001B[0m\n",
      "\u001B[1;31mValueError\u001B[0m: age值必须在10～60之间"
     ]
    }
   ],
   "source": [
    "class User:\n",
    "    def __init__ (self, name, age):\n",
    "        self.name = name\n",
    "        self.age = age\n",
    "    # 重写__setattr__()方法对设置的属性值进行检查\n",
    "    def __setattr__ (self, name, value):\n",
    "        # 如果正在设置name属性\n",
    "        if name == 'name':\n",
    "            if 2 < len(value) <= 8 or len(value) > 8:\n",
    "                self.__dict__['name'] = value\n",
    "            else:\n",
    "                raise ValueError('name的长度必须在2～8之间')\n",
    "\n",
    "        elif name == 'age':\n",
    "            if 10 < value < 60:\n",
    "                self.__dict__['age'] = value\n",
    "            else:\n",
    "                raise ValueError('age值必须在10～60之间')\n",
    "\n",
    "u = User('fkit', 24)\n",
    "print(u.name)\n",
    "print(u.age)\n",
    "#u.name = 'fk' # 引发异常\n",
    "u.age = 2  # 引发异常\n",
    "\n"
   ],
   "metadata": {
    "collapsed": false,
    "pycharm": {
     "name": "#%%\n"
    }
   }
  },
  {
   "cell_type": "code",
   "execution_count": 71,
   "outputs": [
    {
     "name": "stdout",
     "output_type": "stream",
     "text": [
      "----设置width属性----\n",
      "----设置height属性----\n",
      "----读取size属性----\n",
      "(3, 4)\n",
      "----设置size属性----\n",
      "----设置width属性----\n",
      "----设置height属性----\n",
      "6\n",
      "----删除size属性----\n",
      "----读取size属性----\n",
      "(0, 0)\n"
     ]
    }
   ],
   "source": [
    "class Rectangle:\n",
    "    def __init__ (self, width, height):\n",
    "        self.width = width\n",
    "        self.height = height\n",
    "    def __setattr__(self, name, value):\n",
    "        print('----设置%s属性----' % name)\n",
    "        if name == 'size':\n",
    "            self.width, self.height = value\n",
    "        else:\n",
    "            self.__dict__[name] = value\n",
    "    def __getattr__(self, name):\n",
    "        print('----读取%s属性----' % name)\n",
    "        if name == 'size':\n",
    "            return self.width, self.height\n",
    "        else:\n",
    "            raise AttributeError\n",
    "    def __delattr__(self, name):\n",
    "        print('----删除%s属性----' % name)\n",
    "        if name == 'size':\n",
    "            self.__dict__['width'] = 0\n",
    "            self.__dict__['height'] = 0\n",
    "\n",
    "rect = Rectangle(3, 4)\n",
    "print(rect.size)\n",
    "rect.size = 6, 8\n",
    "print(rect.width)\n",
    "del rect.size\n",
    "print(rect.size)\n"
   ],
   "metadata": {
    "collapsed": false,
    "pycharm": {
     "name": "#%%\n"
    }
   }
  },
  {
   "cell_type": "code",
   "execution_count": 81,
   "outputs": [
    {
     "name": "stdout",
     "output_type": "stream",
     "text": [
      "True\n",
      "True\n",
      "True\n",
      "weather nice\n",
      "32\n",
      "a simple\n"
     ]
    }
   ],
   "source": [
    "class Comment:\n",
    "    def __init__(self,detail,view_times):\n",
    "        self.detail=detail\n",
    "        self.view_times=view_times\n",
    "    def info(self):\n",
    "        print('a simple comment %s'% self.detail)\n",
    "c=Comment('crazy is crazy',50)\n",
    "print(hasattr(c,'detail'))\n",
    "print(hasattr(c,'view_times'))\n",
    "print(hasattr(c,'info'))\n",
    "\n",
    "# print(getattr(c,info,'default'))\n",
    "setattr(c,'detail','weather nice')\n",
    "setattr(c,'view_times',32)\n",
    "print(c.detail)\n",
    "print(c.view_times)\n",
    "def bar():\n",
    "    print('a simple')\n",
    "setattr(c,'info',bar)\n",
    "c.info()"
   ],
   "metadata": {
    "collapsed": false,
    "pycharm": {
     "name": "#%%\n"
    }
   }
  },
  {
   "cell_type": "code",
   "execution_count": 84,
   "outputs": [
    {
     "name": "stdout",
     "output_type": "stream",
     "text": [
      "False\n",
      "True\n"
     ]
    }
   ],
   "source": [
    "class User:\n",
    "    def __init__(self,name,passwd):\n",
    "        self.name=name\n",
    "        self.passwd=passwd\n",
    "    def ValidLogIn(self):\n",
    "        print('verify %s'%self.name)\n",
    "u=User('crazy','123456')\n",
    "print(hasattr(u.name,'__call__'))\n",
    "print(hasattr(u.ValidLogIn,'__call__'))\n"
   ],
   "metadata": {
    "collapsed": false,
    "pycharm": {
     "name": "#%%\n"
    }
   }
  },
  {
   "cell_type": "code",
   "execution_count": 91,
   "outputs": [
    {
     "name": "stdout",
     "output_type": "stream",
     "text": [
      "17576\n",
      "BA\u0000\n",
      "AA\u0001\n",
      "fkit\n"
     ]
    },
    {
     "ename": "AttributeError",
     "evalue": "'dict' object has no attribute 'append'",
     "output_type": "error",
     "traceback": [
      "\u001B[1;31m---------------------------------------------------------------------------\u001B[0m",
      "\u001B[1;31mAttributeError\u001B[0m                            Traceback (most recent call last)",
      "\u001B[1;32m<ipython-input-91-ff66568af080>\u001B[0m in \u001B[0;36m<module>\u001B[1;34m\u001B[0m\n\u001B[0;32m     36\u001B[0m \u001B[0msq\u001B[0m\u001B[1;33m[\u001B[0m\u001B[1;36m1\u001B[0m\u001B[1;33m]\u001B[0m\u001B[1;33m=\u001B[0m\u001B[1;34m'fkit'\u001B[0m\u001B[1;33m\u001B[0m\u001B[1;33m\u001B[0m\u001B[0m\n\u001B[0;32m     37\u001B[0m \u001B[0mprint\u001B[0m\u001B[1;33m(\u001B[0m\u001B[0msq\u001B[0m\u001B[1;33m[\u001B[0m\u001B[1;36m1\u001B[0m\u001B[1;33m]\u001B[0m\u001B[1;33m)\u001B[0m\u001B[1;33m\u001B[0m\u001B[1;33m\u001B[0m\u001B[0m\n\u001B[1;32m---> 38\u001B[1;33m \u001B[1;32mdel\u001B[0m \u001B[0msq\u001B[0m\u001B[1;33m[\u001B[0m\u001B[1;36m1\u001B[0m\u001B[1;33m]\u001B[0m\u001B[1;33m\u001B[0m\u001B[1;33m\u001B[0m\u001B[0m\n\u001B[0m\u001B[0;32m     39\u001B[0m \u001B[0msq\u001B[0m\u001B[1;33m[\u001B[0m\u001B[1;36m1\u001B[0m\u001B[1;33m]\u001B[0m\u001B[1;33m=\u001B[0m\u001B[1;34m'crazy'\u001B[0m\u001B[1;33m\u001B[0m\u001B[1;33m\u001B[0m\u001B[0m\n\u001B[0;32m     40\u001B[0m \u001B[0mprint\u001B[0m\u001B[1;33m(\u001B[0m\u001B[0msq\u001B[0m\u001B[1;33m[\u001B[0m\u001B[1;36m1\u001B[0m\u001B[1;33m]\u001B[0m\u001B[1;33m)\u001B[0m\u001B[1;33m\u001B[0m\u001B[1;33m\u001B[0m\u001B[0m\n",
      "\u001B[1;32m<ipython-input-91-ff66568af080>\u001B[0m in \u001B[0;36m__delitem__\u001B[1;34m(self, key)\u001B[0m\n\u001B[0;32m     27\u001B[0m     \u001B[1;32mdef\u001B[0m \u001B[0m__delitem__\u001B[0m\u001B[1;33m(\u001B[0m\u001B[0mself\u001B[0m\u001B[1;33m,\u001B[0m \u001B[0mkey\u001B[0m\u001B[1;33m)\u001B[0m\u001B[1;33m:\u001B[0m\u001B[1;33m\u001B[0m\u001B[1;33m\u001B[0m\u001B[0m\n\u001B[0;32m     28\u001B[0m         \u001B[0mcheck_key\u001B[0m\u001B[1;33m(\u001B[0m\u001B[0mkey\u001B[0m\u001B[1;33m)\u001B[0m\u001B[1;33m\u001B[0m\u001B[1;33m\u001B[0m\u001B[0m\n\u001B[1;32m---> 29\u001B[1;33m         \u001B[1;32mif\u001B[0m \u001B[0mkey\u001B[0m \u001B[1;32mnot\u001B[0m \u001B[1;32min\u001B[0m \u001B[0mself\u001B[0m\u001B[1;33m.\u001B[0m\u001B[0m__deleted\u001B[0m\u001B[1;33m:\u001B[0m\u001B[0mself\u001B[0m\u001B[1;33m.\u001B[0m\u001B[0m__deleted\u001B[0m\u001B[1;33m.\u001B[0m\u001B[0mappend\u001B[0m\u001B[1;33m(\u001B[0m\u001B[0mkey\u001B[0m\u001B[1;33m)\u001B[0m\u001B[1;33m\u001B[0m\u001B[1;33m\u001B[0m\u001B[0m\n\u001B[0m\u001B[0;32m     30\u001B[0m         \u001B[1;32mif\u001B[0m \u001B[0mkey\u001B[0m \u001B[1;32min\u001B[0m \u001B[0mself\u001B[0m\u001B[1;33m.\u001B[0m\u001B[0m__changed\u001B[0m\u001B[1;33m:\u001B[0m\u001B[1;32mdel\u001B[0m \u001B[0mself\u001B[0m\u001B[1;33m.\u001B[0m\u001B[0m__changed\u001B[0m\u001B[1;33m[\u001B[0m\u001B[0mkey\u001B[0m\u001B[1;33m]\u001B[0m\u001B[1;33m\u001B[0m\u001B[1;33m\u001B[0m\u001B[0m\n\u001B[0;32m     31\u001B[0m \u001B[1;33m\u001B[0m\u001B[0m\n",
      "\u001B[1;31mAttributeError\u001B[0m: 'dict' object has no attribute 'append'"
     ]
    }
   ],
   "source": [
    "def check_key(key):\n",
    "    if not isinstance(key,int):raise TypeError('index is int')\n",
    "    if key<0:raise IndexError('index>0')\n",
    "    if key>26**3:raise IndexError('index<26**3')\n",
    "\n",
    "class StringSeq:\n",
    "    def __init__(self):\n",
    "        self.__changed={}\n",
    "        self.__deleted={}\n",
    "    def __len__(self):\n",
    "        return 26**3\n",
    "\n",
    "    def __getitem__(self, key):\n",
    "        check_key(key)\n",
    "        if key in self.__changed:\n",
    "            return self.__changed[key]\n",
    "        if key in self.__deleted:\n",
    "            return  None\n",
    "        three=key//(26*26)\n",
    "        two=(key-three*26*26)//26\n",
    "        one=key%26\n",
    "        return chr(65+three)+chr(65+two)+chr(one)\n",
    "\n",
    "    def __setitem__(self, key, value):\n",
    "        check_key(key)\n",
    "        self.__changed[key]=value\n",
    "    def __delitem__(self, key):\n",
    "        check_key(key)\n",
    "        if key not in self.__deleted:self.__deleted.append(key)\n",
    "        if key in self.__changed:del self.__changed[key]\n",
    "\n",
    "sq=StringSeq()\n",
    "print(len(sq))\n",
    "print(sq[26*26])\n",
    "print(sq[1])\n",
    "sq[1]='fkit'\n",
    "print(sq[1])\n",
    "del sq[1]\n",
    "sq[1]='crazy'\n",
    "print(sq[1])"
   ],
   "metadata": {
    "collapsed": false,
    "pycharm": {
     "name": "#%%\n"
    }
   }
  },
  {
   "cell_type": "code",
   "execution_count": 100,
   "outputs": [
    {
     "name": "stdout",
     "output_type": "stream",
     "text": [
      "2\n",
      "4\n",
      "fjit\n"
     ]
    }
   ],
   "source": [
    "class FIb:\n",
    "    def __init__(self,len):\n",
    "        self.first=0\n",
    "        self.second=1\n",
    "        self.__len=len\n",
    "    def __next__(self):\n",
    "        if self.__len==0:\n",
    "            raise StopIteration\n",
    "        self.first,self.second=self.second,self.first+self.second\n",
    "        self.__len-=1\n",
    "        return self.first\n",
    "    def __iter__(self):\n",
    "        return self\n",
    "fib=FIb(100)\n",
    "# print(next(fib))\n",
    "# for i in fib:\n",
    "#     print(i,end=' ')\n",
    "my_iter=iter([2,4,'fjit'])\n",
    "print(my_iter.__next__())\n",
    "print(my_iter.__next__())\n",
    "print(my_iter.__next__())\n"
   ],
   "metadata": {
    "collapsed": false,
    "pycharm": {
     "name": "#%%\n"
    }
   }
  },
  {
   "cell_type": "code",
   "execution_count": 104,
   "outputs": [
    {
     "name": "stdout",
     "output_type": "stream",
     "text": [
      "['name0', 'name1']\n",
      "['name2', 'name3']\n"
     ]
    }
   ],
   "source": [
    "class ValueDict(dict):\n",
    "    def __init__(self,*args,**kwargs):\n",
    "        super().__init__(*args,**kwargs)\n",
    "    def getkeys(self,val):\n",
    "        result=[]\n",
    "        for key,value in self.items():\n",
    "            if value==val:\n",
    "                result.append(key)\n",
    "        return result\n",
    "\n",
    "my_dict=ValueDict(name0=99,name1=99,name2=89,name3=89)\n",
    "print(my_dict.getkeys(99))\n",
    "print(my_dict.getkeys(89))"
   ],
   "metadata": {
    "collapsed": false,
    "pycharm": {
     "name": "#%%\n"
    }
   }
  },
  {
   "cell_type": "code",
   "execution_count": 107,
   "outputs": [
    {
     "name": "stdout",
     "output_type": "stream",
     "text": [
      "==============\n",
      "function start running\n",
      "0\n",
      "1\n"
     ]
    }
   ],
   "source": [
    "def test(val,step):\n",
    "    print('function start running')\n",
    "    cur=0\n",
    "    for i in range(val):\n",
    "        cur+=i*step\n",
    "        yield cur\n",
    "\n",
    "t=test(10,1)\n",
    "print('==============')\n",
    "print(next(t))\n",
    "print(next(t))"
   ],
   "metadata": {
    "collapsed": false,
    "pycharm": {
     "name": "#%%\n"
    }
   }
  },
  {
   "cell_type": "code",
   "execution_count": 118,
   "outputs": [
    {
     "name": "stdout",
     "output_type": "stream",
     "text": [
      "0\n",
      "=------\n",
      "=====9\n",
      "81\n",
      "1\n"
     ]
    },
    {
     "ename": "StopIteration",
     "evalue": "",
     "output_type": "error",
     "traceback": [
      "\u001B[1;31m---------------------------------------------------------------------------\u001B[0m",
      "\u001B[1;31mStopIteration\u001B[0m                             Traceback (most recent call last)",
      "\u001B[1;32m<ipython-input-118-129133fbd802>\u001B[0m in \u001B[0;36m<module>\u001B[1;34m\u001B[0m\n\u001B[0;32m     14\u001B[0m \u001B[1;31m# sq.throw(ValueError)\u001B[0m\u001B[1;33m\u001B[0m\u001B[1;33m\u001B[0m\u001B[1;33m\u001B[0m\u001B[0m\n\u001B[0;32m     15\u001B[0m \u001B[0msq\u001B[0m\u001B[1;33m.\u001B[0m\u001B[0mclose\u001B[0m\u001B[1;33m(\u001B[0m\u001B[1;33m)\u001B[0m\u001B[1;33m\u001B[0m\u001B[1;33m\u001B[0m\u001B[0m\n\u001B[1;32m---> 16\u001B[1;33m \u001B[0mprint\u001B[0m\u001B[1;33m(\u001B[0m\u001B[0mnext\u001B[0m\u001B[1;33m(\u001B[0m\u001B[0msq\u001B[0m\u001B[1;33m)\u001B[0m\u001B[1;33m)\u001B[0m\u001B[1;33m\u001B[0m\u001B[1;33m\u001B[0m\u001B[0m\n\u001B[0m\u001B[0;32m     17\u001B[0m \u001B[1;33m\u001B[0m\u001B[0m\n",
      "\u001B[1;31mStopIteration\u001B[0m: "
     ]
    }
   ],
   "source": [
    "def square_gen(val):\n",
    "    i=0\n",
    "    out_val=None\n",
    "    while True:\n",
    "        out_val=(yield out_val**2) if out_val is not None else (yield i**2)\n",
    "        if out_val is not  None:\n",
    "            print('=====%d'% out_val)\n",
    "            i+=1\n",
    "sq=square_gen(5)\n",
    "print(sq.send(None))\n",
    "print('=------')\n",
    "print(sq.send(9))\n",
    "print(next(sq))\n",
    "# sq.throw(ValueError)\n",
    "sq.close()\n",
    "print(next(sq))\n"
   ],
   "metadata": {
    "collapsed": false,
    "pycharm": {
     "name": "#%%\n"
    }
   }
  },
  {
   "cell_type": "code",
   "execution_count": 120,
   "outputs": [
    {
     "data": {
      "text/plain": "Rectangle(width=7,height=9)"
     },
     "execution_count": 120,
     "metadata": {},
     "output_type": "execute_result"
    }
   ],
   "source": [
    "class Rectangle:\n",
    "    def __init__(self,width,height):\n",
    "        self.width=width\n",
    "        self.height=height\n",
    "    def setsize(self,size):\n",
    "        self.width,self.height=size\n",
    "    def getsize(self):\n",
    "        return self.width,self.height\n",
    "    size=property(setsize,getsize)\n",
    "    def __add__(self, other):\n",
    "        if not isinstance(other,Rectangle):\n",
    "            raise TypeError\n",
    "        return Rectangle(self.width+other.width,self.height+other.height)\n",
    "    def __repr__(self):\n",
    "        return 'Rectangle(width=%g,height=%g)'%(self.width,self.height)\n",
    "r1=Rectangle(4,5)\n",
    "r2=Rectangle(3,4)\n",
    "r1+r2\n",
    "\n"
   ],
   "metadata": {
    "collapsed": false,
    "pycharm": {
     "name": "#%%\n"
    }
   }
  },
  {
   "cell_type": "code",
   "execution_count": 123,
   "outputs": [
    {
     "name": "stdout",
     "output_type": "stream",
     "text": [
      "Rectangle(width=7,height=8)\n",
      "Rectangle(width=4,height=5)\n"
     ]
    }
   ],
   "source": [
    "class Rectangle:\n",
    "    def __init__(self,width,height):\n",
    "        self.width=width\n",
    "        self.height=height\n",
    "    def setsize(self,size):\n",
    "        self.width,self.height=size\n",
    "    def getsize(self):\n",
    "        return self.width,self.height\n",
    "    size=property(setsize,getsize)\n",
    "    def __int__(self):\n",
    "        return int(self.width*self.height)\n",
    "    def __repr__(self):\n",
    "        return 'Rectangle(width=%g,height=%g)'%(self.width,self.height)\n",
    "r3=Rectangle(4,5)\n",
    "r4=Rectangle(7,8)\n",
    "print(r4)\n",
    "print(r3)"
   ],
   "metadata": {
    "collapsed": false,
    "pycharm": {
     "name": "#%%\n"
    }
   }
  },
  {
   "cell_type": "code",
   "execution_count": 130,
   "outputs": [
    {
     "name": "stdout",
     "output_type": "stream",
     "text": [
      "Rectangle(width=4.545,height=789.445)\n",
      "Rectangle(width=4.545,height=789.445)\n"
     ]
    }
   ],
   "source": [
    "class Rectangle:\n",
    "    def __init__(self,width,height):\n",
    "        self.width=width\n",
    "        self.height=height\n",
    "    def setsize(self,size):\n",
    "        self.width,self.height=size\n",
    "    def getsize(self):\n",
    "        return self.width,self.height\n",
    "    size=property(setsize,getsize)\n",
    "    def __round__(self, ndigits=0):\n",
    "        self.width,self.height=round(self.width,ndigits),round(self.height,ndigits)\n",
    "        return self\n",
    "    def __repr__(self):\n",
    "        return 'Rectangle(width=%g,height=%g)'%(self.width,self.height)\n",
    "\n",
    "r5=Rectangle(4.5446,789.44545555)\n",
    "result=round(r5,3)\n",
    "print(r5)\n",
    "print(result)\n",
    "\n"
   ],
   "metadata": {
    "collapsed": false,
    "pycharm": {
     "name": "#%%\n"
    }
   }
  },
  {
   "cell_type": "code",
   "execution_count": 143,
   "outputs": [
    {
     "data": {
      "text/plain": "'C:\\\\Users\\\\E906044\\\\Anaconda3\\\\lib\\\\string.py'"
     },
     "execution_count": 143,
     "metadata": {},
     "output_type": "execute_result"
    }
   ],
   "source": [
    "import  string\n",
    "dir(string)\n",
    "[i for i in dir(string) if not i.startswith('__') ]\n",
    "\n",
    "string.__all__\n",
    "string.__file__"
   ],
   "metadata": {
    "collapsed": false,
    "pycharm": {
     "name": "#%%\n"
    }
   }
  },
  {
   "cell_type": "code",
   "execution_count": 171,
   "outputs": [
    {
     "data": {
      "text/plain": "'3.8'"
     },
     "execution_count": 171,
     "metadata": {},
     "output_type": "execute_result"
    }
   ],
   "source": [
    "import sys\n",
    "sys.getfilesystemencoding()\n",
    "sys.getrefcount(object)\n",
    "sys.maxsize\n",
    "sys.implementation\n",
    "sys.platform\n",
    "sys.stdin\n",
    "sys.stdout\n",
    "sys.version\n",
    "sys.winver"
   ],
   "metadata": {
    "collapsed": false,
    "pycharm": {
     "name": "#%%\n"
    }
   }
  },
  {
   "cell_type": "code",
   "execution_count": 157,
   "outputs": [
    {
     "name": "stdout",
     "output_type": "stream",
     "text": [
      "little\n",
      "Copyright (c) 2001-2020 Python Software Foundation.\n",
      "All Rights Reserved.\n",
      "\n",
      "Copyright (c) 2000 BeOpen.com.\n",
      "All Rights Reserved.\n",
      "\n",
      "Copyright (c) 1995-2001 Corporation for National Research Initiatives.\n",
      "All Rights Reserved.\n",
      "\n",
      "Copyright (c) 1991-1995 Stichting Mathematisch Centrum, Amsterdam.\n",
      "All Rights Reserved.\n"
     ]
    }
   ],
   "source": [
    "import sys\n",
    "print(sys.byteorder)\n",
    "print(sys.copyright)"
   ],
   "metadata": {
    "collapsed": false,
    "pycharm": {
     "name": "#%%\n"
    }
   }
  },
  {
   "cell_type": "code",
   "execution_count": 160,
   "outputs": [
    {
     "name": "stdout",
     "output_type": "stream",
     "text": [
      "3\n",
      "C:\\Users\\E906044\\Anaconda3\\lib\\site-packages\\ipykernel_launcher.py\n",
      "-f\n",
      "C:\\Users\\E906044\\AppData\\Roaming\\jupyter\\runtime\\kernel-fe71a789-f52a-40f4-b408-7b5db4e25e5b.json\n"
     ]
    }
   ],
   "source": [
    "from sys import argv\n",
    "print(len(argv))\n",
    "for i in argv:\n",
    "    print(i)"
   ],
   "metadata": {
    "collapsed": false,
    "pycharm": {
     "name": "#%%\n"
    }
   }
  },
  {
   "cell_type": "code",
   "execution_count": 174,
   "outputs": [
    {
     "name": "stdout",
     "output_type": "stream",
     "text": [
      "4\n",
      "b'\"]J'\n"
     ]
    }
   ],
   "source": [
    "import os\n",
    "os.name\n",
    "os.environ\n",
    "print(os.cpu_count())\n",
    "print(os.urandom(3))\n"
   ],
   "metadata": {
    "collapsed": false,
    "pycharm": {
     "name": "#%%\n"
    }
   }
  },
  {
   "cell_type": "code",
   "execution_count": 177,
   "outputs": [
    {
     "ename": "NameError",
     "evalue": "name 'cmd' is not defined",
     "output_type": "error",
     "traceback": [
      "\u001B[1;31m---------------------------------------------------------------------------\u001B[0m",
      "\u001B[1;31mNameError\u001B[0m                                 Traceback (most recent call last)",
      "\u001B[1;32m<ipython-input-177-542cbcef3e1a>\u001B[0m in \u001B[0;36m<module>\u001B[1;34m\u001B[0m\n\u001B[0;32m      1\u001B[0m \u001B[1;32mimport\u001B[0m \u001B[0mos\u001B[0m\u001B[1;33m\u001B[0m\u001B[1;33m\u001B[0m\u001B[0m\n\u001B[1;32m----> 2\u001B[1;33m \u001B[0mos\u001B[0m\u001B[1;33m.\u001B[0m\u001B[0msystem\u001B[0m\u001B[1;33m(\u001B[0m\u001B[0mcmd\u001B[0m\u001B[1;33m)\u001B[0m\u001B[1;33m\u001B[0m\u001B[1;33m\u001B[0m\u001B[0m\n\u001B[0m\u001B[0;32m      3\u001B[0m \u001B[1;33m\u001B[0m\u001B[0m\n",
      "\u001B[1;31mNameError\u001B[0m: name 'cmd' is not defined"
     ]
    }
   ],
   "source": [
    "import os\n",
    "os.system(cmd)\n"
   ],
   "metadata": {
    "collapsed": false,
    "pycharm": {
     "name": "#%%\n"
    }
   }
  },
  {
   "cell_type": "code",
   "execution_count": 182,
   "outputs": [
    {
     "data": {
      "text/plain": "0.9269586753375361"
     },
     "execution_count": 182,
     "metadata": {},
     "output_type": "execute_result"
    }
   ],
   "source": [
    "import random\n",
    "random.__all__\n",
    "random.triangular(5,10)\n",
    "random.gauss(0,5)"
   ],
   "metadata": {
    "collapsed": false,
    "pycharm": {
     "name": "#%%\n"
    }
   }
  },
  {
   "cell_type": "code",
   "execution_count": 186,
   "outputs": [
    {
     "ename": "TypeError",
     "evalue": "choice() takes 2 positional arguments but 4 were given",
     "output_type": "error",
     "traceback": [
      "\u001B[1;31m---------------------------------------------------------------------------\u001B[0m",
      "\u001B[1;31mTypeError\u001B[0m                                 Traceback (most recent call last)",
      "\u001B[1;32m<ipython-input-186-0c928e532335>\u001B[0m in \u001B[0;36m<module>\u001B[1;34m\u001B[0m\n\u001B[0;32m      1\u001B[0m \u001B[1;32mimport\u001B[0m \u001B[0mrandom\u001B[0m\u001B[1;33m,\u001B[0m\u001B[0mcollections\u001B[0m\u001B[1;33m\u001B[0m\u001B[1;33m\u001B[0m\u001B[0m\n\u001B[1;32m----> 2\u001B[1;33m \u001B[0mprint\u001B[0m\u001B[1;33m(\u001B[0m\u001B[0mrandom\u001B[0m\u001B[1;33m.\u001B[0m\u001B[0mchoice\u001B[0m\u001B[1;33m(\u001B[0m\u001B[1;33m[\u001B[0m\u001B[1;34m'python'\u001B[0m\u001B[1;33m,\u001B[0m\u001B[1;34m'java'\u001B[0m\u001B[1;33m,\u001B[0m\u001B[1;34m'c primer'\u001B[0m\u001B[1;33m]\u001B[0m\u001B[1;33m,\u001B[0m\u001B[1;33m[\u001B[0m\u001B[1;36m5\u001B[0m\u001B[1;33m,\u001B[0m\u001B[1;36m5\u001B[0m\u001B[1;33m,\u001B[0m\u001B[1;36m1\u001B[0m\u001B[1;33m]\u001B[0m\u001B[1;33m,\u001B[0m\u001B[1;36m6\u001B[0m\u001B[1;33m)\u001B[0m\u001B[1;33m)\u001B[0m\u001B[1;33m\u001B[0m\u001B[1;33m\u001B[0m\u001B[0m\n\u001B[0m\u001B[0;32m      3\u001B[0m \u001B[1;33m\u001B[0m\u001B[0m\n\u001B[0;32m      4\u001B[0m \u001B[1;33m\u001B[0m\u001B[0m\n\u001B[0;32m      5\u001B[0m \u001B[1;33m\u001B[0m\u001B[0m\n",
      "\u001B[1;31mTypeError\u001B[0m: choice() takes 2 positional arguments but 4 were given"
     ]
    }
   ],
   "source": [
    "import random,collections\n",
    "print(random.choice(['python','java','c primer'],[5,5,1],6))"
   ],
   "metadata": {
    "collapsed": false,
    "pycharm": {
     "name": "#%%\n"
    }
   }
  },
  {
   "cell_type": "code",
   "execution_count": 205,
   "outputs": [
    {
     "data": {
      "text/plain": "-28800"
     },
     "execution_count": 205,
     "metadata": {},
     "output_type": "execute_result"
    }
   ],
   "source": [
    "import time\n",
    "[i for i in dir(time) if not i.startswith('_')]\n",
    "\n",
    "time.asctime()\n",
    "time.ctime(30)\n",
    "time.gmtime()\n",
    "time.localtime()\n",
    "time.perf_counter()\n",
    "time.process_time()\n",
    "time.time()\n",
    "time.timezone"
   ],
   "metadata": {
    "collapsed": false,
    "pycharm": {
     "name": "#%%\n"
    }
   }
  },
  {
   "cell_type": "code",
   "execution_count": 207,
   "outputs": [
    {
     "data": {
      "text/plain": "['dump',\n 'dumps',\n 'load',\n 'loads',\n 'JSONDecoder',\n 'JSONDecodeError',\n 'JSONEncoder']"
     },
     "execution_count": 207,
     "metadata": {},
     "output_type": "execute_result"
    }
   ],
   "source": [
    "import json\n",
    "json.__all__"
   ],
   "metadata": {
    "collapsed": false,
    "pycharm": {
     "name": "#%%\n"
    }
   }
  },
  {
   "cell_type": "code",
   "execution_count": 211,
   "outputs": [
    {
     "name": "stdout",
     "output_type": "stream",
     "text": [
      "['yeeku', {'favorite': ['coding', None, 'game', 25]}]\n",
      "\"foo\"bar\n"
     ]
    }
   ],
   "source": [
    "result1 = json.loads('[\"yeeku\", {\"favorite\": [\"coding\", null, \"game\", 25]}]')\n",
    "print(result1)\n",
    "result2 = json.loads('\"\\\\\"foo\\\\\"bar\"')\n",
    "print(result2)"
   ],
   "metadata": {
    "collapsed": false,
    "pycharm": {
     "name": "#%%\n"
    }
   }
  },
  {
   "cell_type": "code",
   "execution_count": 212,
   "outputs": [
    {
     "name": "stdout",
     "output_type": "stream",
     "text": [
      "['yeeku', {'favorite': ['coding', None, 'game', 25]}]\n",
      "\"foo\"bar\n",
      "(1+2j)\n"
     ]
    },
    {
     "ename": "FileNotFoundError",
     "evalue": "[Errno 2] No such file or directory: 'a.json'",
     "output_type": "error",
     "traceback": [
      "\u001B[1;31m---------------------------------------------------------------------------\u001B[0m",
      "\u001B[1;31mFileNotFoundError\u001B[0m                         Traceback (most recent call last)",
      "\u001B[1;32m<ipython-input-212-917376229169>\u001B[0m in \u001B[0;36m<module>\u001B[1;34m\u001B[0m\n\u001B[0;32m     16\u001B[0m     object_hook=as_complex)\n\u001B[0;32m     17\u001B[0m \u001B[0mprint\u001B[0m\u001B[1;33m(\u001B[0m\u001B[0mresult3\u001B[0m\u001B[1;33m)\u001B[0m \u001B[1;31m# (1+2j)\u001B[0m\u001B[1;33m\u001B[0m\u001B[1;33m\u001B[0m\u001B[0m\n\u001B[1;32m---> 18\u001B[1;33m \u001B[0mf\u001B[0m \u001B[1;33m=\u001B[0m \u001B[0mopen\u001B[0m\u001B[1;33m(\u001B[0m\u001B[1;34m'a.json'\u001B[0m\u001B[1;33m)\u001B[0m\u001B[1;33m\u001B[0m\u001B[1;33m\u001B[0m\u001B[0m\n\u001B[0m\u001B[0;32m     19\u001B[0m \u001B[1;31m# 从文件流恢复JSON列表\u001B[0m\u001B[1;33m\u001B[0m\u001B[1;33m\u001B[0m\u001B[1;33m\u001B[0m\u001B[0m\n\u001B[0;32m     20\u001B[0m \u001B[0mresult4\u001B[0m \u001B[1;33m=\u001B[0m \u001B[0mjson\u001B[0m\u001B[1;33m.\u001B[0m\u001B[0mload\u001B[0m\u001B[1;33m(\u001B[0m\u001B[0mf\u001B[0m\u001B[1;33m)\u001B[0m\u001B[1;33m\u001B[0m\u001B[1;33m\u001B[0m\u001B[0m\n",
      "\u001B[1;31mFileNotFoundError\u001B[0m: [Errno 2] No such file or directory: 'a.json'"
     ]
    }
   ],
   "source": [
    "import json\n",
    "# 将JSON字符串恢复成Python列表\n",
    "result1 = json.loads('[\"yeeku\", {\"favorite\": [\"coding\", null, \"game\", 25]}]')\n",
    "print(result1) # ['yeeku', {'favorite': ['coding', None, 'game', 25]}]\n",
    "# 将JSON字符串恢复成Python字符串\n",
    "result2 = json.loads('\"\\\\\"foo\\\\\"bar\"')\n",
    "print(result2) # \"foo\"bar\n",
    "# 定义一个自定义的转化函数\n",
    "def as_complex(dct):\n",
    "    if '__complex__' in dct:\n",
    "        return complex(dct['real'], dct['imag'])\n",
    "    return dct\n",
    "# 使用自定义的恢复函数\n",
    "# 自定义回复函数将real数据转成复数的实部，将imag转成复数的虚部\n",
    "result3 = json.loads('{\"__complex__\": true, \"real\": 1, \"imag\": 2}',\\\n",
    "    object_hook=as_complex)\n",
    "print(result3) # (1+2j)\n",
    "f = open('a.json')\n",
    "# 从文件流恢复JSON列表\n",
    "result4 = json.load(f)\n",
    "print(result4) # ['Kotlin', {'Python': 'excellent'}]\n",
    "\n"
   ],
   "metadata": {
    "collapsed": false,
    "pycharm": {
     "name": "#%%\n"
    }
   }
  }
 ],
 "metadata": {
  "kernelspec": {
   "display_name": "Python 3",
   "language": "python",
   "name": "python3"
  },
  "language_info": {
   "codemirror_mode": {
    "name": "ipython",
    "version": 2
   },
   "file_extension": ".py",
   "mimetype": "text/x-python",
   "name": "python",
   "nbconvert_exporter": "python",
   "pygments_lexer": "ipython2",
   "version": "2.7.6"
  }
 },
 "nbformat": 4,
 "nbformat_minor": 0
}