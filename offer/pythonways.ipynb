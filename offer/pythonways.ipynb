{
 "cells": [
  {
   "cell_type": "code",
   "execution_count": 2,
   "metadata": {
    "collapsed": true
   },
   "outputs": [
    {
     "data": {
      "text/plain": "[1, 2, 1]"
     },
     "execution_count": 2,
     "metadata": {},
     "output_type": "execute_result"
    }
   ],
   "source": [
    " a = [1,4,2,3,1]\n",
    " my_slice=slice(0,5,2)\n",
    " a[my_slice]"
   ]
  },
  {
   "cell_type": "code",
   "execution_count": 5,
   "outputs": [
    {
     "data": {
      "text/plain": "['43', '52', '61']"
     },
     "execution_count": 5,
     "metadata": {},
     "output_type": "execute_result"
    }
   ],
   "source": [
    "x=[3,2,1]\n",
    "y=[4,5,6]\n",
    "list(zip(x,y))"
   ],
   "metadata": {
    "collapsed": false,
    "pycharm": {
     "name": "#%%\n"
    }
   }
  },
  {
   "cell_type": "code",
   "execution_count": 8,
   "outputs": [
    {
     "data": {
      "text/plain": "['a0', 'b1', 'c2', 'd3', 'e4']"
     },
     "execution_count": 8,
     "metadata": {},
     "output_type": "execute_result"
    }
   ],
   "source": [
    "a=range(5)\n",
    "b=list('abcde')\n",
    "b\n",
    "[str(y)+str(x) for x,y in zip(a,b)]\n",
    "\n",
    "\n"
   ],
   "metadata": {
    "collapsed": false,
    "pycharm": {
     "name": "#%%\n"
    }
   }
  },
  {
   "cell_type": "code",
   "execution_count": 11,
   "outputs": [],
   "source": [
    "import time\n",
    "def excepter(f):\n",
    "    i = 0\n",
    "    t1 = time.time()\n",
    "    def wrapper():\n",
    "        try:\n",
    "            f()\n",
    "        except Exception as e:\n",
    "            nonlocal i\n",
    "            i += 1\n",
    "            print(f'{e.args[0]}: {i}')\n",
    "            t2 = time.time()\n",
    "            if i == 5:\n",
    "                print(f'spending time:{round(t2-t1,2)}')\n",
    "    return wrapper\n"
   ],
   "metadata": {
    "collapsed": false,
    "pycharm": {
     "name": "#%%\n"
    }
   }
  },
  {
   "cell_type": "code",
   "execution_count": 13,
   "outputs": [
    {
     "name": "stdout",
     "output_type": "stream",
     "text": [
      "False\n"
     ]
    }
   ],
   "source": [
    "i=3\n",
    "print(1<i<3)\n",
    "\n"
   ],
   "metadata": {
    "collapsed": false,
    "pycharm": {
     "name": "#%%\n"
    }
   }
  },
  {
   "cell_type": "code",
   "execution_count": 15,
   "outputs": [
    {
     "data": {
      "text/plain": "15"
     },
     "execution_count": 15,
     "metadata": {},
     "output_type": "execute_result"
    }
   ],
   "source": [
    "from  operator import *\n",
    "\n",
    "def calculator(a,b,k):\n",
    "    return {\n",
    "        '+': add,\n",
    "        '-': sub,\n",
    "        '*': mul,\n",
    "        '/': truediv,\n",
    "        '**': pow\n",
    "    } [k](a,b)\n",
    "\n",
    "calculator(1,2,\"+\")\n",
    "calculator(3,5,'*')\n",
    "\n"
   ],
   "metadata": {
    "collapsed": false,
    "pycharm": {
     "name": "#%%\n"
    }
   }
  },
  {
   "cell_type": "code",
   "execution_count": 17,
   "outputs": [
    {
     "ename": "SyntaxError",
     "evalue": "invalid syntax (<ipython-input-17-213f509b6410>, line 8)",
     "output_type": "error",
     "traceback": [
      "\u001B[1;36m  File \u001B[1;32m\"<ipython-input-17-213f509b6410>\"\u001B[1;36m, line \u001B[1;32m8\u001B[0m\n\u001B[1;33m    def\u001B[0m\n\u001B[1;37m       ^\u001B[0m\n\u001B[1;31mSyntaxError\u001B[0m\u001B[1;31m:\u001B[0m invalid syntax\n"
     ]
    }
   ],
   "source": [
    "from operator import (add,sub)\n",
    "\n",
    "def add_or_sub(a,b,oper):\n",
    "    return (add if oper==\"+\" else sub)(a,b)\n",
    "add_or_sub(1,2,'-')\n",
    "\n"
   ],
   "metadata": {
    "collapsed": false,
    "pycharm": {
     "name": "#%%\n"
    }
   }
  },
  {
   "cell_type": "code",
   "execution_count": 20,
   "outputs": [
    {
     "name": "stdout",
     "output_type": "stream",
     "text": [
      "(5, 1)\n"
     ]
    }
   ],
   "source": [
    "def swap(a,b):\n",
    "    return b,a\n",
    "print(swap(1,5))\n",
    "\n",
    "\n",
    "\n"
   ],
   "metadata": {
    "collapsed": false,
    "pycharm": {
     "name": "#%%\n"
    }
   }
  },
  {
   "cell_type": "code",
   "execution_count": 27,
   "outputs": [
    {
     "data": {
      "text/plain": "8.3"
     },
     "execution_count": 27,
     "metadata": {},
     "output_type": "execute_result"
    }
   ],
   "source": [
    "def score_mean(lst):\n",
    "    lst.sort()\n",
    "    lst2=lst[1:(len(lst)-1)]\n",
    "    return round((sum(lst2)/len(lst2)),1)\n",
    "\n",
    "lst=[45,8,7,12,1,2,21,2,5.8]\n",
    "score_mean(lst)"
   ],
   "metadata": {
    "collapsed": false,
    "pycharm": {
     "name": "#%%\n"
    }
   }
  },
  {
   "cell_type": "code",
   "execution_count": 29,
   "outputs": [
    {
     "name": "stdout",
     "output_type": "stream",
     "text": [
      "1*1=1\t\n",
      "1*2=1\t2*2=4\t\n",
      "1*3=1\t2*3=4\t3*3=9\t\n",
      "1*4=1\t2*4=4\t3*4=9\t4*4=16\t\n",
      "1*5=1\t2*5=4\t3*5=9\t4*5=16\t5*5=25\t\n",
      "1*6=1\t2*6=4\t3*6=9\t4*6=16\t5*6=25\t6*6=36\t\n",
      "1*7=1\t2*7=4\t3*7=9\t4*7=16\t5*7=25\t6*7=36\t7*7=49\t\n",
      "1*8=1\t2*8=4\t3*8=9\t4*8=16\t5*8=25\t6*8=36\t7*8=49\t8*8=64\t\n",
      "1*9=1\t2*9=4\t3*9=9\t4*9=16\t5*9=25\t6*9=36\t7*9=49\t8*9=64\t9*9=81\t\n"
     ]
    }
   ],
   "source": [
    "for i in range(1,10):\n",
    "    for j in range(1,i+1):\n",
    "        print('%d*%d=%d'%(j,i,j*j),end='\\t')\n",
    "    print()"
   ],
   "metadata": {
    "collapsed": false,
    "pycharm": {
     "name": "#%%\n"
    }
   }
  },
  {
   "cell_type": "code",
   "execution_count": 31,
   "outputs": [
    {
     "name": "stdout",
     "output_type": "stream",
     "text": [
      "[1, 2, 3, 4, 5]\n",
      "[6, 7, 1, 2, 3, 4, 5]\n",
      "[1, 2, 3, 4, 5, 6]\n"
     ]
    }
   ],
   "source": [
    "from collections.abc import *\n",
    "\n",
    "def flatten(lst,out_lst=None):\n",
    "    if out_lst is None:\n",
    "        out_lst=[]\n",
    "    for i in lst:\n",
    "        if isinstance(i,Iterable):\n",
    "            flatten(i,out_lst)\n",
    "        else:\n",
    "            out_lst.append(i)\n",
    "    return out_lst\n",
    "\n",
    "print(flatten([[1,2,3],[4,5]]))\n",
    "print(flatten([[1,2,3],[4,5]], [6,7]))\n",
    "print(flatten([[[1,2,3],[4,5,6]]]))"
   ],
   "metadata": {
    "collapsed": false,
    "pycharm": {
     "name": "#%%\n"
    }
   }
  },
  {
   "cell_type": "code",
   "execution_count": 33,
   "outputs": [
    {
     "ename": "TypeError",
     "evalue": "data type not understood",
     "output_type": "error",
     "traceback": [
      "\u001B[1;31m---------------------------------------------------------------------------\u001B[0m",
      "\u001B[1;31mTypeError\u001B[0m                                 Traceback (most recent call last)",
      "\u001B[1;32m<ipython-input-33-45547b8edd3e>\u001B[0m in \u001B[0;36m<module>\u001B[1;34m\u001B[0m\n\u001B[0;32m      1\u001B[0m \u001B[1;32mimport\u001B[0m \u001B[0mnumpy\u001B[0m\u001B[1;33m\u001B[0m\u001B[1;33m\u001B[0m\u001B[0m\n\u001B[1;32m----> 2\u001B[1;33m \u001B[0mb\u001B[0m\u001B[1;33m=\u001B[0m\u001B[0mnumpy\u001B[0m\u001B[1;33m.\u001B[0m\u001B[0marray\u001B[0m\u001B[1;33m(\u001B[0m\u001B[1;33m[\u001B[0m\u001B[1;36m1\u001B[0m\u001B[1;33m,\u001B[0m\u001B[1;36m2\u001B[0m\u001B[1;33m,\u001B[0m\u001B[1;36m3\u001B[0m\u001B[1;33m]\u001B[0m\u001B[1;33m,\u001B[0m\u001B[1;33m[\u001B[0m\u001B[1;36m4\u001B[0m\u001B[1;33m,\u001B[0m\u001B[1;36m5\u001B[0m\u001B[1;33m]\u001B[0m\u001B[1;33m)\u001B[0m\u001B[1;33m\u001B[0m\u001B[1;33m\u001B[0m\u001B[0m\n\u001B[0m\u001B[0;32m      3\u001B[0m \u001B[0mb\u001B[0m\u001B[1;33m.\u001B[0m\u001B[0mflatten\u001B[0m\u001B[1;33m(\u001B[0m\u001B[1;33m)\u001B[0m\u001B[1;33m\u001B[0m\u001B[1;33m\u001B[0m\u001B[0m\n\u001B[0;32m      4\u001B[0m \u001B[0marray\u001B[0m\u001B[1;33m(\u001B[0m\u001B[1;33m[\u001B[0m\u001B[0mlist\u001B[0m\u001B[1;33m(\u001B[0m\u001B[1;33m[\u001B[0m\u001B[1;36m1\u001B[0m\u001B[1;33m,\u001B[0m\u001B[1;36m2\u001B[0m\u001B[1;33m,\u001B[0m\u001B[1;36m3\u001B[0m\u001B[1;33m]\u001B[0m\u001B[1;33m)\u001B[0m\u001B[1;33m,\u001B[0m\u001B[0mlist\u001B[0m\u001B[1;33m(\u001B[0m\u001B[1;33m[\u001B[0m\u001B[1;36m4\u001B[0m\u001B[1;33m,\u001B[0m\u001B[1;36m5\u001B[0m\u001B[1;33m]\u001B[0m\u001B[1;33m)\u001B[0m\u001B[1;33m]\u001B[0m\u001B[1;33m,\u001B[0m\u001B[0mdtype\u001B[0m\u001B[1;33m=\u001B[0m\u001B[0mobject\u001B[0m\u001B[1;33m)\u001B[0m\u001B[1;33m\u001B[0m\u001B[1;33m\u001B[0m\u001B[0m\n\u001B[0;32m      5\u001B[0m \u001B[1;33m\u001B[0m\u001B[0m\n",
      "\u001B[1;31mTypeError\u001B[0m: data type not understood"
     ]
    }
   ],
   "source": [
    "import numpy\n",
    "b=numpy.array([1,2,3],[4,5])\n",
    "b.flatten()\n",
    "array([list([1,2,3]),list([4,5])],dtype=object)"
   ],
   "metadata": {
    "collapsed": false,
    "pycharm": {
     "name": "#%%\n"
    }
   }
  },
  {
   "cell_type": "code",
   "execution_count": 37,
   "outputs": [
    {
     "name": "stdout",
     "output_type": "stream",
     "text": [
      "[[1, 3], [5, 7], [9]]\n",
      "[[1, 3, 5, 7, 9]]\n",
      "[[1, 3, 5, 7, 9]]\n"
     ]
    }
   ],
   "source": [
    "from math import ceil\n",
    "\n",
    "def divide(lst,size):\n",
    "    if size<=0:\n",
    "        return [lst]\n",
    "    return [lst[i*size:(i+1)*size] for i in range(0,ceil(len(lst)/size))]\n",
    "\n",
    "r=divide([1,3,5,7,9],2)\n",
    "print(r)\n",
    "\n",
    "r=divide([1,3,5,7,9],0)\n",
    "print(r)\n",
    "\n",
    "r=divide([1,3,5,7,9],-3)\n",
    "print(r)\n"
   ],
   "metadata": {
    "collapsed": false,
    "pycharm": {
     "name": "#%%\n"
    }
   }
  },
  {
   "cell_type": "code",
   "execution_count": 40,
   "outputs": [
    {
     "name": "stdout",
     "output_type": "stream",
     "text": [
      "['ok', [1, 2]]\n"
     ]
    }
   ],
   "source": [
    "def filter_false(lst):\n",
    "    return list(filter(bool,lst))\n",
    "\n",
    "r=filter_false([None,0,False,'','ok',[1,2]])\n",
    "print(r)"
   ],
   "metadata": {
    "collapsed": false,
    "pycharm": {
     "name": "#%%\n"
    }
   }
  },
  {
   "cell_type": "code",
   "execution_count": 44,
   "outputs": [
    {
     "name": "stdout",
     "output_type": "stream",
     "text": [
      "gengn[4, 5, 6, 7]\n"
     ]
    }
   ],
   "source": [
    "def max_length(*lst):\n",
    "    return  max(*lst,key=lambda v:len(v))\n",
    "r=max_length([1,2,3],[4,5,6,7],[8,9])\n",
    "print(f'gengn{r}')\n",
    "\n"
   ],
   "metadata": {
    "collapsed": false,
    "pycharm": {
     "name": "#%%\n"
    }
   }
  },
  {
   "cell_type": "code",
   "execution_count": 47,
   "outputs": [
    {
     "name": "stdout",
     "output_type": "stream",
     "text": [
      "top1 is 1\n"
     ]
    }
   ],
   "source": [
    "def top1(lst):\n",
    "    return max(lst,default='list is Null',key=lambda v:lst.count(v))\n",
    "\n",
    "lst=[1,2,1,2,1,2,1,5,5,4,4]\n",
    "r=top1(lst)\n",
    "print(f'top1 is {r}')"
   ],
   "metadata": {
    "collapsed": false,
    "pycharm": {
     "name": "#%%\n"
    }
   }
  },
  {
   "cell_type": "code",
   "execution_count": 50,
   "outputs": [
    {
     "name": "stdout",
     "output_type": "stream",
     "text": [
      "44\n"
     ]
    }
   ],
   "source": [
    "def max_lists(*lst):\n",
    "    return  max(max(*lst,key=lambda v:max(v)))\n",
    "\n",
    "r=max_lists([1,2,3],[4,8,9],[44,4,5,6])\n",
    "print(r)\n",
    "\n"
   ],
   "metadata": {
    "collapsed": false,
    "pycharm": {
     "name": "#%%\n"
    }
   }
  },
  {
   "cell_type": "code",
   "execution_count": 55,
   "outputs": [
    {
     "name": "stdout",
     "output_type": "stream",
     "text": [
      "[7, 8, 4, 2, 1]\n"
     ]
    }
   ],
   "source": [
    "def has_duplicates(lst):\n",
    "    return len(lst)==len(set(lst))\n",
    "\n",
    "x=[11,1,1,2,2,5,74,8,7,8,6]\n",
    "y=[1,2,3,4,5,67]\n",
    "has_duplicates(x)\n",
    "has_duplicates(y)\n",
    "\n",
    "def reverse(lst):\n",
    "    return lst[::-1]\n",
    "\n",
    "r=reverse([1,2,4,8,7])\n",
    "print(r)"
   ],
   "metadata": {
    "collapsed": false,
    "pycharm": {
     "name": "#%%\n"
    }
   }
  },
  {
   "cell_type": "code",
   "execution_count": 1,
   "outputs": [
    {
     "data": {
      "text/plain": "[1.0, 1.7, 2.4, 3.1, 3.8, 4.5, 5.2, 5.9, 6.6, 7.3, 8.0]"
     },
     "execution_count": 1,
     "metadata": {},
     "output_type": "execute_result"
    }
   ],
   "source": [
    "def rang(start,stop,n):\n",
    "    start,stop,n=float('%.2f'% start),float('%.2f'%stop),float('%.2f'%n)\n",
    "    step=(stop-start)/n\n",
    "    lst=[start]\n",
    "    while n>0:\n",
    "        start,n=start+step,n-1\n",
    "        lst.append(round((start),2))\n",
    "    return  lst\n",
    "\n",
    "rang(1,8,10)"
   ],
   "metadata": {
    "collapsed": false,
    "pycharm": {
     "name": "#%%\n"
    }
   }
  },
  {
   "cell_type": "code",
   "execution_count": 4,
   "outputs": [
    {
     "data": {
      "text/plain": "[[9, 3], [258, 134]]"
     },
     "execution_count": 4,
     "metadata": {},
     "output_type": "execute_result"
    }
   ],
   "source": [
    "def  bif_by(lst,f):\n",
    "    return [[x for x in lst if f(x)],[x for x in lst if not f(x)]]\n",
    "\n",
    "records=[258,9,3,134]\n",
    "bif_by(records,lambda x:x<80)\n"
   ],
   "metadata": {
    "collapsed": false,
    "pycharm": {
     "name": "#%%\n"
    }
   }
  },
  {
   "cell_type": "code",
   "execution_count": 7,
   "outputs": [
    {
     "data": {
      "text/plain": "[5, 13, 22, 33, 46, 13]"
     },
     "execution_count": 7,
     "metadata": {},
     "output_type": "execute_result"
    }
   ],
   "source": [
    "\"\"\"向量运算\"\"\"\n",
    "lst1=[1,2,3,4,5,6]\n",
    "lst2=[4,6,7,8,9,2]\n",
    "list(map(lambda x,y:x*y+1,lst1,lst2))\n",
    "\n"
   ],
   "metadata": {
    "collapsed": false,
    "pycharm": {
     "name": "#%%\n"
    }
   }
  },
  {
   "cell_type": "code",
   "execution_count": 9,
   "outputs": [
    {
     "name": "stdout",
     "output_type": "stream",
     "text": [
      "[('a', 5), ('b', 5)]\n"
     ]
    }
   ],
   "source": [
    "def max_value(dic):\n",
    "    if len(dic)==0:\n",
    "        return dic\n",
    "    max_value=max(map(lambda v:v[1],dic.items()))\n",
    "    return [item for item in dic.items() if item[1]==max_value]\n",
    "\n",
    "r=max_value({'a':5,'b':5,'c':4})\n",
    "print(r)\n",
    "\n"
   ],
   "metadata": {
    "collapsed": false,
    "pycharm": {
     "name": "#%%\n"
    }
   }
  },
  {
   "cell_type": "code",
   "execution_count": 11,
   "outputs": [
    {
     "data": {
      "text/plain": "{'a': 2, 'g': 3, 's': '7'}"
     },
     "execution_count": 11,
     "metadata": {},
     "output_type": "execute_result"
    }
   ],
   "source": [
    "def merge_dict(dic1,dic2):\n",
    "    return {**dic1,**dic2}\n",
    "\n",
    "merge_dict({'a':2,'g':3},{'s':'7'})\n",
    "\n"
   ],
   "metadata": {
    "collapsed": false,
    "pycharm": {
     "name": "#%%\n"
    }
   }
  },
  {
   "cell_type": "code",
   "execution_count": 14,
   "outputs": [
    {
     "data": {
      "text/plain": "['a', 'd', 'c']"
     },
     "execution_count": 14,
     "metadata": {},
     "output_type": "execute_result"
    }
   ],
   "source": [
    "from  heapq import nlargest\n",
    "def top_dict(d,n):\n",
    "    return nlargest(n,d,key=lambda k:d[k])\n",
    "\n",
    "top_dict({'a': 10, 'b': 8, 'c': 9, 'd': 10}, 3)"
   ],
   "metadata": {
    "collapsed": false,
    "pycharm": {
     "name": "#%%\n"
    }
   }
  },
  {
   "cell_type": "code",
   "execution_count": 16,
   "outputs": [
    {
     "data": {
      "text/plain": "True"
     },
     "execution_count": 16,
     "metadata": {},
     "output_type": "execute_result"
    }
   ],
   "source": [
    "from  collections import  Counter\n",
    "def anagram(str1,str2):\n",
    "    return Counter(str1)==Counter(str2)\n",
    "\n",
    "anagram('eleven+two', 'twelve+one')\n",
    "\n"
   ],
   "metadata": {
    "collapsed": false,
    "pycharm": {
     "name": "#%%\n"
    }
   }
  },
  {
   "cell_type": "code",
   "execution_count": 18,
   "outputs": [],
   "source": [
    "dic1 = {'x': 1, 'y': 2 }\n",
    "dic2 = {'y': 3, 'z': 4 }\n",
    "merged1 = {**dic1, **dic2} # {'x': 1, 'y': 3, 'z': 4}"
   ],
   "metadata": {
    "collapsed": false,
    "pycharm": {
     "name": "#%%\n"
    }
   }
  },
  {
   "cell_type": "code",
   "execution_count": 20,
   "outputs": [
    {
     "name": "stdout",
     "output_type": "stream",
     "text": [
      "ChainMap({'x': 1, 'y': 2}, {'y': 3, 'z': 4})\n"
     ]
    }
   ],
   "source": [
    "from collections import ChainMap\n",
    "merged2=ChainMap(dic1,dic2)\n",
    "print(merged2)\n",
    "\n",
    "\n"
   ],
   "metadata": {
    "collapsed": false,
    "pycharm": {
     "name": "#%%\n"
    }
   }
  },
  {
   "cell_type": "code",
   "execution_count": 22,
   "outputs": [
    {
     "name": "stdout",
     "output_type": "stream",
     "text": [
      "3.0\n"
     ]
    }
   ],
   "source": [
    "from  collections import  namedtuple\n",
    "point=namedtuple('point',['x','y','z'])\n",
    "lst=[point(1.5,2,3.0),point(0.3,-1.0,2.0),point(1.3,2.8,-2.5)]\n",
    "print(lst[0].y-lst[1].y)\n"
   ],
   "metadata": {
    "collapsed": false,
    "pycharm": {
     "name": "#%%\n"
    }
   }
  },
  {
   "cell_type": "code",
   "execution_count": 24,
   "outputs": [
    {
     "name": "stdout",
     "output_type": "stream",
     "text": [
      "[24, 31, 18, 43, 11, 31, 21, 30, 28, 34, 21, 47, 39, 17, 27, 27, 22, 40, 0, 46, 31, 13, 20, 17, 30, 18, 44, 0, 50, 37, 6, 27, 6, 15, 18, 46, 30, 45, 41, 33, 0, 11, 13, 19, 3, 34, 41, 6, 39, 26, 38, 26, 29, 4, 39, 14, 45, 36, 29, 40, 17, 40, 40, 24, 28, 8, 31, 27, 23, 44, 0, 11, 6, 27, 32, 0, 1, 50, 46, 46, 5, 33, 41, 2, 31, 34, 1, 5, 20, 5, 23, 48, 27, 15, 27, 24, 21, 9, 12, 43]\n",
      "[24, 31, 18, 43, 11]\n",
      "[46, 34, 11, 5, 50, 18, 31, 27, 18, 6]\n"
     ]
    }
   ],
   "source": [
    "from random import randint,sample\n",
    "lst=[randint(0,50) for _  in range(100)]\n",
    "print(lst)\n",
    "print(lst[:5])\n",
    "lst_sample=sample(lst,10)\n",
    "print(lst_sample)"
   ],
   "metadata": {
    "collapsed": false,
    "pycharm": {
     "name": "#%%\n"
    }
   }
  },
  {
   "cell_type": "code",
   "execution_count": 27,
   "outputs": [
    {
     "name": "stdout",
     "output_type": "stream",
     "text": [
      "[7, 10, 31, 50, 3, 3, 10, 21, 16, 47, 11, 47, 20, 1, 48, 46, 37, 21, 36, 48, 50, 31, 46, 22, 20, 31, 3, 17, 34, 49, 21, 43, 15, 12, 33, 29, 13, 39, 14, 19, 28, 41, 50, 39, 5, 18, 19, 31, 38, 40, 1, 35, 41, 32, 49, 49, 9, 4, 38, 25, 30, 11, 34, 15, 17, 4, 17, 19, 22, 10, 36, 25, 48, 30, 25, 25, 5, 38, 6, 30, 18, 9, 39, 43, 38, 36, 27, 47, 29, 7, 43, 44, 32, 44, 20, 12, 30, 27, 42, 25]\n",
      "[25, 11, 38, 46, 6]\n"
     ]
    }
   ],
   "source": [
    "from random import shuffle\n",
    "lst=[randint(0,50) for _ in range(100)\n",
    "    ]\n",
    "print(lst)\n",
    "shuffle(lst)\n",
    "print(lst[:5])"
   ],
   "metadata": {
    "collapsed": false,
    "pycharm": {
     "name": "#%%\n"
    }
   }
  },
  {
   "cell_type": "code",
   "execution_count": 29,
   "outputs": [
    {
     "data": {
      "text/plain": "[(2.0242200361441243, 5.2656601993786225),\n (5.094345192307541, 2.558615678258933),\n (2.6353314170110798, 9.35633013498772),\n (0.29630270031493877, 8.070956032032305),\n (7.128901129138889, 2.9969384820977507),\n (8.459048526863496, 3.7253422348186804),\n (6.299574893475878, 5.237835259705036),\n (7.5929495131333224, 8.616318350709486),\n (9.048664460528835, 0.011430702045427399),\n (3.9060847484537655, 9.393331412638231)]"
     },
     "execution_count": 29,
     "metadata": {},
     "output_type": "execute_result"
    }
   ],
   "source": [
    "from random import  uniform\n",
    "[(uniform(0,10),uniform(0,10)) for _ in range(10)]"
   ],
   "metadata": {
    "collapsed": false,
    "pycharm": {
     "name": "#%%\n"
    }
   }
  },
  {
   "cell_type": "code",
   "execution_count": 32,
   "outputs": [
    {
     "name": "stdout",
     "output_type": "stream",
     "text": [
      "[(0, 0.4440761189773761), (1, 2.906153029371986), (2, 7.042152775560824), (3, 7.313837601523342), (4, 8.780099519061624), (5, 10.843620418641873), (6, 13.666938658212223), (7, 15.649077162896827), (8, 16.84187214121059), (9, 18.225510632743504)]\n"
     ]
    }
   ],
   "source": [
    "from  random import  gauss\n",
    "x=range(10)\n",
    "y=[2*xi+1+gauss(0,1) for xi in x]\n",
    "point=list(zip(x,y))\n",
    "print(point)\n",
    "\n"
   ],
   "metadata": {
    "collapsed": false,
    "pycharm": {
     "name": "#%%\n"
    }
   }
  },
  {
   "cell_type": "code",
   "execution_count": 35,
   "outputs": [
    {
     "name": "stdout",
     "output_type": "stream",
     "text": [
      "1\n",
      "3\n",
      "5\n",
      "0\n",
      "2\n",
      "4\n",
      "6\n"
     ]
    }
   ],
   "source": [
    "from  itertools import chain\n",
    "a=[1,3,5,0]\n",
    "b=(2,4,6)\n",
    "\n",
    "for i in chain(a,b):\n",
    "    print(i)\n"
   ],
   "metadata": {
    "collapsed": false,
    "pycharm": {
     "name": "#%%\n"
    }
   }
  },
  {
   "cell_type": "code",
   "execution_count": 36,
   "outputs": [
    {
     "name": "stdout",
     "output_type": "stream",
     "text": [
      "i'm g\n"
     ]
    }
   ],
   "source": [
    "def f():\n",
    "    print('i\\'m f')\n",
    "\n",
    "def g():\n",
    "    print('i\\'m g')\n",
    "\n",
    "[f,g][1]()\n",
    "\n"
   ],
   "metadata": {
    "collapsed": false,
    "pycharm": {
     "name": "#%%\n"
    }
   }
  }
 ],
 "metadata": {
  "kernelspec": {
   "display_name": "Python 3",
   "language": "python",
   "name": "python3"
  },
  "language_info": {
   "codemirror_mode": {
    "name": "ipython",
    "version": 2
   },
   "file_extension": ".py",
   "mimetype": "text/x-python",
   "name": "python",
   "nbconvert_exporter": "python",
   "pygments_lexer": "ipython2",
   "version": "2.7.6"
  }
 },
 "nbformat": 4,
 "nbformat_minor": 0
}