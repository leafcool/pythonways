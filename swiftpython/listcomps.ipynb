{
 "cells": [
  {
   "cell_type": "code",
   "execution_count": 6,
   "metadata": {
    "collapsed": true
   },
   "outputs": [
    {
     "data": {
      "text/plain": "[36, 162, 163, 165, 8364, 164]"
     },
     "execution_count": 6,
     "metadata": {},
     "output_type": "execute_result"
    }
   ],
   "source": [
    "symbols = '$¢£¥€¤'\n",
    "codes=[]\n",
    "for symbol in symbols:\n",
    "    codes.append(ord(symbol))\n",
    "\n",
    "codes\n"
   ]
  },
  {
   "cell_type": "code",
   "execution_count": 9,
   "outputs": [
    {
     "name": "stdout",
     "output_type": "stream",
     "text": [
      "my precious\n",
      "['A', 'B', 'C']\n"
     ]
    }
   ],
   "source": [
    "x='my precious'\n",
    "dummy=[x for x in 'ABC'\n",
    "    ]\n",
    "print(x)\n",
    "print(dummy)\n"
   ],
   "metadata": {
    "collapsed": false,
    "pycharm": {
     "name": "#%%\n"
    }
   }
  },
  {
   "cell_type": "code",
   "execution_count": 11,
   "outputs": [
    {
     "data": {
      "text/plain": "[162, 163, 165, 8364, 164]"
     },
     "execution_count": 11,
     "metadata": {},
     "output_type": "execute_result"
    }
   ],
   "source": [
    "beyond=[ord(s) for s in symbols if ord(s)>127\n",
    "    ]\n",
    "beyond"
   ],
   "metadata": {
    "collapsed": false,
    "pycharm": {
     "name": "#%%\n"
    }
   }
  },
  {
   "cell_type": "code",
   "execution_count": 13,
   "outputs": [
    {
     "data": {
      "text/plain": "[162, 163, 165, 8364, 164]"
     },
     "execution_count": 13,
     "metadata": {},
     "output_type": "execute_result"
    }
   ],
   "source": [
    "beyod=list(filter(lambda c:c>127,map(ord,symbols)))\n",
    "beyod\n"
   ],
   "metadata": {
    "collapsed": false,
    "pycharm": {
     "name": "#%%\n"
    }
   }
  },
  {
   "cell_type": "code",
   "execution_count": 15,
   "outputs": [
    {
     "data": {
      "text/plain": "[('black', 'S'),\n ('black', 'M'),\n ('black', 'L'),\n ('white', 'S'),\n ('white', 'M'),\n ('white', 'L')]"
     },
     "execution_count": 15,
     "metadata": {},
     "output_type": "execute_result"
    }
   ],
   "source": [
    "colors = ['black', 'white']\n",
    "sizes = ['S', 'M', 'L']\n",
    "tshirts=[(color,size)for color in colors for size in sizes]\n",
    "tshirts"
   ],
   "metadata": {
    "collapsed": false,
    "pycharm": {
     "name": "#%%\n"
    }
   }
  },
  {
   "cell_type": "code",
   "execution_count": 18,
   "outputs": [
    {
     "data": {
      "text/plain": "(36, 162, 163, 165, 8364, 164)"
     },
     "execution_count": 18,
     "metadata": {},
     "output_type": "execute_result"
    }
   ],
   "source": [
    "tuple(ord(symbol) for symbol in symbols)"
   ],
   "metadata": {
    "collapsed": false,
    "pycharm": {
     "name": "#%%\n"
    }
   }
  },
  {
   "cell_type": "code",
   "execution_count": 19,
   "outputs": [
    {
     "data": {
      "text/plain": "array('I', [36, 162, 163, 165, 8364, 164])"
     },
     "execution_count": 19,
     "metadata": {},
     "output_type": "execute_result"
    }
   ],
   "source": [
    "import  array\n",
    "array.array('I',(ord(symbol)for symbol in symbols))"
   ],
   "metadata": {
    "collapsed": false,
    "pycharm": {
     "name": "#%%\n"
    }
   }
  },
  {
   "cell_type": "code",
   "execution_count": 22,
   "outputs": [
    {
     "name": "stdout",
     "output_type": "stream",
     "text": [
      "black S\n",
      "black M\n",
      "black L\n",
      "white S\n",
      "white M\n",
      "white L\n"
     ]
    }
   ],
   "source": [
    "for tshirt in ('%s %s'% (color,size) for color in colors for size in sizes):\n",
    "    print(tshirt)"
   ],
   "metadata": {
    "collapsed": false,
    "pycharm": {
     "name": "#%%\n"
    }
   }
  },
  {
   "cell_type": "code",
   "execution_count": 25,
   "outputs": [
    {
     "name": "stdout",
     "output_type": "stream",
     "text": [
      "USA 31195855\n",
      "BRA CE342567\n",
      "ESP XDA205856\n",
      "USA\n",
      "BRA\n",
      "ESP\n"
     ]
    }
   ],
   "source": [
    "lax_coordinates = (33.9425, -118.408056)\n",
    "city, year, pop, chg, area = ('Tokyo', 2003, 32450, 0.66, 8014)\n",
    "traveler_ids=[('USA', '31195855'), ('BRA', 'CE342567'),('ESP', 'XDA205856')]\n",
    "for passport in traveler_ids:\n",
    "    print('%s %s'% passport)\n",
    "\n",
    "for country,_ in traveler_ids:\n",
    "    print(country)"
   ],
   "metadata": {
    "collapsed": false,
    "pycharm": {
     "name": "#%%\n"
    }
   }
  },
  {
   "cell_type": "code",
   "execution_count": 31,
   "outputs": [
    {
     "data": {
      "text/plain": "4"
     },
     "execution_count": 31,
     "metadata": {},
     "output_type": "execute_result"
    }
   ],
   "source": [
    "divmod(20,8)\n",
    "t=(20,8)\n",
    "quatient,remainder=divmod(*t)\n",
    "quatient\n",
    "remainder\n"
   ],
   "metadata": {
    "collapsed": false,
    "pycharm": {
     "name": "#%%\n"
    }
   }
  },
  {
   "cell_type": "code",
   "execution_count": 38,
   "outputs": [
    {
     "data": {
      "text/plain": "(0, 1, [2, 3, 4])"
     },
     "execution_count": 38,
     "metadata": {},
     "output_type": "execute_result"
    }
   ],
   "source": [
    "a,b,*reset=range(5)\n",
    "a,b,reset"
   ],
   "metadata": {
    "collapsed": false,
    "pycharm": {
     "name": "#%%\n"
    }
   }
  },
  {
   "cell_type": "code",
   "execution_count": 43,
   "outputs": [
    {
     "data": {
      "text/plain": "\"<class '__main__.card'>\""
     },
     "execution_count": 43,
     "metadata": {},
     "output_type": "execute_result"
    }
   ],
   "source": [
    "import collections\n",
    "card=collections.namedtuple('card',['rank','suit'])\n",
    "card\n",
    "repr(card)"
   ],
   "metadata": {
    "collapsed": false,
    "pycharm": {
     "name": "#%%\n"
    }
   }
  },
  {
   "cell_type": "code",
   "execution_count": 52,
   "outputs": [
    {
     "name": "stdout",
     "output_type": "stream",
     "text": [
      "name: Delhi NCR\n",
      "country: IN\n",
      "population: 21.935\n",
      "coordinates: LatLong(lat=28.613889, long=77.208889)\n"
     ]
    }
   ],
   "source": [
    "from collections import namedtuple\n",
    "City = namedtuple('City', 'name country population coordinates')\n",
    "tokyo = City('Tokyo', 'JP', 36.933, (35.689722, 139.691667))\n",
    "tokyo\n",
    "City._fields\n",
    "LatLong = namedtuple('LatLong', 'lat long')\n",
    "delhi_data = ('Delhi NCR', 'IN', 21.935, LatLong(28.613889, 77.208889))\n",
    "delhi = City._make(delhi_data)\n",
    "delhi\n",
    "delhi._asdict()\n",
    "\n",
    "for key,value in delhi._asdict().items():\n",
    "    print(key+\":\",value)"
   ],
   "metadata": {
    "collapsed": false,
    "pycharm": {
     "name": "#%%\n"
    }
   }
  },
  {
   "cell_type": "code",
   "execution_count": 66,
   "outputs": [
    {
     "name": "stdout",
     "output_type": "stream",
     "text": [
      "[0, 10, 20, 30, 40, 50, 60, 70, 80, 90]\n",
      "[20, 40, 60, 80]\n"
     ]
    },
    {
     "data": {
      "text/plain": "'eccb'"
     },
     "execution_count": 66,
     "metadata": {},
     "output_type": "execute_result"
    }
   ],
   "source": [
    "import numpy as np\n",
    "\n",
    "s=tuple(np.random.randn(10,1))\n",
    "\n",
    "l=[i*10  for i in range(10)]\n",
    "print(l)\n",
    "print(l[2::2])\n",
    "s=\"bicycle\"\n",
    "s[:3]\n",
    "s[::-2]"
   ],
   "metadata": {
    "collapsed": false,
    "pycharm": {
     "name": "#%%\n"
    }
   }
  },
  {
   "cell_type": "code",
   "execution_count": 79,
   "outputs": [
    {
     "name": "stdout",
     "output_type": "stream",
     "text": [
      "[1, 2, 3, 4, 5, 1, 2, 3, 4, 5, 1, 2, 3, 4, 5]\n",
      "[100, 2, 3, 4, 5]\n"
     ]
    },
    {
     "data": {
      "text/plain": "[1, 2, 3, 4, 5, 1, 2, 3, 4, 5, 1, 2, 3, 4, 5]"
     },
     "execution_count": 79,
     "metadata": {},
     "output_type": "execute_result"
    }
   ],
   "source": [
    "l=list(range(10))\n",
    "l\n",
    "l[2:5]\n",
    "del l[5:7]\n",
    "l\n",
    "l=[1,2,3,4,5]\n",
    "s=l*3\n",
    "print(s)\n",
    "l[0]=100\n",
    "print(l)\n",
    "s"
   ],
   "metadata": {
    "collapsed": false,
    "pycharm": {
     "name": "#%%\n"
    }
   }
  },
  {
   "cell_type": "code",
   "execution_count": 89,
   "outputs": [
    {
     "data": {
      "text/plain": "array([], dtype=int32)"
     },
     "execution_count": 89,
     "metadata": {},
     "output_type": "execute_result"
    }
   ],
   "source": [
    "board=[['s_']*3 for i in range(4)\n",
    "    ]\n",
    "board\n",
    "board[1][2]\n",
    "b=np.arange(10,5,5)\n",
    "b"
   ],
   "metadata": {
    "collapsed": false,
    "pycharm": {
     "name": "#%%\n"
    }
   }
  },
  {
   "cell_type": "code",
   "execution_count": 92,
   "outputs": [
    {
     "data": {
      "text/plain": "[['_', '_', '00000'], ['_', '_', '00000'], ['_', '_', '00000']]"
     },
     "execution_count": 92,
     "metadata": {},
     "output_type": "execute_result"
    }
   ],
   "source": [
    "weird_board = [['_'] * 3] * 3\n",
    "weird_board\n",
    "weird_board[1][2]='00000'\n",
    "weird_board\n",
    "\n"
   ],
   "metadata": {
    "collapsed": false,
    "pycharm": {
     "name": "#%%\n"
    }
   }
  },
  {
   "cell_type": "code",
   "execution_count": 98,
   "outputs": [
    {
     "data": {
      "text/plain": "[['_', '_', '000'], ['_', '_', '000'], ['_', '_', '000']]"
     },
     "execution_count": 98,
     "metadata": {},
     "output_type": "execute_result"
    }
   ],
   "source": [
    "row=['_'] * 3\n",
    "board = []\n",
    "for i in range(3):\n",
    "    board.append(row)\n",
    "board\n",
    "board[1][2]='000'\n",
    "board\n"
   ],
   "metadata": {
    "collapsed": false,
    "pycharm": {
     "name": "#%%\n"
    }
   }
  },
  {
   "cell_type": "code",
   "execution_count": 103,
   "outputs": [
    {
     "name": "stdout",
     "output_type": "stream",
     "text": [
      "2309650043264\n"
     ]
    },
    {
     "data": {
      "text/plain": "2309622856192"
     },
     "execution_count": 103,
     "metadata": {},
     "output_type": "execute_result"
    }
   ],
   "source": [
    "l=[1,2,3]\n",
    "id(l)\n",
    "\n",
    "t=(1,2,3)\n",
    "print(id(t))\n",
    "t*=2\n",
    "id(t)\n"
   ],
   "metadata": {
    "collapsed": false,
    "pycharm": {
     "name": "#%%\n"
    }
   }
  },
  {
   "cell_type": "code",
   "execution_count": 108,
   "outputs": [
    {
     "data": {
      "text/plain": "(1, 2, [30, 40, 50, 60])"
     },
     "execution_count": 108,
     "metadata": {},
     "output_type": "execute_result"
    }
   ],
   "source": [
    "t = (1, 2, [30, 40])\n",
    "t[2].extend([50,60])\n",
    "t\n"
   ],
   "metadata": {
    "collapsed": false,
    "pycharm": {
     "name": "#%%\n"
    }
   }
  },
  {
   "cell_type": "code",
   "execution_count": 113,
   "outputs": [
    {
     "data": {
      "text/plain": "['apple', 'banana', 'grape', 'raspberry']"
     },
     "execution_count": 113,
     "metadata": {},
     "output_type": "execute_result"
    }
   ],
   "source": [
    "fruits = ['grape', 'raspberry', 'apple', 'banana']\n",
    "sorted(fruits\n",
    "       )\n",
    "fruits\n",
    "fruits.sort()\n",
    "fruits"
   ],
   "metadata": {
    "collapsed": false,
    "pycharm": {
     "name": "#%%\n"
    }
   }
  },
  {
   "cell_type": "code",
   "execution_count": 115,
   "outputs": [
    {
     "name": "stdout",
     "output_type": "stream",
     "text": [
      "['F', 'A', 'C', 'C', 'B', 'A', 'A']\n",
      "[0, 10, 20, 30, 40, 50, 55, 60, 70, 80, 90]\n"
     ]
    }
   ],
   "source": [
    "import bisect,sys\n",
    "\n",
    "HAYSTACK = [1, 4, 5, 6, 8, 12, 15, 20, 21, 23, 23, 26, 29, 30]\n",
    "NEEDLES = [0, 1, 2, 5, 8, 10, 22, 23, 29, 30, 31]\n",
    "\n",
    "ROW_FMT = '{0:2d} @ {1:2d} {2}{0:<2d}'\n",
    "\n",
    "import bisect\n",
    "def grade(score, breakpoints=[60, 70, 80, 90], grades='FDCBA'):\n",
    "    i = bisect.bisect(breakpoints, score)\n",
    "    return grades[i]\n",
    "\n",
    "print([grade(score) for score in [33, 99, 77, 70, 89, 90, 100]])\n",
    "\n",
    "a = list(range(0, 100, 10))\n",
    "# 插入并保持有序\n",
    "bisect.insort(a, 55)\n",
    "print(a)"
   ],
   "metadata": {
    "collapsed": false,
    "pycharm": {
     "name": "#%%\n"
    }
   }
  },
  {
   "cell_type": "code",
   "execution_count": 117,
   "outputs": [
    {
     "name": "stdout",
     "output_type": "stream",
     "text": [
      "Short [1, 2, 3]\n",
      "Char [1, 0, 2, 0, 3, 0]\n",
      "[513, 2, 3] array('h', [513, 2, 3])\n",
      "----------\n",
      "TypeError(\"'bytes' object does not support item assignment\")\n",
      "Memv_byte [49, 50, 51]\n",
      "TypeError('cannot modify read-only memory')\n"
     ]
    }
   ],
   "source": [
    "\n",
    "import array\n",
    "\n",
    "arr = array.array('h', [1, 2, 3])\n",
    "memv_arr = memoryview(arr)\n",
    "# 把 signed short 的内存使用 char 来呈现\n",
    "memv_char = memv_arr.cast('B')\n",
    "print('Short', memv_arr.tolist())\n",
    "print('Char', memv_char.tolist())\n",
    "memv_char[1] = 2  # 更改 array 第一个数的高位字节\n",
    "# 0x1000000001\n",
    "print(memv_arr.tolist(), arr)\n",
    "print('-' * 10)\n",
    "bytestr = b'123'\n",
    "# bytes 是不允许更改的\n",
    "try:\n",
    "    bytestr[1] = '3'\n",
    "except TypeError as e:\n",
    "    print(repr(e))\n",
    "memv_byte = memoryview(bytestr)\n",
    "print('Memv_byte', memv_byte.tolist())\n",
    "# 同样这块内存也是只读的\n",
    "try:\n",
    "    memv_byte[1] = 1\n",
    "except TypeError as e:\n",
    "    print(repr(e))"
   ],
   "metadata": {
    "collapsed": false,
    "pycharm": {
     "name": "#%%\n"
    }
   }
  },
  {
   "cell_type": "code",
   "execution_count": 123,
   "outputs": [
    {
     "name": "stdout",
     "output_type": "stream",
     "text": [
      "52\n",
      "card(rank='3', suit='spades')\n",
      "[card(rank='7', suit='spades'), card(rank='8', suit='spades'), card(rank='9', suit='spades'), card(rank='10', suit='spades'), card(rank='J', suit='spades'), card(rank='Q', suit='spades'), card(rank='K', suit='spades'), card(rank='A', suit='spades')]\n",
      "card(rank='7', suit='clubs')\n"
     ]
    }
   ],
   "source": [
    "import  collections,random\n",
    "\n",
    "card=collections.namedtuple('card',['rank','suit'])\n",
    "\n",
    "class FrenchDeck:\n",
    "    ranks=[str(n) for n in range(2,11)]+list('JQKA')\n",
    "    suits='spades diamonds clubs hearts'.split()\n",
    "\n",
    "    def __init__(self):\n",
    "        self._cards=[card(rank,suit) for suit in self.suits for rank in self.ranks]\n",
    "    def __len__(self):\n",
    "        return len(self._cards)\n",
    "    def __getitem__(self, position):\n",
    "        return  self._cards[position]\n",
    "\n",
    "deck=FrenchDeck()\n",
    "print(len(deck))\n",
    "print(deck[1])\n",
    "print(deck[5:13])\n",
    "print(random.choice(deck))\n"
   ],
   "metadata": {
    "collapsed": false,
    "pycharm": {
     "name": "#%%\n"
    }
   }
  },
  {
   "cell_type": "code",
   "execution_count": 124,
   "outputs": [
    {
     "name": "stdout",
     "output_type": "stream",
     "text": [
      "52\n",
      "Card(rank='3', suit='spades')\n",
      "[Card(rank='7', suit='spades'), Card(rank='7', suit='diamonds'), Card(rank='7', suit='clubs'), Card(rank='7', suit='hearts')]\n",
      "Card(rank='Q', suit='diamonds')\n"
     ]
    }
   ],
   "source": [
    "import collections\n",
    "import random\n",
    "\n",
    "Card = collections.namedtuple('Card', ['rank', 'suit'])\n",
    "\n",
    "class FrenchDeck:\n",
    "    ranks = [str(n) for n in range(2, 11)] + list('JQKA')\n",
    "    suits = 'spades diamonds clubs hearts'.split()\n",
    "\n",
    "    def __init__(self):\n",
    "        self._cards = [Card(rank, suit) for suit in self.suits\n",
    "                                        for rank in self.ranks]\n",
    "\n",
    "    def __len__(self):\n",
    "        return len(self._cards)\n",
    "\n",
    "    def __getitem__(self, position):\n",
    "        return self._cards[position]\n",
    "\n",
    "deck = FrenchDeck()\n",
    "# 实现 __length__ 以支持 len\n",
    "print(len(deck))\n",
    "# 实现 __getitem__ 以支持下标操作\n",
    "print(deck[1])\n",
    "print(deck[5::13])\n",
    "# 有了这些操作，我们就可以直接对这些对象使用 Python 的自带函数了\n",
    "print(random.choice(deck))"
   ],
   "metadata": {
    "collapsed": false,
    "pycharm": {
     "name": "#%%\n"
    }
   }
  },
  {
   "cell_type": "code",
   "execution_count": 127,
   "outputs": [
    {
     "ename": "FileNotFoundError",
     "evalue": "[Errno 2] No such file or directory: '-f'",
     "output_type": "error",
     "traceback": [
      "\u001B[1;31m---------------------------------------------------------------------------\u001B[0m",
      "\u001B[1;31mFileNotFoundError\u001B[0m                         Traceback (most recent call last)",
      "\u001B[1;32m<ipython-input-127-2cc079ccce77>\u001B[0m in \u001B[0;36m<module>\u001B[1;34m\u001B[0m\n\u001B[0;32m      4\u001B[0m \u001B[1;33m\u001B[0m\u001B[0m\n\u001B[0;32m      5\u001B[0m \u001B[0mindex\u001B[0m \u001B[1;33m=\u001B[0m \u001B[1;33m{\u001B[0m\u001B[1;33m}\u001B[0m\u001B[1;33m\u001B[0m\u001B[1;33m\u001B[0m\u001B[0m\n\u001B[1;32m----> 6\u001B[1;33m \u001B[1;32mwith\u001B[0m \u001B[0mopen\u001B[0m\u001B[1;33m(\u001B[0m\u001B[0msys\u001B[0m\u001B[1;33m.\u001B[0m\u001B[0margv\u001B[0m\u001B[1;33m[\u001B[0m\u001B[1;36m1\u001B[0m\u001B[1;33m]\u001B[0m\u001B[1;33m,\u001B[0m \u001B[0mencoding\u001B[0m\u001B[1;33m=\u001B[0m\u001B[1;34m'utf-8'\u001B[0m\u001B[1;33m)\u001B[0m \u001B[1;32mas\u001B[0m \u001B[0mfp\u001B[0m\u001B[1;33m:\u001B[0m\u001B[1;33m\u001B[0m\u001B[1;33m\u001B[0m\u001B[0m\n\u001B[0m\u001B[0;32m      7\u001B[0m     \u001B[1;32mfor\u001B[0m \u001B[0mline_no\u001B[0m\u001B[1;33m,\u001B[0m \u001B[0mline\u001B[0m \u001B[1;32min\u001B[0m \u001B[0menumerate\u001B[0m\u001B[1;33m(\u001B[0m\u001B[0mfp\u001B[0m\u001B[1;33m,\u001B[0m \u001B[1;36m1\u001B[0m\u001B[1;33m)\u001B[0m\u001B[1;33m:\u001B[0m\u001B[1;33m\u001B[0m\u001B[1;33m\u001B[0m\u001B[0m\n\u001B[0;32m      8\u001B[0m         \u001B[1;32mfor\u001B[0m \u001B[0mmatch\u001B[0m \u001B[1;32min\u001B[0m \u001B[0mWORD_RE\u001B[0m\u001B[1;33m.\u001B[0m\u001B[0mfinditer\u001B[0m\u001B[1;33m(\u001B[0m\u001B[0mline\u001B[0m\u001B[1;33m)\u001B[0m\u001B[1;33m:\u001B[0m\u001B[1;33m\u001B[0m\u001B[1;33m\u001B[0m\u001B[0m\n",
      "\u001B[1;31mFileNotFoundError\u001B[0m: [Errno 2] No such file or directory: '-f'"
     ]
    }
   ],
   "source": [
    "import sys ,re\n",
    "\n",
    "WORD_RE = re.compile(r'\\w+')\n",
    "\n",
    "index = {}\n",
    "with open(sys.argv[1], encoding='utf-8') as fp:\n",
    "    for line_no, line in enumerate(fp, 1):\n",
    "        for match in WORD_RE.finditer(line):\n",
    "            word = match.group()\n",
    "            column_no = match.start()+1\n",
    "            location = (line_no, column_no)\n",
    "            # 这其实是一种很不好的实现，这样写只是为了证明论点\n",
    "            occurrences = index.get(word, [])\n",
    "            occurrences.append(location)\n",
    "            index[word] = occurrences\n",
    "# 以字母顺序打印出结果\n",
    "for word in sorted(index, key=str.upper):\n",
    "    print(word, index[word])\n"
   ],
   "metadata": {
    "collapsed": false,
    "pycharm": {
     "name": "#%%\n"
    }
   }
  },
  {
   "cell_type": "code",
   "execution_count": 135,
   "outputs": [
    {
     "name": "stdout",
     "output_type": "stream",
     "text": [
      "Counter({'h': 6, 'j': 5, 'a': 4, 'g': 2, 's': 1, 'f': 1, 'y': 1})\n"
     ]
    },
    {
     "data": {
      "text/plain": "Counter({'a': 10, 'j': 5, 'h': 6, 'g': 2, 's': 1, 'f': 1, 'y': 1, 'z': 3})"
     },
     "execution_count": 135,
     "metadata": {},
     "output_type": "execute_result"
    }
   ],
   "source": [
    "from  collections import ChainMap\n",
    "import builtins,collections\n",
    "\n",
    "py_lookup=ChainMap(locals(),globals(),vars(builtins))\n",
    "py_lookup\n",
    "type(py_lookup)\n",
    "ct=collections.Counter('ajhhgashghajjjhjhfay')\n",
    "print(ct)\n",
    "ct.update('aaaaaazzz')\n",
    "ct"
   ],
   "metadata": {
    "collapsed": false,
    "pycharm": {
     "name": "#%%\n"
    }
   }
  },
  {
   "cell_type": "code",
   "execution_count": 140,
   "outputs": [
    {
     "name": "stdout",
     "output_type": "stream",
     "text": [
      "  1           0 LOAD_CONST               0 (1)\n",
      "              2 BUILD_SET                1\n",
      "              4 RETURN_VALUE\n"
     ]
    }
   ],
   "source": [
    "s={1}\n",
    "type(s)\n",
    "s.pop()\n",
    "from  dis import dis\n",
    "dis('{1}')\n"
   ],
   "metadata": {
    "collapsed": false,
    "pycharm": {
     "name": "#%%\n"
    }
   }
  },
  {
   "cell_type": "code",
   "execution_count": 144,
   "outputs": [
    {
     "name": "stdout",
     "output_type": "stream",
     "text": [
      "  1           0 LOAD_NAME                0 (set)\n",
      "              2 LOAD_CONST               0 (1)\n",
      "              4 BUILD_LIST               1\n",
      "              6 CALL_FUNCTION            1\n",
      "              8 RETURN_VALUE\n"
     ]
    },
    {
     "data": {
      "text/plain": "frozenset({0, 1, 2, 3, 4, 5, 6, 7, 8, 9})"
     },
     "execution_count": 144,
     "metadata": {},
     "output_type": "execute_result"
    }
   ],
   "source": [
    "dis('set([1])')\n",
    "\n",
    "frozenset(range(10))\n"
   ],
   "metadata": {
    "collapsed": false,
    "pycharm": {
     "name": "#%%\n"
    }
   }
  },
  {
   "cell_type": "code",
   "execution_count": 147,
   "outputs": [
    {
     "data": {
      "text/plain": "{'#',\n '$',\n '%',\n '+',\n '<',\n '=',\n '>',\n '¢',\n '£',\n '¤',\n '¥',\n '§',\n '©',\n '¬',\n '®',\n '°',\n '±',\n 'µ',\n '¶',\n '×',\n '÷'}"
     },
     "execution_count": 147,
     "metadata": {},
     "output_type": "execute_result"
    }
   ],
   "source": [
    "from unicodedata import name\n",
    "{chr(i)for i in range(32,256) if 'SIGN' in name(chr(i),' ')}\n"
   ],
   "metadata": {
    "collapsed": false,
    "pycharm": {
     "name": "#%%\n"
    }
   }
  },
  {
   "cell_type": "code",
   "execution_count": 149,
   "outputs": [
    {
     "name": "stdout",
     "output_type": "stream",
     "text": [
      "d1: dict_keys([86, 91, 1, 62, 55, 92, 880, 234, 7, 81])\n",
      "d2: dict_keys([1, 7, 55, 62, 81, 86, 91, 92, 234, 880])\n",
      "d3: dict_keys([880, 55, 86, 91, 62, 81, 234, 92, 7, 1])\n"
     ]
    }
   ],
   "source": [
    "DIAL_CODES = [\n",
    "(86, 'China'),\n",
    "(91, 'India'),\n",
    "(1, 'United States'),\n",
    "(62, 'Indonesia'),\n",
    "(55, 'Brazil'),\n",
    "(92, 'Pakistan'),\n",
    "(880, 'Bangladesh'),\n",
    "(234, 'Nigeria'),\n",
    "(7, 'Russia'),\n",
    "(81, 'Japan'),\n",
    "]\n",
    "d1 = dict(DIAL_CODES)\n",
    "print('d1:', d1.keys())\n",
    "d2 = dict(sorted(DIAL_CODES))\n",
    "print('d2:', d2.keys())\n",
    "d3 = dict(sorted(DIAL_CODES, key=lambda x:x[1]))\n",
    "print('d3:', d3.keys())\n",
    "assert d1 == d2 and d2 == d3"
   ],
   "metadata": {
    "collapsed": false,
    "pycharm": {
     "name": "#%%\n"
    }
   }
  },
  {
   "cell_type": "code",
   "execution_count": 160,
   "outputs": [
    {
     "data": {
      "text/plain": "b'1K\\xce\\xa9'"
     },
     "execution_count": 160,
     "metadata": {},
     "output_type": "execute_result"
    }
   ],
   "source": [
    "cafe=bytes('cafe',encoding='utf-8')\n",
    "cafe\n",
    "cafe[:1]\n",
    "cafe_arr=bytearray(cafe)\n",
    "cafe_arr\n",
    "cafe_arr[-1:]\n",
    "\n",
    "bytes.fromhex('31 4B CE A9')"
   ],
   "metadata": {
    "collapsed": false,
    "pycharm": {
     "name": "#%%\n"
    }
   }
  },
  {
   "cell_type": "code",
   "execution_count": 165,
   "outputs": [
    {
     "name": "stdout",
     "output_type": "stream",
     "text": [
      "latin_1\tb'El Ni\\xf1o'\n",
      "utf_8\tb'El Ni\\xc3\\xb1o'\n",
      "utf_16\tb'\\xff\\xfeE\\x00l\\x00 \\x00N\\x00i\\x00\\xf1\\x00o\\x00'\n"
     ]
    },
    {
     "data": {
      "text/plain": "1114111"
     },
     "execution_count": 165,
     "metadata": {},
     "output_type": "execute_result"
    }
   ],
   "source": [
    "for codec in ['latin_1', 'utf_8', 'utf_16']:\n",
    "    print(codec, 'El Niño'.encode(codec), sep='\\t')\n",
    "import os\n",
    "s=os.getcwd()\n",
    "sys.maxunicode"
   ],
   "metadata": {
    "collapsed": false,
    "pycharm": {
     "name": "#%%\n"
    }
   }
  },
  {
   "cell_type": "code",
   "execution_count": 172,
   "outputs": [
    {
     "name": "stdout",
     "output_type": "stream",
     "text": [
      "720\n"
     ]
    },
    {
     "data": {
      "text/plain": "[1, 1, 2, 6, 24, 120, 720, 5040, 40320, 362880, 3628800]"
     },
     "execution_count": 172,
     "metadata": {},
     "output_type": "execute_result"
    }
   ],
   "source": [
    "def fac(n):\n",
    "    \"\"\"sdjj\"\"\"\n",
    "    return 1 if n<2 else n*fac(n-1)\n",
    "\n",
    "s=fac(6)\n",
    "print(s)\n",
    "fac.__doc__\n",
    "list(map(fac,range(11)))"
   ],
   "metadata": {
    "collapsed": false,
    "pycharm": {
     "name": "#%%\n"
    }
   }
  },
  {
   "cell_type": "code",
   "execution_count": 177,
   "outputs": [
    {
     "data": {
      "text/plain": "'gnitset'"
     },
     "execution_count": 177,
     "metadata": {},
     "output_type": "execute_result"
    }
   ],
   "source": [
    "fruits = ['strawberry', 'fig', 'apple', 'cherry', 'raspberry', 'banana']\n",
    "sorted(fruits,key=len)\n",
    "\n",
    "def reverse(word):\n",
    "    return  word[::-1]\n",
    "reverse(\"testing\")"
   ],
   "metadata": {
    "collapsed": false,
    "pycharm": {
     "name": "#%%\n"
    }
   }
  },
  {
   "cell_type": "code",
   "execution_count": 187,
   "outputs": [
    {
     "data": {
      "text/plain": "True"
     },
     "execution_count": 187,
     "metadata": {},
     "output_type": "execute_result"
    }
   ],
   "source": [
    "import  random\n",
    "class BingoCage:\n",
    "    def __init__(self,items):\n",
    "        self._items=list(items)\n",
    "        random.shuffle(self._items)\n",
    "    def pick(self):\n",
    "        try:\n",
    "            return self._items.pop()\n",
    "        except IndexError:\n",
    "            raise LookupError('pick from empty BingoCage')\n",
    "    def __call__(self):\n",
    "        return self.pick()\n",
    "bingo=BingoCage(range(3))\n",
    "bingo.pick()\n",
    "callable(bingo)"
   ],
   "metadata": {
    "collapsed": false,
    "pycharm": {
     "name": "#%%\n"
    }
   }
  },
  {
   "cell_type": "code",
   "execution_count": 192,
   "outputs": [
    {
     "data": {
      "text/plain": "15.0"
     },
     "execution_count": 192,
     "metadata": {},
     "output_type": "execute_result"
    }
   ],
   "source": [
    "def make_averager():\n",
    "    count=0\n",
    "    total=0\n",
    "    def average(new_value):\n",
    "        nonlocal count,total\n",
    "        count +=1\n",
    "        total +=new_value\n",
    "        return total/count\n",
    "    return average\n",
    "\n",
    "sbg=make_averager()\n",
    "sbg(10)\n",
    "sbg(20)\n"
   ],
   "metadata": {
    "collapsed": false,
    "pycharm": {
     "name": "#%%\n"
    }
   }
  },
  {
   "cell_type": "code",
   "execution_count": 202,
   "outputs": [
    {
     "data": {
      "text/plain": "3"
     },
     "execution_count": 202,
     "metadata": {},
     "output_type": "execute_result"
    }
   ],
   "source": [
    "def adder(x):\n",
    "    def wrapper(y):\n",
    "        return x + y\n",
    "    return wrapper\n",
    "\n",
    "adder5 = adder(3)\n",
    "# 输出 15\n",
    "adder5(10)\n",
    "# 输出 11\n",
    "adder5(6)\n",
    "adder5(25)\n",
    "adder.__closure__\n",
    "adder5.__closure__\n",
    "adder5.__closure__[0].cell_contents"
   ],
   "metadata": {
    "collapsed": false,
    "pycharm": {
     "name": "#%%\n"
    }
   }
  },
  {
   "cell_type": "markdown",
   "source": [
    "实现简单的装饰器"
   ],
   "metadata": {
    "collapsed": false,
    "pycharm": {
     "name": "#%% md\n"
    }
   }
  },
  {
   "cell_type": "code",
   "execution_count": 204,
   "outputs": [],
   "source": [
    "import  time\n",
    "def clock(func):\n",
    "    def clocked(*args): #\n",
    "        t0 = time.perf_counter()\n",
    "        result = func(*args) # ➋\n",
    "        elapsed = time.perf_counter() - t0\n",
    "        name = func.__name__\n",
    "        arg_str = ', '.join(repr(arg) for arg in args)\n",
    "        print('[%0.8fs] %s(%s) -> %r' % (elapsed, name, arg_str, result))\n",
    "        return result\n",
    "    return clocked #\n"
   ],
   "metadata": {
    "collapsed": false,
    "pycharm": {
     "name": "#%%\n"
    }
   }
  },
  {
   "cell_type": "code",
   "execution_count": 206,
   "outputs": [
    {
     "name": "stdout",
     "output_type": "stream",
     "text": [
      "\n",
      "Data type of argument: <class 'dict'>\n",
      "Firstname is Sita\n",
      "Lastname is Sharma\n",
      "Age is 22\n",
      "Phone is 1234567890\n",
      "\n",
      "Data type of argument: <class 'dict'>\n",
      "Firstname is John\n",
      "Lastname is Wood\n",
      "Email is johnwood@nomail.com\n",
      "Country is Wakanda\n",
      "Age is 25\n",
      "Phone is 9876543210\n"
     ]
    }
   ],
   "source": [
    "def intro(**data):\n",
    "    print('\\nData type of argument:',type(data))\n",
    "    for key,value in data.items():\n",
    "        print('{} is {}'.format(key,value))\n",
    "\n",
    "intro(Firstname=\"Sita\", Lastname=\"Sharma\", Age=22, Phone=1234567890)\n",
    "intro(Firstname=\"John\", Lastname=\"Wood\", Email=\"johnwood@nomail.com\", Country=\"Wakanda\", Age=25, Phone=9876543210)"
   ],
   "metadata": {
    "collapsed": false,
    "pycharm": {
     "name": "#%%\n"
    }
   }
  },
  {
   "cell_type": "code",
   "execution_count": 212,
   "outputs": [
    {
     "name": "stdout",
     "output_type": "stream",
     "text": [
      "0\n",
      "10\n",
      "20\n"
     ]
    }
   ],
   "source": [
    "class Foo:\n",
    "    def __getitem__(self, pos):\n",
    "        return  range(0,30,10)[pos]\n",
    "\n",
    "f=Foo()\n",
    "f[1]\n",
    "for i in f:print(i)\n",
    "\n"
   ],
   "metadata": {
    "collapsed": false,
    "pycharm": {
     "name": "#%%\n"
    }
   }
  },
  {
   "cell_type": "code",
   "execution_count": 217,
   "outputs": [
    {
     "data": {
      "text/plain": "[8, 6, 0, 9, 5, 1, 4, 3, 7, 2]"
     },
     "execution_count": 217,
     "metadata": {},
     "output_type": "execute_result"
    }
   ],
   "source": [
    "from random import shuffle\n",
    "l=list(range(10))\n",
    "shuffle(l)\n",
    "l\n",
    "\n"
   ],
   "metadata": {
    "collapsed": false,
    "pycharm": {
     "name": "#%%\n"
    }
   }
  },
  {
   "cell_type": "code",
   "execution_count": 222,
   "outputs": [
    {
     "name": "stdout",
     "output_type": "stream",
     "text": [
      "<class 'range'>\n"
     ]
    },
    {
     "data": {
      "text/plain": "[0, 1, 2, 3, 4, 5, 6, 7, 8, 9]"
     },
     "execution_count": 222,
     "metadata": {},
     "output_type": "execute_result"
    }
   ],
   "source": [
    "s=range(10)\n",
    "print(type(s))\n",
    "m=list(range(10))\n",
    "m"
   ],
   "metadata": {
    "collapsed": false,
    "pycharm": {
     "name": "#%%\n"
    }
   }
  },
  {
   "cell_type": "code",
   "execution_count": 225,
   "outputs": [
    {
     "name": "stdout",
     "output_type": "stream",
     "text": [
      "The\n",
      "time\n",
      "has\n",
      "come\n",
      "the\n",
      "Walrus\n",
      "said\n"
     ]
    }
   ],
   "source": [
    "import re\n",
    "import reprlib\n",
    "RE_WORD = re.compile('\\w+')\n",
    "class Sentence:\n",
    "    def __init__(self, text):\n",
    "        self.text = text\n",
    "        self.words = RE_WORD.findall(text)\n",
    "    def __getitem__(self, index):\n",
    "        return self.words[index]\n",
    "    def __len__(self):\n",
    "        return len(self.words)\n",
    "    def __repr__(self):\n",
    "        return 'Sentence(%s)' % reprlib.repr(self.text)\n",
    "\n",
    "s = Sentence('\"The time has come,\" the Walrus said,')\n",
    "s\n",
    "for word in s:\n",
    "    print(word)"
   ],
   "metadata": {
    "collapsed": false,
    "pycharm": {
     "name": "#%%\n"
    }
   }
  },
  {
   "cell_type": "code",
   "execution_count": 232,
   "outputs": [
    {
     "name": "stdout",
     "output_type": "stream",
     "text": [
      "[0, 1, 2]\n"
     ]
    },
    {
     "data": {
      "text/plain": "[Fraction(0, 1),\n Fraction(1, 3),\n Fraction(2, 3),\n Fraction(1, 1),\n Fraction(4, 3),\n Fraction(5, 3),\n Fraction(2, 1),\n Fraction(7, 3),\n Fraction(8, 3)]"
     },
     "execution_count": 232,
     "metadata": {},
     "output_type": "execute_result"
    }
   ],
   "source": [
    "class ArithmeticProgression:\n",
    "    def __init__(self, begin, step, end=None):\n",
    "        self.begin = begin\n",
    "        self.step = step\n",
    "        self.end = end # None -> 无穷数列\n",
    "    def __iter__(self):\n",
    "        result = type(self.begin + self.step)(self.begin)\n",
    "        forever = self.end is None\n",
    "        index = 0\n",
    "        while forever or result < self.end:\n",
    "            yield result\n",
    "            index += 1\n",
    "            result = self.begin + self.step * index\n",
    "\n",
    "ap=ArithmeticProgression(0,1,3)\n",
    "print(list(ap))\n",
    "\n",
    "ap=ArithmeticProgression(0,.5,3)\n",
    "list(ap)\n",
    "\n",
    "ap=ArithmeticProgression(0,1/3,3)\n",
    "list(ap)\n",
    "\n",
    "from fractions import Fraction\n",
    "ap=ArithmeticProgression(0,Fraction(1,3),3)\n",
    "list(ap)\n"
   ],
   "metadata": {
    "collapsed": false,
    "pycharm": {
     "name": "#%%\n"
    }
   }
  },
  {
   "cell_type": "code",
   "execution_count": 236,
   "outputs": [
    {
     "name": "stdout",
     "output_type": "stream",
     "text": [
      "('A', 0, 'A', 0)\n",
      "('A', 0, 'A', 1)\n",
      "('A', 0, 'B', 0)\n",
      "('A', 0, 'B', 1)\n",
      "('A', 1, 'A', 0)\n",
      "('A', 1, 'A', 1)\n",
      "('A', 1, 'B', 0)\n",
      "('A', 1, 'B', 1)\n",
      "('B', 0, 'A', 0)\n",
      "('B', 0, 'A', 1)\n",
      "('B', 0, 'B', 0)\n",
      "('B', 0, 'B', 1)\n",
      "('B', 1, 'A', 0)\n",
      "('B', 1, 'A', 1)\n",
      "('B', 1, 'B', 0)\n",
      "('B', 1, 'B', 1)\n"
     ]
    },
    {
     "data": {
      "text/plain": "[('L', <itertools._grouper at 0x219c24d79d0>),\n ('A', <itertools._grouper at 0x219c213acd0>),\n ('G', <itertools._grouper at 0x219c213ae20>)]"
     },
     "execution_count": 236,
     "metadata": {},
     "output_type": "execute_result"
    }
   ],
   "source": [
    "import  itertools\n",
    "rows=itertools.product('AB',range(2),repeat=2)\n",
    "for row in rows:\n",
    "    print(row)"
   ],
   "metadata": {
    "collapsed": false,
    "pycharm": {
     "name": "#%%\n"
    }
   }
  },
  {
   "cell_type": "code",
   "execution_count": 240,
   "outputs": [
    {
     "name": "stdout",
     "output_type": "stream",
     "text": [
      "L -> ['L', 'L', 'L']\n",
      "<itertools._grouper object at 0x00000219C22E1DF0>\n",
      "A -> ['A', 'A', 'A', 'A']\n",
      "<itertools._grouper object at 0x00000219C22E1FA0>\n",
      "G -> ['G', 'G']\n",
      "<itertools._grouper object at 0x00000219C03B7880>\n"
     ]
    }
   ],
   "source": [
    "list(itertools.groupby('LLLLAAGGG'))\n",
    "for char,group in itertools.groupby(\"LLLAAAAGG\"):\n",
    "    print(char,'->',list(group))\n",
    "    print(group)\n"
   ],
   "metadata": {
    "collapsed": false,
    "pycharm": {
     "name": "#%%\n"
    }
   }
  },
  {
   "cell_type": "code",
   "execution_count": 246,
   "outputs": [
    {
     "name": "stdout",
     "output_type": "stream",
     "text": [
      "3 ---> ['bat', 'rat']\n",
      "4 ---> ['duck', 'bear', 'lion']\n",
      "5 ---> ['eagle', 'shark']\n",
      "7 ---> ['giraffe', 'dolphin']\n"
     ]
    }
   ],
   "source": [
    "animals = ['duck', 'eagle', 'bat', 'giraffe', 'bear','rat', 'dolphin', 'shark', 'lion']\n",
    "animals.sort(key=len)\n",
    "animals\n",
    "for length,group in itertools.groupby(animals,len):\n",
    "    print(length,\"--->\",list(group))"
   ],
   "metadata": {
    "collapsed": false,
    "pycharm": {
     "name": "#%%\n"
    }
   }
  },
  {
   "cell_type": "code",
   "execution_count": 253,
   "outputs": [
    {
     "data": {
      "text/plain": "[]"
     },
     "execution_count": 253,
     "metadata": {},
     "output_type": "execute_result"
    }
   ],
   "source": [
    "list(itertools.tee('ABC'))\n",
    "g1,g2=itertools.tee('ABC')\n",
    "next(g1)\n",
    "next(g1)\n",
    "next(g1)\n",
    "next(g2)\n",
    "list(g1)\n"
   ],
   "metadata": {
    "collapsed": false,
    "pycharm": {
     "name": "#%%\n"
    }
   }
  },
  {
   "cell_type": "code",
   "execution_count": 258,
   "outputs": [
    {
     "data": {
      "text/plain": "<generator object f at 0x00000219C2A62D60>"
     },
     "execution_count": 258,
     "metadata": {},
     "output_type": "execute_result"
    }
   ],
   "source": [
    "def f():\n",
    "    def do_yield(n):\n",
    "        yield n\n",
    "    x = 0\n",
    "    while True:\n",
    "        x += 1\n",
    "        yield from do_yield(x)\n",
    "f()"
   ],
   "metadata": {
    "collapsed": false,
    "pycharm": {
     "name": "#%%\n"
    }
   }
  },
  {
   "cell_type": "code",
   "execution_count": 262,
   "outputs": [
    {
     "name": "stdout",
     "output_type": "stream",
     "text": [
      "-> coroutine started\n",
      "-> coroutine received: 42\n"
     ]
    },
    {
     "ename": "StopIteration",
     "evalue": "",
     "output_type": "error",
     "traceback": [
      "\u001B[1;31m---------------------------------------------------------------------------\u001B[0m",
      "\u001B[1;31mStopIteration\u001B[0m                             Traceback (most recent call last)",
      "\u001B[1;32m<ipython-input-262-c4b2e0cea41d>\u001B[0m in \u001B[0;36m<module>\u001B[1;34m\u001B[0m\n\u001B[0;32m      7\u001B[0m \u001B[0mmy_coro\u001B[0m\u001B[1;33m\u001B[0m\u001B[1;33m\u001B[0m\u001B[0m\n\u001B[0;32m      8\u001B[0m \u001B[0mnext\u001B[0m\u001B[1;33m(\u001B[0m\u001B[0mmy_coro\u001B[0m\u001B[1;33m)\u001B[0m\u001B[1;33m\u001B[0m\u001B[1;33m\u001B[0m\u001B[0m\n\u001B[1;32m----> 9\u001B[1;33m \u001B[0mmy_coro\u001B[0m\u001B[1;33m.\u001B[0m\u001B[0msend\u001B[0m\u001B[1;33m(\u001B[0m\u001B[1;36m42\u001B[0m\u001B[1;33m)\u001B[0m\u001B[1;33m\u001B[0m\u001B[1;33m\u001B[0m\u001B[0m\n\u001B[0m\u001B[0;32m     10\u001B[0m \u001B[1;33m\u001B[0m\u001B[0m\n",
      "\u001B[1;31mStopIteration\u001B[0m: "
     ]
    }
   ],
   "source": [
    "def simple_coroutine(): # ➊\n",
    "    print('-> coroutine started')\n",
    "    x = yield # ➋\n",
    "    print('-> coroutine received:', x)\n",
    "\n",
    "my_coro=simple_coroutine()\n",
    "my_coro\n",
    "next(my_coro)\n",
    "my_coro.send(42)\n"
   ],
   "metadata": {
    "collapsed": false,
    "pycharm": {
     "name": "#%%\n"
    }
   }
  },
  {
   "cell_type": "code",
   "execution_count": 263,
   "outputs": [
    {
     "ename": "IndentationError",
     "evalue": "expected an indented block (<ipython-input-263-bacd54aad810>, line 4)",
     "output_type": "error",
     "traceback": [
      "\u001B[1;36m  File \u001B[1;32m\"<ipython-input-263-bacd54aad810>\"\u001B[1;36m, line \u001B[1;32m4\u001B[0m\n\u001B[1;33m    \"\"\"装饰器：向前执行到第一个`yield`表达式，预激`func`\"\"\"\u001B[0m\n\u001B[1;37m    ^\u001B[0m\n\u001B[1;31mIndentationError\u001B[0m\u001B[1;31m:\u001B[0m expected an indented block\n"
     ]
    }
   ],
   "source": [
    "from functools import wraps\n",
    "\n",
    "def coroutine(func):\n",
    "\"\"\"装饰器：向前执行到第一个`yield`表达式，预激`func`\"\"\"\n",
    "@wraps(func)\n",
    "def primer(*args,**kwargs):\n",
    "    gen = func(*args,**kwargs)\n",
    "    next(gen)\n",
    "    return gen\n",
    "return primer"
   ],
   "metadata": {
    "collapsed": false,
    "pycharm": {
     "name": "#%%\n"
    }
   }
  },
  {
   "cell_type": "code",
   "execution_count": null,
   "outputs": [],
   "source": [
    "\n"
   ],
   "metadata": {
    "collapsed": false,
    "pycharm": {
     "name": "#%%\n"
    }
   }
  }
 ],
 "metadata": {
  "kernelspec": {
   "display_name": "Python 3",
   "language": "python",
   "name": "python3"
  },
  "language_info": {
   "codemirror_mode": {
    "name": "ipython",
    "version": 2
   },
   "file_extension": ".py",
   "mimetype": "text/x-python",
   "name": "python",
   "nbconvert_exporter": "python",
   "pygments_lexer": "ipython2",
   "version": "2.7.6"
  }
 },
 "nbformat": 4,
 "nbformat_minor": 0
}